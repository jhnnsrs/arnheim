{
 "cells": [
  {
   "cell_type": "code",
   "execution_count": 11,
   "metadata": {},
   "outputs": [],
   "source": [
    "import matplotlib.pyplot as plt\n",
    "import numpy as np\n",
    "import dask.array as da\n",
    "import zarr as zr\n",
    "import xarray as xr\n",
    "import django\n",
    "from dask.distributed import Client, progress\n",
    "import json\n",
    "import dask_image.ndfilters\n",
    "\n",
    "django.setup()\n",
    "from elements.models import Representation\n",
    "from transformers.models import Transforming"
   ]
  },
  {
   "cell_type": "code",
   "execution_count": 8,
   "metadata": {},
   "outputs": [],
   "source": [
    "trans = Transforming.objects.first()"
   ]
  },
  {
   "cell_type": "code",
   "execution_count": 44,
   "metadata": {},
   "outputs": [],
   "source": [
    "maxisp = trans.representation.array.sel(t=0).compute(scheduler=\"threads\")"
   ]
  },
  {
   "cell_type": "code",
   "execution_count": 13,
   "metadata": {},
   "outputs": [],
   "source": [
    "vectors = json.loads(trans.roi.vectors)"
   ]
  },
  {
   "cell_type": "code",
   "execution_count": 43,
   "metadata": {},
   "outputs": [
    {
     "name": "stderr",
     "output_type": "stream",
     "text": [
      "2020-03-05 16:53:53,916 [larvik.extenders] INFO     Making DataArrays Look Beautiful\n",
      "2020-03-05 16:53:53,918 [larvik.extenders] INFO     Extending DataArray\n"
     ]
    }
   ],
   "source": [
    "import larvik.extenders"
   ]
  },
  {
   "cell_type": "code",
   "execution_count": 49,
   "metadata": {},
   "outputs": [],
   "source": [
    "from elements.models import Transformation"
   ]
  },
  {
   "cell_type": "code",
   "execution_count": null,
   "metadata": {},
   "outputs": [],
   "source": []
  },
  {
   "cell_type": "code",
   "execution_count": 58,
   "metadata": {},
   "outputs": [],
   "source": [
    "trans = Transformation.objects.all().last()"
   ]
  },
  {
   "cell_type": "code",
   "execution_count": 61,
   "metadata": {},
   "outputs": [
    {
     "data": {
      "text/plain": [
       "1"
      ]
     },
     "execution_count": 61,
     "metadata": {},
     "output_type": "execute_result"
    }
   ],
   "source": [
    "trans.representation.sample.id"
   ]
  },
  {
   "cell_type": "code",
   "execution_count": 65,
   "metadata": {},
   "outputs": [
    {
     "data": {
      "text/html": [
       "<div>\n",
       "<style scoped>\n",
       "    .dataframe tbody tr th:only-of-type {\n",
       "        vertical-align: middle;\n",
       "    }\n",
       "\n",
       "    .dataframe tbody tr th {\n",
       "        vertical-align: top;\n",
       "    }\n",
       "\n",
       "    .dataframe thead th {\n",
       "        text-align: right;\n",
       "    }\n",
       "</style>\n",
       "<table border=\"1\" class=\"dataframe\">\n",
       "  <thead>\n",
       "    <tr style=\"text-align: right;\">\n",
       "      <th></th>\n",
       "      <th>Index</th>\n",
       "      <th>Name</th>\n",
       "      <th>EmissionWavelength</th>\n",
       "      <th>ExcitationWavelength</th>\n",
       "      <th>IlluminationType</th>\n",
       "      <th>AcquisitionMode</th>\n",
       "      <th>Color</th>\n",
       "      <th>SamplesPerPixel</th>\n",
       "    </tr>\n",
       "  </thead>\n",
       "  <tbody>\n",
       "    <tr>\n",
       "      <th>0</th>\n",
       "      <td>0</td>\n",
       "      <td>Ch1-T1</td>\n",
       "      <td>518.0</td>\n",
       "      <td>488.0</td>\n",
       "      <td>Epifluorescence</td>\n",
       "      <td>LaserScanningConfocalMicroscopy</td>\n",
       "      <td>16711935</td>\n",
       "      <td>1</td>\n",
       "    </tr>\n",
       "    <tr>\n",
       "      <th>1</th>\n",
       "      <td>1</td>\n",
       "      <td>Ch1-T2</td>\n",
       "      <td>585.0</td>\n",
       "      <td>555.0</td>\n",
       "      <td>Epifluorescence</td>\n",
       "      <td>LaserScanningConfocalMicroscopy</td>\n",
       "      <td>-16776961</td>\n",
       "      <td>1</td>\n",
       "    </tr>\n",
       "  </tbody>\n",
       "</table>\n",
       "</div>"
      ],
      "text/plain": [
       "   Index    Name  EmissionWavelength  ExcitationWavelength IlluminationType  \\\n",
       "0      0  Ch1-T1               518.0                 488.0  Epifluorescence   \n",
       "1      1  Ch1-T2               585.0                 555.0  Epifluorescence   \n",
       "\n",
       "                   AcquisitionMode      Color  SamplesPerPixel  \n",
       "0  LaserScanningConfocalMicroscopy   16711935                1  \n",
       "1  LaserScanningConfocalMicroscopy  -16776961                1  "
      ]
     },
     "execution_count": 65,
     "metadata": {},
     "output_type": "execute_result"
    }
   ],
   "source": [
    "trans.array.biometa.channels.compute()"
   ]
  },
  {
   "cell_type": "code",
   "execution_count": 59,
   "metadata": {},
   "outputs": [
    {
     "data": {
      "text/plain": [
       "<matplotlib.image.AxesImage at 0x7f0c60404438>"
      ]
     },
     "execution_count": 59,
     "metadata": {},
     "output_type": "execute_result"
    },
    {
     "data": {
      "image/png": "[encoded data removed]",
      "text/plain": [
       "<Figure size 1080x250.435 with 2 Axes>"
      ]
     },
     "metadata": {
      "needs_background": "light"
     },
     "output_type": "display_data"
    }
   ],
   "source": [
    "trans.array.biom"
   ]
  },
  {
   "cell_type": "code",
   "execution_count": 48,
   "metadata": {},
   "outputs": [
    {
     "data": {
      "text/plain": [
       "0.049345442271087926"
      ]
     },
     "execution_count": 48,
     "metadata": {},
     "output_type": "execute_result"
    }
   ],
   "source": [
    "y = float(maxisp.biometa.scan[\"PhysicalSizeX\"])\n",
    "x = float(maxisp.biometa.scan[\"PhysicalSizeY\"])"
   ]
  },
  {
   "cell_type": "code",
   "execution_count": 35,
   "metadata": {},
   "outputs": [
    {
     "ename": "ModuleNotFoundError",
     "evalue": "No module named 'cv2'",
     "output_type": "error",
     "traceback": [
      "\u001b[0;31m---------------------------------------------------------------------------\u001b[0m",
      "\u001b[0;31mModuleNotFoundError\u001b[0m                       Traceback (most recent call last)",
      "\u001b[0;32m<ipython-input-35-c28a38feccb5>\u001b[0m in \u001b[0;36m<module>\u001b[0;34m\u001b[0m\n\u001b[0;32m----> 1\u001b[0;31m \u001b[0;32mimport\u001b[0m \u001b[0mcv2\u001b[0m\u001b[0;34m\u001b[0m\u001b[0;34m\u001b[0m\u001b[0m\n\u001b[0m\u001b[1;32m      2\u001b[0m \u001b[0;32mfrom\u001b[0m \u001b[0mtransformers\u001b[0m\u001b[0;34m.\u001b[0m\u001b[0mlogic\u001b[0m\u001b[0;34m.\u001b[0m\u001b[0mlinerectifier_logic\u001b[0m \u001b[0;32mimport\u001b[0m \u001b[0mtranslateImageFromLine\u001b[0m\u001b[0;34m\u001b[0m\u001b[0;34m\u001b[0m\u001b[0m\n\u001b[1;32m      3\u001b[0m \u001b[0;34m\u001b[0m\u001b[0m\n\u001b[1;32m      4\u001b[0m \u001b[0marray\u001b[0m \u001b[0;34m=\u001b[0m \u001b[0mnp\u001b[0m\u001b[0;34m.\u001b[0m\u001b[0mfloat64\u001b[0m\u001b[0;34m(\u001b[0m\u001b[0mmaxisp\u001b[0m\u001b[0;34m)\u001b[0m\u001b[0;34m\u001b[0m\u001b[0;34m\u001b[0m\u001b[0m\n\u001b[1;32m      5\u001b[0m \u001b[0mimage\u001b[0m\u001b[0;34m,\u001b[0m \u001b[0mboxwidths\u001b[0m\u001b[0;34m,\u001b[0m \u001b[0mpixelwidths\u001b[0m\u001b[0;34m,\u001b[0m \u001b[0mboxes\u001b[0m \u001b[0;34m=\u001b[0m \u001b[0mtranslateImageFromLine\u001b[0m\u001b[0;34m(\u001b[0m\u001b[0marray\u001b[0m\u001b[0;34m,\u001b[0m \u001b[0mvertices\u001b[0m\u001b[0;34m,\u001b[0m \u001b[0msettings\u001b[0m\u001b[0;34m.\u001b[0m\u001b[0mget\u001b[0m\u001b[0;34m(\u001b[0m\u001b[0;34m\"scale\"\u001b[0m\u001b[0;34m,\u001b[0m \u001b[0;36m10\u001b[0m\u001b[0;34m)\u001b[0m\u001b[0;34m)\u001b[0m\u001b[0;34m\u001b[0m\u001b[0;34m\u001b[0m\u001b[0m\n",
      "\u001b[0;31mModuleNotFoundError\u001b[0m: No module named 'cv2'"
     ]
    }
   ],
   "source": [
    "import cv2\n",
    "from transformers.logic.linerectifier_logic import translateImageFromLine\n",
    "\n",
    "array = np.float64(maxisp)\n",
    "image, boxwidths, pixelwidths, boxes = translateImageFromLine(array, vertices, settings.get(\"scale\", 10))"
   ]
  },
  {
   "cell_type": "code",
   "execution_count": 22,
   "metadata": {},
   "outputs": [
    {
     "data": {
      "text/plain": [
       "([[array([108.41020921, 135.66654394]),\n",
       "   array([115.58979079, 154.33345606]),\n",
       "   array([128.58979079, 149.33345606]),\n",
       "   array([121.41020921, 130.66654394])],\n",
       "  [array([122.25278872, 130.38476052]),\n",
       "   array([127.74721128, 149.61523948]),\n",
       "   array([134.74721128, 147.61523948]),\n",
       "   array([129.25278872, 128.38476052])],\n",
       "  [array([130.75965265, 128.07722123]),\n",
       "   array([133.24034735, 147.92277877]),\n",
       "   array([141.24034735, 146.92277877]),\n",
       "   array([138.75965265, 127.07722123])],\n",
       "  [array([138.89568474, 127.06116265]),\n",
       "   array([141.10431526, 146.93883735]),\n",
       "   array([150.10431526, 145.93883735]),\n",
       "   array([147.89568474, 126.06116265])],\n",
       "  [array([149., 126.]),\n",
       "   array([149., 146.]),\n",
       "   array([155., 146.]),\n",
       "   array([155., 126.])],\n",
       "  [array([149.45299804, 127.67949706]),\n",
       "   array([160.54700196, 144.32050294]),\n",
       "   array([163.54700196, 142.32050294]),\n",
       "   array([152.45299804, 125.67949706])]],\n",
       " [13.92838827718412,\n",
       "  7.280109889280518,\n",
       "  8.06225774829855,\n",
       "  9.055385138137417,\n",
       "  6.0,\n",
       "  3.605551275463989])"
      ]
     },
     "execution_count": 22,
     "metadata": {},
     "output_type": "execute_result"
    }
   ],
   "source": [
    "scale = 10\n",
    "\n",
    "def getScaledOrtho(vertices, scale):\n",
    "    '''Gets the 2D Orthogonal do the vertices provided'''\n",
    "    perp = np.empty_like(vertices)\n",
    "    perp[0] = -vertices[1]\n",
    "    perp[1] = vertices[0]\n",
    "\n",
    "    perpnorm = perp / np.linalg.norm(perp)\n",
    "    perpscaled = perpnorm * scale\n",
    "    return perpscaled\n",
    "\n",
    "\n",
    "\n",
    "\n",
    "\n",
    "line = np.array([[item[\"x\"],item[\"y\"]] for item in vectors])\n",
    "boxes = []\n",
    "boxeswidths = []\n",
    "for pos in range(len(line)-1):\n",
    "    a = line[pos]\n",
    "    b = line[pos+1]\n",
    "\n",
    "    if a[0] != b[0] or a[1] != b[1]:\n",
    "        perpnew = getScaledOrtho(a - b, scale=scale)\n",
    "\n",
    "        c1 = a + perpnew\n",
    "        c2 = a - perpnew\n",
    "        c3 = b - perpnew\n",
    "        c4 = b + perpnew\n",
    "        width = np.linalg.norm(a - b)\n",
    "        verts = [c1, c2, c3, c4]\n",
    "\n",
    "        boxes.append(verts)\n",
    "        boxeswidths.append(width)\n",
    "\n",
    "boxes,boxeswidths"
   ]
  },
  {
   "cell_type": "code",
   "execution_count": 24,
   "metadata": {},
   "outputs": [
    {
     "data": {
      "text/plain": [
       "[[array([108.41020921, 135.66654394]),\n",
       "  array([115.58979079, 154.33345606]),\n",
       "  array([128.58979079, 149.33345606]),\n",
       "  array([121.41020921, 130.66654394])],\n",
       " [array([122.25278872, 130.38476052]),\n",
       "  array([127.74721128, 149.61523948]),\n",
       "  array([134.74721128, 147.61523948]),\n",
       "  array([129.25278872, 128.38476052])],\n",
       " [array([130.75965265, 128.07722123]),\n",
       "  array([133.24034735, 147.92277877]),\n",
       "  array([141.24034735, 146.92277877]),\n",
       "  array([138.75965265, 127.07722123])],\n",
       " [array([138.89568474, 127.06116265]),\n",
       "  array([141.10431526, 146.93883735]),\n",
       "  array([150.10431526, 145.93883735]),\n",
       "  array([147.89568474, 126.06116265])],\n",
       " [array([149., 126.]),\n",
       "  array([149., 146.]),\n",
       "  array([155., 146.]),\n",
       "  array([155., 126.])],\n",
       " [array([149.45299804, 127.67949706]),\n",
       "  array([160.54700196, 144.32050294]),\n",
       "  array([163.54700196, 142.32050294]),\n",
       "  array([152.45299804, 125.67949706])]]"
      ]
     },
     "execution_count": 24,
     "metadata": {},
     "output_type": "execute_result"
    }
   ],
   "source": [
    "boxes"
   ]
  },
  {
   "cell_type": "code",
   "execution_count": 28,
   "metadata": {},
   "outputs": [],
   "source": [
    "def getPerspectiveTransform(sourcePoints, destinationPoints):\n",
    "    \"\"\"\n",
    "    Calculates the 3x3 matrix to transform the four source points to the four destination points\n",
    "\n",
    "    Comment copied from OpenCV:\n",
    "    /* Calculates coefficients of perspective transformation\n",
    "    * which maps soruce (xi,yi) to destination (ui,vi), (i=1,2,3,4):\n",
    "    *\n",
    "    *      c00*xi + c01*yi + c02\n",
    "    * ui = ---------------------\n",
    "    *      c20*xi + c21*yi + c22\n",
    "    *\n",
    "    *      c10*xi + c11*yi + c12\n",
    "    * vi = ---------------------\n",
    "    *      c20*xi + c21*yi + c22\n",
    "    *\n",
    "    * Coefficients are calculated by solving linear system:\n",
    "    *             a                         x    b\n",
    "    * / x0 y0  1  0  0  0 -x0*u0 -y0*u0 \\ /c00\\ /u0\\\n",
    "    * | x1 y1  1  0  0  0 -x1*u1 -y1*u1 | |c01| |u1|\n",
    "    * | x2 y2  1  0  0  0 -x2*u2 -y2*u2 | |c02| |u2|\n",
    "    * | x3 y3  1  0  0  0 -x3*u3 -y3*u3 |.|c10|=|u3|,\n",
    "    * |  0  0  0 x0 y0  1 -x0*v0 -y0*v0 | |c11| |v0|\n",
    "    * |  0  0  0 x1 y1  1 -x1*v1 -y1*v1 | |c12| |v1|\n",
    "    * |  0  0  0 x2 y2  1 -x2*v2 -y2*v2 | |c20| |v2|\n",
    "    * \\  0  0  0 x3 y3  1 -x3*v3 -y3*v3 / \\c21/ \\v3/\n",
    "    *\n",
    "    * where:\n",
    "    *   cij - matrix coefficients, c22 = 1\n",
    "    */\n",
    "\n",
    "    \"\"\"\n",
    "    if sourcePoints.shape != (4,2) or destinationPoints.shape != (4,2):\n",
    "        raise ValueError(\"There must be four source points and four destination points\")\n",
    "\n",
    "    a = np.zeros((8, 8))\n",
    "    b = np.zeros((8))\n",
    "    for i in range(4):\n",
    "        a[i][0] = a[i+4][3] = sourcePoints[i][0]\n",
    "        a[i][1] = a[i+4][4] = sourcePoints[i][1]\n",
    "        a[i][2] = a[i+4][5] = 1\n",
    "        a[i][3] = a[i][4] = a[i][5] = 0\n",
    "        a[i+4][0] = a[i+4][1] = a[i+4][2] = 0\n",
    "        a[i][6] = -sourcePoints[i][0]*destinationPoints[i][0]\n",
    "        a[i][7] = -sourcePoints[i][1]*destinationPoints[i][0]\n",
    "        a[i+4][6] = -sourcePoints[i][0]*destinationPoints[i][1]\n",
    "        a[i+4][7] = -sourcePoints[i][1]*destinationPoints[i][1]\n",
    "        b[i] = destinationPoints[i][0]\n",
    "        b[i+4] = destinationPoints[i][1]\n",
    "\n",
    "    x = np.linalg.solve(a, b)\n",
    "    x.resize((9,), refcheck=False)\n",
    "    x[8] = 1 # Set c22 to 1 as indicated in comment above\n",
    "    return x.reshape((3,3))"
   ]
  },
  {
   "cell_type": "code",
   "execution_count": 30,
   "metadata": {},
   "outputs": [
    {
     "name": "stdout",
     "output_type": "stream",
     "text": [
      "[[ 9.33350128e-01 -3.58980994e-01 -5.24829701e+01]\n",
      " [-3.58980798e-01 -9.33350623e-01  1.85541737e+02]\n",
      " [ 1.83528254e-08  2.03292848e-08  1.00000000e+00]]\n",
      "[[ 9.61524004e-01 -2.74720926e-01 -8.17295709e+01]\n",
      " [-2.74721290e-01 -9.61524515e-01  1.78953593e+02]\n",
      " [-1.34064685e-17 -2.51371893e-18  1.00000000e+00]]\n",
      "[[ 9.92277949e-01 -1.24034171e-01 -1.13863974e+02]\n",
      " [-1.24034787e-01 -9.92278297e-01  1.63306997e+02]\n",
      " [ 1.09314277e-17 -1.36642013e-18  1.00000000e+00]]\n",
      "[[ 9.93883854e-01 -1.10430904e-01 -1.24014705e+02]\n",
      " [-1.10431516e-01 -9.93883643e-01  1.61622475e+02]\n",
      " [-1.08314449e-18 -9.74830045e-18  1.00000000e+00]]\n",
      "[[ 1.00000000e+00 -0.00000000e+00 -1.49000000e+02]\n",
      " [-9.16829336e-16 -1.00000000e+00  1.46000000e+02]\n",
      " [-1.48029737e-17  0.00000000e+00  1.00000000e+00]]\n",
      "[[ 8.32050404e-01 -5.54700015e-01 -5.35286127e+01]\n",
      " [-5.54700509e-01 -8.32050764e-01  2.09137480e+02]\n",
      " [-3.41607245e-16 -2.01548420e-16  1.00000000e+00]]\n"
     ]
    }
   ],
   "source": [
    "for box in boxes:\n",
    "    height = scale * 2\n",
    "    width = np.linalg.norm(box[1] - box[2])\n",
    "\n",
    "    pts1 = np.float32(box)\n",
    "    pts2 = np.float32([[0, height], [0, 0], [width, 0], [width, height]])\n",
    "    \n",
    "    M = getPerspectiveTransform(pts1, pts2)\n",
    "    print(M)"
   ]
  },
  {
   "cell_type": "code",
   "execution_count": 17,
   "metadata": {},
   "outputs": [],
   "source": [
    "from scipy.ndimage import affine_transform"
   ]
  }
 ],
 "metadata": {
  "kernelspec": {
   "display_name": "Python 3",
   "language": "python",
   "name": "python3"
  },
  "language_info": {
   "codemirror_mode": {
    "name": "ipython",
    "version": 3
   },
   "file_extension": ".py",
   "mimetype": "text/x-python",
   "name": "python",
   "nbconvert_exporter": "python",
   "pygments_lexer": "ipython3",
   "version": "3.7.3"
  }
 },
 "nbformat": 4,
 "nbformat_minor": 4
}

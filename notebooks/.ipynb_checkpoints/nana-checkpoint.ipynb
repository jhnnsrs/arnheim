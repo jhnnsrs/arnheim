{
 "cells": [
  {
   "cell_type": "code",
   "execution_count": 11,
   "metadata": {},
   "outputs": [],
   "source": [
    "import matplotlib.pyplot as plt\n",
    "import numpy as np\n",
    "import dask.array as da\n",
    "import zarr as zr\n",
    "import xarray as xr\n",
    "import django\n",
    "from dask.distributed import Client, progress\n",
    "import json\n",
    "import dask_image.ndfilters\n",
    "\n",
    "django.setup()\n",
    "from elements.models import Representation\n",
    "from transformers.models import Transforming"
   ]
  },
  {
   "cell_type": "code",
   "execution_count": 8,
   "metadata": {},
   "outputs": [],
   "source": [
    "trans = Transforming.objects.first()"
   ]
  },
  {
   "cell_type": "code",
   "execution_count": 9,
   "metadata": {},
   "outputs": [
    {
     "data": {
      "text/html": [
       "<pre>&lt;xarray.DataArray &#x27;Max ISP of Initial Stack&#x27; (x: 1256, y: 1256, c: 2, t: 1)&gt;\n",
       "dask.array&lt;zarr, shape=(1256, 1256, 2, 1), dtype=float64, chunksize=(157, 314, 1, 1), chunktype=numpy.ndarray&gt;\n",
       "Coordinates:\n",
       "  * c         (c) int64 0 1\n",
       "    channels  (c) [(&#x27;Index&#x27;, &#x27;&lt;i8&#x27;), (&#x27;Name&#x27;, &#x27;&lt;U250&#x27;), (&#x27;EmissionWavelength&#x27;, &#x27;&lt;f8&#x27;), (&#x27;ExcitationWavelength&#x27;, &#x27;&lt;f8&#x27;), (&#x27;IlluminationType&#x27;, &#x27;&lt;U250&#x27;), (&#x27;AcquisitionMode&#x27;, &#x27;&lt;U250&#x27;), (&#x27;Color&#x27;, &#x27;&lt;U250&#x27;), (&#x27;SamplesPerPixel&#x27;, &#x27;&lt;i8&#x27;)] dask.array&lt;chunksize=(2,), meta=np.ndarray&gt;\n",
       "    physt     (t) float64 dask.array&lt;chunksize=(1,), meta=np.ndarray&gt;\n",
       "    physx     (x) float64 dask.array&lt;chunksize=(1256,), meta=np.ndarray&gt;\n",
       "    physy     (y) float64 dask.array&lt;chunksize=(1256,), meta=np.ndarray&gt;\n",
       "  * t         (t) int64 0\n",
       "  * x         (x) int64 0 1 2 3 4 5 6 7 ... 1249 1250 1251 1252 1253 1254 1255\n",
       "  * y         (y) int64 0 1 2 3 4 5 6 7 ... 1249 1250 1251 1252 1253 1254 1255\n",
       "Attributes:\n",
       "    scan:        [{&#x27;DimensionOrder&#x27;: &#x27;XYCZT&#x27;, &#x27;PhysicalSizeX&#x27;: 0.049345442271...\n",
       "    seriesname:  APV-CA1-#1_AnkG-488_Neun594 #1</pre>"
      ],
      "text/plain": [
       "<xarray.DataArray 'Max ISP of Initial Stack' (x: 1256, y: 1256, c: 2, t: 1)>\n",
       "dask.array<zarr, shape=(1256, 1256, 2, 1), dtype=float64, chunksize=(157, 314, 1, 1), chunktype=numpy.ndarray>\n",
       "Coordinates:\n",
       "  * c         (c) int64 0 1\n",
       "    channels  (c) [('Index', '<i8'), ('Name', '<U250'), ('EmissionWavelength', '<f8'), ('ExcitationWavelength', '<f8'), ('IlluminationType', '<U250'), ('AcquisitionMode', '<U250'), ('Color', '<U250'), ('SamplesPerPixel', '<i8')] dask.array<chunksize=(2,), meta=np.ndarray>\n",
       "    physt     (t) float64 dask.array<chunksize=(1,), meta=np.ndarray>\n",
       "    physx     (x) float64 dask.array<chunksize=(1256,), meta=np.ndarray>\n",
       "    physy     (y) float64 dask.array<chunksize=(1256,), meta=np.ndarray>\n",
       "  * t         (t) int64 0\n",
       "  * x         (x) int64 0 1 2 3 4 5 6 7 ... 1249 1250 1251 1252 1253 1254 1255\n",
       "  * y         (y) int64 0 1 2 3 4 5 6 7 ... 1249 1250 1251 1252 1253 1254 1255\n",
       "Attributes:\n",
       "    scan:        [{'DimensionOrder': 'XYCZT', 'PhysicalSizeX': 0.049345442271...\n",
       "    seriesname:  APV-CA1-#1_AnkG-488_Neun594 #1"
      ]
     },
     "execution_count": 9,
     "metadata": {},
     "output_type": "execute_result"
    }
   ],
   "source": [
    "trans.representation.array"
   ]
  },
  {
   "cell_type": "code",
   "execution_count": 13,
   "metadata": {},
   "outputs": [],
   "source": [
    "vectors = json.loads(trans.roi.vectors)"
   ]
  },
  {
   "cell_type": "code",
   "execution_count": 22,
   "metadata": {},
   "outputs": [
    {
     "data": {
      "text/plain": [
       "([[array([108.41020921, 135.66654394]),\n",
       "   array([115.58979079, 154.33345606]),\n",
       "   array([128.58979079, 149.33345606]),\n",
       "   array([121.41020921, 130.66654394])],\n",
       "  [array([122.25278872, 130.38476052]),\n",
       "   array([127.74721128, 149.61523948]),\n",
       "   array([134.74721128, 147.61523948]),\n",
       "   array([129.25278872, 128.38476052])],\n",
       "  [array([130.75965265, 128.07722123]),\n",
       "   array([133.24034735, 147.92277877]),\n",
       "   array([141.24034735, 146.92277877]),\n",
       "   array([138.75965265, 127.07722123])],\n",
       "  [array([138.89568474, 127.06116265]),\n",
       "   array([141.10431526, 146.93883735]),\n",
       "   array([150.10431526, 145.93883735]),\n",
       "   array([147.89568474, 126.06116265])],\n",
       "  [array([149., 126.]),\n",
       "   array([149., 146.]),\n",
       "   array([155., 146.]),\n",
       "   array([155., 126.])],\n",
       "  [array([149.45299804, 127.67949706]),\n",
       "   array([160.54700196, 144.32050294]),\n",
       "   array([163.54700196, 142.32050294]),\n",
       "   array([152.45299804, 125.67949706])]],\n",
       " [13.92838827718412,\n",
       "  7.280109889280518,\n",
       "  8.06225774829855,\n",
       "  9.055385138137417,\n",
       "  6.0,\n",
       "  3.605551275463989])"
      ]
     },
     "execution_count": 22,
     "metadata": {},
     "output_type": "execute_result"
    }
   ],
   "source": [
    "scale = 10\n",
    "\n",
    "def getScaledOrtho(vertices, scale):\n",
    "    '''Gets the 2D Orthogonal do the vertices provided'''\n",
    "    perp = np.empty_like(vertices)\n",
    "    perp[0] = -vertices[1]\n",
    "    perp[1] = vertices[0]\n",
    "\n",
    "    perpnorm = perp / np.linalg.norm(perp)\n",
    "    perpscaled = perpnorm * scale\n",
    "    return perpscaled\n",
    "\n",
    "\n",
    "\n",
    "\n",
    "\n",
    "line = np.array([[item[\"x\"],item[\"y\"]] for item in vectors])\n",
    "boxes = []\n",
    "boxeswidths = []\n",
    "for pos in range(len(line)-1):\n",
    "    a = line[pos]\n",
    "    b = line[pos+1]\n",
    "\n",
    "    if a[0] != b[0] or a[1] != b[1]:\n",
    "        perpnew = getScaledOrtho(a - b, scale=scale)\n",
    "\n",
    "        c1 = a + perpnew\n",
    "        c2 = a - perpnew\n",
    "        c3 = b - perpnew\n",
    "        c4 = b + perpnew\n",
    "        width = np.linalg.norm(a - b)\n",
    "        verts = [c1, c2, c3, c4]\n",
    "\n",
    "        boxes.append(verts)\n",
    "        boxeswidths.append(width)\n",
    "\n",
    "boxes,boxeswidths"
   ]
  },
  {
   "cell_type": "code",
   "execution_count": 24,
   "metadata": {},
   "outputs": [
    {
     "data": {
      "text/plain": [
       "[[array([108.41020921, 135.66654394]),\n",
       "  array([115.58979079, 154.33345606]),\n",
       "  array([128.58979079, 149.33345606]),\n",
       "  array([121.41020921, 130.66654394])],\n",
       " [array([122.25278872, 130.38476052]),\n",
       "  array([127.74721128, 149.61523948]),\n",
       "  array([134.74721128, 147.61523948]),\n",
       "  array([129.25278872, 128.38476052])],\n",
       " [array([130.75965265, 128.07722123]),\n",
       "  array([133.24034735, 147.92277877]),\n",
       "  array([141.24034735, 146.92277877]),\n",
       "  array([138.75965265, 127.07722123])],\n",
       " [array([138.89568474, 127.06116265]),\n",
       "  array([141.10431526, 146.93883735]),\n",
       "  array([150.10431526, 145.93883735]),\n",
       "  array([147.89568474, 126.06116265])],\n",
       " [array([149., 126.]),\n",
       "  array([149., 146.]),\n",
       "  array([155., 146.]),\n",
       "  array([155., 126.])],\n",
       " [array([149.45299804, 127.67949706]),\n",
       "  array([160.54700196, 144.32050294]),\n",
       "  array([163.54700196, 142.32050294]),\n",
       "  array([152.45299804, 125.67949706])]]"
      ]
     },
     "execution_count": 24,
     "metadata": {},
     "output_type": "execute_result"
    }
   ],
   "source": [
    "boxes"
   ]
  },
  {
   "cell_type": "code",
   "execution_count": 28,
   "metadata": {},
   "outputs": [],
   "source": [
    "def getPerspectiveTransform(sourcePoints, destinationPoints):\n",
    "    \"\"\"\n",
    "    Calculates the 3x3 matrix to transform the four source points to the four destination points\n",
    "\n",
    "    Comment copied from OpenCV:\n",
    "    /* Calculates coefficients of perspective transformation\n",
    "    * which maps soruce (xi,yi) to destination (ui,vi), (i=1,2,3,4):\n",
    "    *\n",
    "    *      c00*xi + c01*yi + c02\n",
    "    * ui = ---------------------\n",
    "    *      c20*xi + c21*yi + c22\n",
    "    *\n",
    "    *      c10*xi + c11*yi + c12\n",
    "    * vi = ---------------------\n",
    "    *      c20*xi + c21*yi + c22\n",
    "    *\n",
    "    * Coefficients are calculated by solving linear system:\n",
    "    *             a                         x    b\n",
    "    * / x0 y0  1  0  0  0 -x0*u0 -y0*u0 \\ /c00\\ /u0\\\n",
    "    * | x1 y1  1  0  0  0 -x1*u1 -y1*u1 | |c01| |u1|\n",
    "    * | x2 y2  1  0  0  0 -x2*u2 -y2*u2 | |c02| |u2|\n",
    "    * | x3 y3  1  0  0  0 -x3*u3 -y3*u3 |.|c10|=|u3|,\n",
    "    * |  0  0  0 x0 y0  1 -x0*v0 -y0*v0 | |c11| |v0|\n",
    "    * |  0  0  0 x1 y1  1 -x1*v1 -y1*v1 | |c12| |v1|\n",
    "    * |  0  0  0 x2 y2  1 -x2*v2 -y2*v2 | |c20| |v2|\n",
    "    * \\  0  0  0 x3 y3  1 -x3*v3 -y3*v3 / \\c21/ \\v3/\n",
    "    *\n",
    "    * where:\n",
    "    *   cij - matrix coefficients, c22 = 1\n",
    "    */\n",
    "\n",
    "    \"\"\"\n",
    "    if sourcePoints.shape != (4,2) or destinationPoints.shape != (4,2):\n",
    "        raise ValueError(\"There must be four source points and four destination points\")\n",
    "\n",
    "    a = np.zeros((8, 8))\n",
    "    b = np.zeros((8))\n",
    "    for i in range(4):\n",
    "        a[i][0] = a[i+4][3] = sourcePoints[i][0]\n",
    "        a[i][1] = a[i+4][4] = sourcePoints[i][1]\n",
    "        a[i][2] = a[i+4][5] = 1\n",
    "        a[i][3] = a[i][4] = a[i][5] = 0\n",
    "        a[i+4][0] = a[i+4][1] = a[i+4][2] = 0\n",
    "        a[i][6] = -sourcePoints[i][0]*destinationPoints[i][0]\n",
    "        a[i][7] = -sourcePoints[i][1]*destinationPoints[i][0]\n",
    "        a[i+4][6] = -sourcePoints[i][0]*destinationPoints[i][1]\n",
    "        a[i+4][7] = -sourcePoints[i][1]*destinationPoints[i][1]\n",
    "        b[i] = destinationPoints[i][0]\n",
    "        b[i+4] = destinationPoints[i][1]\n",
    "\n",
    "    x = np.linalg.solve(a, b)\n",
    "    x.resize((9,), refcheck=False)\n",
    "    x[8] = 1 # Set c22 to 1 as indicated in comment above\n",
    "    return x.reshape((3,3))"
   ]
  },
  {
   "cell_type": "code",
   "execution_count": 30,
   "metadata": {},
   "outputs": [
    {
     "name": "stdout",
     "output_type": "stream",
     "text": [
      "[[ 9.33350128e-01 -3.58980994e-01 -5.24829701e+01]\n",
      " [-3.58980798e-01 -9.33350623e-01  1.85541737e+02]\n",
      " [ 1.83528254e-08  2.03292848e-08  1.00000000e+00]]\n",
      "[[ 9.61524004e-01 -2.74720926e-01 -8.17295709e+01]\n",
      " [-2.74721290e-01 -9.61524515e-01  1.78953593e+02]\n",
      " [-1.34064685e-17 -2.51371893e-18  1.00000000e+00]]\n",
      "[[ 9.92277949e-01 -1.24034171e-01 -1.13863974e+02]\n",
      " [-1.24034787e-01 -9.92278297e-01  1.63306997e+02]\n",
      " [ 1.09314277e-17 -1.36642013e-18  1.00000000e+00]]\n",
      "[[ 9.93883854e-01 -1.10430904e-01 -1.24014705e+02]\n",
      " [-1.10431516e-01 -9.93883643e-01  1.61622475e+02]\n",
      " [-1.08314449e-18 -9.74830045e-18  1.00000000e+00]]\n",
      "[[ 1.00000000e+00 -0.00000000e+00 -1.49000000e+02]\n",
      " [-9.16829336e-16 -1.00000000e+00  1.46000000e+02]\n",
      " [-1.48029737e-17  0.00000000e+00  1.00000000e+00]]\n",
      "[[ 8.32050404e-01 -5.54700015e-01 -5.35286127e+01]\n",
      " [-5.54700509e-01 -8.32050764e-01  2.09137480e+02]\n",
      " [-3.41607245e-16 -2.01548420e-16  1.00000000e+00]]\n"
     ]
    }
   ],
   "source": [
    "for box in boxes:\n",
    "    height = scale * 2\n",
    "    width = np.linalg.norm(box[1] - box[2])\n",
    "\n",
    "    pts1 = np.float32(box)\n",
    "    pts2 = np.float32([[0, height], [0, 0], [width, 0], [width, height]])\n",
    "    \n",
    "    M = getPerspectiveTransform(pts1, pts2)\n",
    "    print(M)"
   ]
  },
  {
   "cell_type": "code",
   "execution_count": 17,
   "metadata": {},
   "outputs": [],
   "source": [
    "from scipy.ndimage import affine_transform"
   ]
  }
 ],
 "metadata": {
  "kernelspec": {
   "display_name": "Python 3",
   "language": "python",
   "name": "python3"
  },
  "language_info": {
   "codemirror_mode": {
    "name": "ipython",
    "version": 3
   },
   "file_extension": ".py",
   "mimetype": "text/x-python",
   "name": "python",
   "nbconvert_exporter": "python",
   "pygments_lexer": "ipython3",
   "version": "3.7.3"
  }
 },
 "nbformat": 4,
 "nbformat_minor": 4
}

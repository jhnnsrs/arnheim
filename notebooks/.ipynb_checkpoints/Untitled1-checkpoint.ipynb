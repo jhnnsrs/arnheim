{
 "cells": [
  {
   "cell_type": "code",
   "execution_count": 1,
   "metadata": {},
   "outputs": [],
   "source": [
    "import django"
   ]
  },
  {
   "cell_type": "code",
   "execution_count": 2,
   "metadata": {},
   "outputs": [
    {
     "name": "stderr",
     "output_type": "stream",
     "text": [
      "2020-03-25 10:52:01,875 [mandal.settings] INFO     Hosting on ['*']\n",
      "2020-03-25 10:52:01,876 [mandal.settings] INFO     Zarr Compression: None\n",
      "2020-03-25 10:52:01,877 [mandal.settings] INFO     Zarr Dtype: <class 'float'>\n",
      "2020-03-25 10:52:01,878 [mandal.settings] INFO     Redis Host: redis\n",
      "2020-03-25 10:52:01,879 [mandal.settings] INFO     Redis Port: 6379\n",
      "2020-03-25 10:52:01,880 [mandal.settings] INFO     Dask Scheduler Port: 5432\n",
      "2020-03-25 10:52:01,881 [mandal.settings] INFO     Dask Scheduler Host: localhost\n",
      "2020-03-25 10:52:01,882 [mandal.settings] INFO     Postgres Port: 5432\n",
      "2020-03-25 10:52:01,882 [mandal.settings] INFO     Postgres Host: postgres\n",
      "2020-03-25 10:52:01,883 [mandal.settings] INFO     Postgres User: hello_django\n",
      "2020-03-25 10:52:01,884 [mandal.settings] INFO     Postgres DB: hello_django_dev\n",
      "2020-03-25 10:52:01,885 [mandal.settings] INFO     Postgres Password: hello_django\n"
     ]
    }
   ],
   "source": [
    "django.setup()"
   ]
  },
  {
   "cell_type": "code",
   "execution_count": 5,
   "metadata": {},
   "outputs": [],
   "source": [
    "from oauth2_provider import models"
   ]
  },
  {
   "cell_type": "code",
   "execution_count": 9,
   "metadata": {},
   "outputs": [],
   "source": [
    "trontheim = models.Application.objects.first()"
   ]
  },
  {
   "cell_type": "code",
   "execution_count": 21,
   "metadata": {},
   "outputs": [
    {
     "data": {
      "text/plain": [
       "'NYGOhGOeIZLNd2zl8PK99voteHz7hI6ciuQSwOf3'"
      ]
     },
     "execution_count": 21,
     "metadata": {},
     "output_type": "execute_result"
    }
   ],
   "source": [
    "trontheim.client_id"
   ]
  },
  {
   "cell_type": "code",
   "execution_count": 23,
   "metadata": {},
   "outputs": [
    {
     "ename": "SyntaxError",
     "evalue": "invalid syntax (<ipython-input-23-eb76beb1132c>, line 6)",
     "output_type": "error",
     "traceback": [
      "\u001b[0;36m  File \u001b[0;32m\"<ipython-input-23-eb76beb1132c>\"\u001b[0;36m, line \u001b[0;32m6\u001b[0m\n\u001b[0;31m    client_secret= \"er4PHHsnF0o8IaxskN2111eGIzP3LAlCkNaopz8b9uYwFV3xzqq6pUZBwjGXdkxbAHmxepNNvFP9kjXn6O1EFI4V41ZKWNlgiMmVnBH5zdJJ8gtz3xUpByHGkaN0Hfmg\")\u001b[0m\n\u001b[0m                ^\u001b[0m\n\u001b[0;31mSyntaxError\u001b[0m\u001b[0;31m:\u001b[0m invalid syntax\n"
     ]
    }
   ],
   "source": [
    "models.Application.objects.create(name=\"Hannes\",\n",
    "                                      user_id=1,\n",
    "                                      client_type=\"confidential\",\n",
    "                                      redirect_uris='http://localhost:3000\\r\\nhttp://trontheim.online',\n",
    "                                    client_id= 'NYGOhGOeIZLNd2zl8PK99voteHz7hI6ciuQSwOf3',\n",
    "                                 client_secret= \"er4PHHsnF0o8IaxskN2111eGIzP3LAlCkNaopz8b9uYwFV3xzqq6pUZBwjGXdkxbAHmxepNNvFP9kjXn6O1EFI4V41ZKWNlgiMmVnBH5zdJJ8gtz3xUpByHGkaN0Hfmg\")"
   ]
  }
 ],
 "metadata": {
  "kernelspec": {
   "display_name": "Python 3",
   "language": "python",
   "name": "python3"
  },
  "language_info": {
   "codemirror_mode": {
    "name": "ipython",
    "version": 3
   },
   "file_extension": ".py",
   "mimetype": "text/x-python",
   "name": "python",
   "nbconvert_exporter": "python",
   "pygments_lexer": "ipython3",
   "version": "3.7.3"
  }
 },
 "nbformat": 4,
 "nbformat_minor": 4
}

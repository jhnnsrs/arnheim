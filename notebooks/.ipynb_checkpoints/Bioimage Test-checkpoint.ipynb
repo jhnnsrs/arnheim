{
 "cells": [
  {
   "cell_type": "code",
   "execution_count": 1,
   "metadata": {},
   "outputs": [
    {
     "name": "stderr",
     "output_type": "stream",
     "text": [
      "2020-03-30 13:52:17,409 [mandal.settings] INFO     Hosting on ['*']\n",
      "2020-03-30 13:52:17,411 [mandal.settings] INFO     Zarr Compression: None\n",
      "2020-03-30 13:52:17,419 [mandal.settings] INFO     Zarr Dtype: <class 'float'>\n",
      "2020-03-30 13:52:17,424 [mandal.settings] INFO     Redis Host: redis\n",
      "2020-03-30 13:52:17,428 [mandal.settings] INFO     Redis Port: 6379\n",
      "2020-03-30 13:52:17,431 [mandal.settings] INFO     Dask Scheduler Port: 5432\n",
      "2020-03-30 13:52:17,433 [mandal.settings] INFO     Dask Scheduler Host: localhost\n",
      "2020-03-30 13:52:17,435 [mandal.settings] INFO     Postgres Port: 5432\n",
      "2020-03-30 13:52:17,436 [mandal.settings] INFO     Postgres Host: postgres\n",
      "2020-03-30 13:52:17,440 [mandal.settings] INFO     Postgres User: hello_django\n",
      "2020-03-30 13:52:17,442 [mandal.settings] INFO     Postgres DB: hello_django_dev\n",
      "2020-03-30 13:52:17,445 [mandal.settings] INFO     Postgres Password: hello_django\n"
     ]
    }
   ],
   "source": [
    "import matplotlib.pyplot as plt\n",
    "import numpy as np\n",
    "import dask.array as da\n",
    "import zarr as zr\n",
    "import django\n",
    "\n",
    "django.setup()\n",
    "import xarray, h5py"
   ]
  },
  {
   "cell_type": "code",
   "execution_count": 2,
   "metadata": {},
   "outputs": [],
   "source": [
    "from bioconverter.models import BioImage"
   ]
  },
  {
   "cell_type": "code",
   "execution_count": 3,
   "metadata": {},
   "outputs": [],
   "source": [
    "bioimage = BioImage.objects.first()"
   ]
  },
  {
   "cell_type": "code",
   "execution_count": 4,
   "metadata": {},
   "outputs": [
    {
     "name": "stdout",
     "output_type": "stream",
     "text": [
      "/tmp/0c4b10cd-79f0-4dbd-9e14-35dae15170d4.nd2\n"
     ]
    }
   ],
   "source": [
    "with bioimage.file.temp as tmpfile:\n",
    "    print(tmpfile)"
   ]
  },
  {
   "cell_type": "code",
   "execution_count": 5,
   "metadata": {},
   "outputs": [],
   "source": [
    "from elements import models\n",
    "import importlib\n",
    "importlib.reload(module)\n",
    "from elements.models import Representation"
   ]
  },
  {
   "cell_type": "code",
   "execution_count": 7,
   "metadata": {},
   "outputs": [
    {
     "data": {
      "text/plain": [
       "<elements.managers.RepresentationManager at 0x7fc5c43edb38>"
      ]
     },
     "execution_count": 7,
     "metadata": {},
     "output_type": "execute_result"
    }
   ],
   "source": [
    "Representation.objects"
   ]
  },
  {
   "cell_type": "code",
   "execution_count": 44,
   "metadata": {},
   "outputs": [],
   "source": [
    "class TemporaryFile(object): \n",
    "    def __init__(self, field, tmp=\"/tmp\"): \n",
    "        self.field = field\n",
    "        self.tmppath = tmp\n",
    "      \n",
    "    def __enter__(self): \n",
    "        import os\n",
    "        import uuid\n",
    "        _, file_extension = os.path.splitext(self.field.name)\n",
    "        self.filename = self.tmppath + \"/\" + str(uuid.uuid4()) + file_extension\n",
    "        with open(self.filename, 'wb+') as destination:\n",
    "            for chunk in self.field.chunks():\n",
    "                destination.write(chunk)\n",
    "\n",
    "        return self.filename\n",
    "    \n",
    "    def __exit__(self, exc_type, exc_value, tb):\n",
    "        import os\n",
    "        os.remove(self.filename)\n",
    "        if exc_type is not None:\n",
    "            traceback.print_exception(exc_type, exc_value, tb)\n",
    "            # return False # uncomment to pass exception through\n",
    "\n",
    "        return True"
   ]
  },
  {
   "cell_type": "code",
   "execution_count": 45,
   "metadata": {},
   "outputs": [
    {
     "name": "stdout",
     "output_type": "stream",
     "text": [
      "/tmp/4532b8ee-8469-4da5-80b8-05108b8006bc.nd2\n"
     ]
    }
   ],
   "source": [
    "with Temporary(bioimage.file,tmp=\"/tmp\") as tmpfile:\n",
    "    print(tmpfile)\n",
    "    \n",
    "    \n",
    "    \n",
    "    \n",
    "    \n",
    "    "
   ]
  },
  {
   "cell_type": "code",
   "execution_count": 26,
   "metadata": {},
   "outputs": [],
   "source": []
  },
  {
   "cell_type": "code",
   "execution_count": 27,
   "metadata": {},
   "outputs": [
    {
     "data": {
      "text/plain": [
       "'/tmp/a019d979-19ef-4e8d-b839-048bd772205f.nd2'"
      ]
     },
     "execution_count": 27,
     "metadata": {},
     "output_type": "execute_result"
    }
   ],
   "source": [
    "nana"
   ]
  },
  {
   "cell_type": "code",
   "execution_count": 12,
   "metadata": {},
   "outputs": [],
   "source": [
    "with open(bioimage.file.name, 'wb+') as destination:\n",
    "        for chunk in bioimage.file.chunks():\n",
    "            destination.write(chunk)"
   ]
  }
 ],
 "metadata": {
  "kernelspec": {
   "display_name": "Python 3",
   "language": "python",
   "name": "python3"
  },
  "language_info": {
   "codemirror_mode": {
    "name": "ipython",
    "version": 3
   },
   "file_extension": ".py",
   "mimetype": "text/x-python",
   "name": "python",
   "nbconvert_exporter": "python",
   "pygments_lexer": "ipython3",
   "version": "3.7.3"
  }
 },
 "nbformat": 4,
 "nbformat_minor": 4
}

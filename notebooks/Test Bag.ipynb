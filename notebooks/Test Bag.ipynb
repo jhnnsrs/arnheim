{
 "cells": [
  {
   "cell_type": "code",
   "execution_count": 1,
   "metadata": {},
   "outputs": [],
   "source": [
    "import numpy as np\n",
    "import xarray as xr\n",
    "import dask.array as da\n",
    "import dask.dataframe as dd\n",
    "import dask.bag as db\n",
    "\n",
    "\n",
    "recordsarray = np.array([('Rex', 9, 81.0), ('Fido', 3, 27.0)], dtype=[('name', 'U10'), ('age', 'i4'), ('weight', 'f4')])\n",
    "channelcoord = xr.DataArray(da.array(recordsarray), dims=[\"c\"])\n",
    "loaded = xr.DataArray(da.zeros((1024,1024,2,1)),dims=[\"x\",\"y\",\"c\",\"z\"], coords={\"channels\": channelcoord})\n",
    "\n",
    "bag = db.from_sequence([loaded, loaded, loaded])"
   ]
  },
  {
   "cell_type": "code",
   "execution_count": 2,
   "metadata": {},
   "outputs": [],
   "source": [
    "import django\n",
    "django.setup()"
   ]
  },
  {
   "cell_type": "code",
   "execution_count": 10,
   "metadata": {},
   "outputs": [],
   "source": [
    "from larvik.models import Zarr\n",
    "from elements.models import Representation"
   ]
  },
  {
   "cell_type": "code",
   "execution_count": 14,
   "metadata": {},
   "outputs": [],
   "source": [
    "nana = Zarr.objects.all()"
   ]
  },
  {
   "cell_type": "code",
   "execution_count": 15,
   "metadata": {},
   "outputs": [
    {
     "data": {
      "text/plain": [
       "<ZarrQuerySet []>"
      ]
     },
     "execution_count": 15,
     "metadata": {},
     "output_type": "execute_result"
    }
   ],
   "source": [
    "nana"
   ]
  },
  {
   "cell_type": "code",
   "execution_count": 13,
   "metadata": {},
   "outputs": [],
   "source": [
    "nana.delete()"
   ]
  },
  {
   "cell_type": "code",
   "execution_count": 4,
   "metadata": {},
   "outputs": [],
   "source": [
    "na = Representation.distributed.all().spread()"
   ]
  },
  {
   "cell_type": "code",
   "execution_count": 11,
   "metadata": {},
   "outputs": [],
   "source": [
    "test = na.take(1)[0].compute()"
   ]
  },
  {
   "cell_type": "code",
   "execution_count": 13,
   "metadata": {},
   "outputs": [
    {
     "ename": "ValueError",
     "evalue": "DataArray must be 2d",
     "output_type": "error",
     "traceback": [
      "\u001b[0;31m---------------------------------------------------------------------------\u001b[0m",
      "\u001b[0;31mValueError\u001b[0m                                Traceback (most recent call last)",
      "\u001b[0;32m<ipython-input-13-596833641f57>\u001b[0m in \u001b[0;36m<module>\u001b[0;34m\u001b[0m\n\u001b[0;32m----> 1\u001b[0;31m \u001b[0mtest\u001b[0m\u001b[0;34m.\u001b[0m\u001b[0mplot\u001b[0m\u001b[0;34m.\u001b[0m\u001b[0mimshow\u001b[0m\u001b[0;34m(\u001b[0m\u001b[0;34m)\u001b[0m\u001b[0;34m\u001b[0m\u001b[0;34m\u001b[0m\u001b[0m\n\u001b[0m",
      "\u001b[0;32m/opt/conda/lib/python3.7/site-packages/xarray/plot/plot.py\u001b[0m in \u001b[0;36mplotmethod\u001b[0;34m(_PlotMethods_obj, x, y, figsize, size, aspect, ax, row, col, col_wrap, xincrease, yincrease, add_colorbar, add_labels, vmin, vmax, cmap, colors, center, robust, extend, levels, infer_intervals, subplot_kws, cbar_ax, cbar_kwargs, xscale, yscale, xticks, yticks, xlim, ylim, norm, **kwargs)\u001b[0m\n\u001b[1;32m    822\u001b[0m         \u001b[0;32mfor\u001b[0m \u001b[0marg\u001b[0m \u001b[0;32min\u001b[0m \u001b[0;34m[\u001b[0m\u001b[0;34m\"_PlotMethods_obj\"\u001b[0m\u001b[0;34m,\u001b[0m \u001b[0;34m\"newplotfunc\"\u001b[0m\u001b[0;34m,\u001b[0m \u001b[0;34m\"kwargs\"\u001b[0m\u001b[0;34m]\u001b[0m\u001b[0;34m:\u001b[0m\u001b[0;34m\u001b[0m\u001b[0;34m\u001b[0m\u001b[0m\n\u001b[1;32m    823\u001b[0m             \u001b[0;32mdel\u001b[0m \u001b[0mallargs\u001b[0m\u001b[0;34m[\u001b[0m\u001b[0marg\u001b[0m\u001b[0;34m]\u001b[0m\u001b[0;34m\u001b[0m\u001b[0;34m\u001b[0m\u001b[0m\n\u001b[0;32m--> 824\u001b[0;31m         \u001b[0;32mreturn\u001b[0m \u001b[0mnewplotfunc\u001b[0m\u001b[0;34m(\u001b[0m\u001b[0;34m**\u001b[0m\u001b[0mallargs\u001b[0m\u001b[0;34m)\u001b[0m\u001b[0;34m\u001b[0m\u001b[0;34m\u001b[0m\u001b[0m\n\u001b[0m\u001b[1;32m    825\u001b[0m \u001b[0;34m\u001b[0m\u001b[0m\n\u001b[1;32m    826\u001b[0m     \u001b[0;31m# Add to class _PlotMethods\u001b[0m\u001b[0;34m\u001b[0m\u001b[0;34m\u001b[0m\u001b[0;34m\u001b[0m\u001b[0m\n",
      "\u001b[0;32m/opt/conda/lib/python3.7/site-packages/xarray/plot/plot.py\u001b[0m in \u001b[0;36mnewplotfunc\u001b[0;34m(darray, x, y, figsize, size, aspect, ax, row, col, col_wrap, xincrease, yincrease, add_colorbar, add_labels, vmin, vmax, cmap, center, robust, extend, levels, infer_intervals, colors, subplot_kws, cbar_ax, cbar_kwargs, xscale, yscale, xticks, yticks, xlim, ylim, norm, **kwargs)\u001b[0m\n\u001b[1;32m    664\u001b[0m \u001b[0;34m\u001b[0m\u001b[0m\n\u001b[1;32m    665\u001b[0m         xlab, ylab = _infer_xy_labels(\n\u001b[0;32m--> 666\u001b[0;31m             \u001b[0mdarray\u001b[0m\u001b[0;34m=\u001b[0m\u001b[0mdarray\u001b[0m\u001b[0;34m,\u001b[0m \u001b[0mx\u001b[0m\u001b[0;34m=\u001b[0m\u001b[0mx\u001b[0m\u001b[0;34m,\u001b[0m \u001b[0my\u001b[0m\u001b[0;34m=\u001b[0m\u001b[0my\u001b[0m\u001b[0;34m,\u001b[0m \u001b[0mimshow\u001b[0m\u001b[0;34m=\u001b[0m\u001b[0mimshow_rgb\u001b[0m\u001b[0;34m,\u001b[0m \u001b[0mrgb\u001b[0m\u001b[0;34m=\u001b[0m\u001b[0mrgb\u001b[0m\u001b[0;34m\u001b[0m\u001b[0;34m\u001b[0m\u001b[0m\n\u001b[0m\u001b[1;32m    667\u001b[0m         )\n\u001b[1;32m    668\u001b[0m \u001b[0;34m\u001b[0m\u001b[0m\n",
      "\u001b[0;32m/opt/conda/lib/python3.7/site-packages/xarray/plot/utils.py\u001b[0m in \u001b[0;36m_infer_xy_labels\u001b[0;34m(darray, x, y, imshow, rgb)\u001b[0m\n\u001b[1;32m    354\u001b[0m     \u001b[0;32mif\u001b[0m \u001b[0mx\u001b[0m \u001b[0;32mis\u001b[0m \u001b[0;32mNone\u001b[0m \u001b[0;32mand\u001b[0m \u001b[0my\u001b[0m \u001b[0;32mis\u001b[0m \u001b[0;32mNone\u001b[0m\u001b[0;34m:\u001b[0m\u001b[0;34m\u001b[0m\u001b[0;34m\u001b[0m\u001b[0m\n\u001b[1;32m    355\u001b[0m         \u001b[0;32mif\u001b[0m \u001b[0mdarray\u001b[0m\u001b[0;34m.\u001b[0m\u001b[0mndim\u001b[0m \u001b[0;34m!=\u001b[0m \u001b[0;36m2\u001b[0m\u001b[0;34m:\u001b[0m\u001b[0;34m\u001b[0m\u001b[0;34m\u001b[0m\u001b[0m\n\u001b[0;32m--> 356\u001b[0;31m             \u001b[0;32mraise\u001b[0m \u001b[0mValueError\u001b[0m\u001b[0;34m(\u001b[0m\u001b[0;34m\"DataArray must be 2d\"\u001b[0m\u001b[0;34m)\u001b[0m\u001b[0;34m\u001b[0m\u001b[0;34m\u001b[0m\u001b[0m\n\u001b[0m\u001b[1;32m    357\u001b[0m         \u001b[0my\u001b[0m\u001b[0;34m,\u001b[0m \u001b[0mx\u001b[0m \u001b[0;34m=\u001b[0m \u001b[0mdarray\u001b[0m\u001b[0;34m.\u001b[0m\u001b[0mdims\u001b[0m\u001b[0;34m\u001b[0m\u001b[0;34m\u001b[0m\u001b[0m\n\u001b[1;32m    358\u001b[0m     \u001b[0;32melif\u001b[0m \u001b[0mx\u001b[0m \u001b[0;32mis\u001b[0m \u001b[0;32mNone\u001b[0m\u001b[0;34m:\u001b[0m\u001b[0;34m\u001b[0m\u001b[0;34m\u001b[0m\u001b[0m\n",
      "\u001b[0;31mValueError\u001b[0m: DataArray must be 2d"
     ]
    }
   ],
   "source": [
    "test.plot.imshow()"
   ]
  },
  {
   "cell_type": "code",
   "execution_count": 10,
   "metadata": {},
   "outputs": [
    {
     "data": {
      "text/html": [
       "<div>\n",
       "<style scoped>\n",
       "    .dataframe tbody tr th:only-of-type {\n",
       "        vertical-align: middle;\n",
       "    }\n",
       "\n",
       "    .dataframe tbody tr th {\n",
       "        vertical-align: top;\n",
       "    }\n",
       "\n",
       "    .dataframe thead th {\n",
       "        text-align: right;\n",
       "    }\n",
       "</style>\n",
       "<table border=\"1\" class=\"dataframe\">\n",
       "  <thead>\n",
       "    <tr style=\"text-align: right;\">\n",
       "      <th></th>\n",
       "      <th>Index</th>\n",
       "      <th>Name</th>\n",
       "      <th>EmissionWavelength</th>\n",
       "      <th>ExcitationWavelength</th>\n",
       "      <th>IlluminationType</th>\n",
       "      <th>AcquisitionMode</th>\n",
       "      <th>Color</th>\n",
       "      <th>SamplesPerPixel</th>\n",
       "      <th>Array</th>\n",
       "    </tr>\n",
       "  </thead>\n",
       "  <tbody>\n",
       "    <tr>\n",
       "      <th>0</th>\n",
       "      <td>0</td>\n",
       "      <td>Ch1-T1</td>\n",
       "      <td>518.0</td>\n",
       "      <td>488.0</td>\n",
       "      <td>Epifluorescence</td>\n",
       "      <td>LaserScanningConfocalMicroscopy</td>\n",
       "      <td>16711935</td>\n",
       "      <td>1</td>\n",
       "      <td>Initial Stack</td>\n",
       "    </tr>\n",
       "    <tr>\n",
       "      <th>1</th>\n",
       "      <td>1</td>\n",
       "      <td>Ch1-T2</td>\n",
       "      <td>585.0</td>\n",
       "      <td>555.0</td>\n",
       "      <td>Epifluorescence</td>\n",
       "      <td>LaserScanningConfocalMicroscopy</td>\n",
       "      <td>-16776961</td>\n",
       "      <td>1</td>\n",
       "      <td>Initial Stack</td>\n",
       "    </tr>\n",
       "    <tr>\n",
       "      <th>0</th>\n",
       "      <td>0</td>\n",
       "      <td>Ch1-T1</td>\n",
       "      <td>518.0</td>\n",
       "      <td>488.0</td>\n",
       "      <td>Epifluorescence</td>\n",
       "      <td>LaserScanningConfocalMicroscopy</td>\n",
       "      <td>16711935</td>\n",
       "      <td>1</td>\n",
       "      <td>Max ISP of Initial Stack</td>\n",
       "    </tr>\n",
       "    <tr>\n",
       "      <th>1</th>\n",
       "      <td>1</td>\n",
       "      <td>Ch1-T2</td>\n",
       "      <td>585.0</td>\n",
       "      <td>555.0</td>\n",
       "      <td>Epifluorescence</td>\n",
       "      <td>LaserScanningConfocalMicroscopy</td>\n",
       "      <td>-16776961</td>\n",
       "      <td>1</td>\n",
       "      <td>Max ISP of Initial Stack</td>\n",
       "    </tr>\n",
       "    <tr>\n",
       "      <th>0</th>\n",
       "      <td>0</td>\n",
       "      <td>Ch1-T1</td>\n",
       "      <td>518.0</td>\n",
       "      <td>488.0</td>\n",
       "      <td>Epifluorescence</td>\n",
       "      <td>LaserScanningConfocalMicroscopy</td>\n",
       "      <td>16711935</td>\n",
       "      <td>1</td>\n",
       "      <td>Max ISP of Initial Stack</td>\n",
       "    </tr>\n",
       "    <tr>\n",
       "      <th>...</th>\n",
       "      <td>...</td>\n",
       "      <td>...</td>\n",
       "      <td>...</td>\n",
       "      <td>...</td>\n",
       "      <td>...</td>\n",
       "      <td>...</td>\n",
       "      <td>...</td>\n",
       "      <td>...</td>\n",
       "      <td>...</td>\n",
       "    </tr>\n",
       "    <tr>\n",
       "      <th>2</th>\n",
       "      <td>2</td>\n",
       "      <td>Alx647</td>\n",
       "      <td>825.0</td>\n",
       "      <td>NaN</td>\n",
       "      <td>None</td>\n",
       "      <td>None</td>\n",
       "      <td>65535</td>\n",
       "      <td>1</td>\n",
       "      <td>Max ISP of Initial Stack</td>\n",
       "    </tr>\n",
       "    <tr>\n",
       "      <th>0</th>\n",
       "      <td>0</td>\n",
       "      <td>Ch1</td>\n",
       "      <td>NaN</td>\n",
       "      <td>NaN</td>\n",
       "      <td>None</td>\n",
       "      <td>None</td>\n",
       "      <td>16711935</td>\n",
       "      <td>1</td>\n",
       "      <td>Max ISP of Initial Stack</td>\n",
       "    </tr>\n",
       "    <tr>\n",
       "      <th>1</th>\n",
       "      <td>1</td>\n",
       "      <td>Ch2</td>\n",
       "      <td>NaN</td>\n",
       "      <td>NaN</td>\n",
       "      <td>None</td>\n",
       "      <td>None</td>\n",
       "      <td>-16776961</td>\n",
       "      <td>1</td>\n",
       "      <td>Max ISP of Initial Stack</td>\n",
       "    </tr>\n",
       "    <tr>\n",
       "      <th>0</th>\n",
       "      <td>0</td>\n",
       "      <td>Ch1</td>\n",
       "      <td>NaN</td>\n",
       "      <td>NaN</td>\n",
       "      <td>None</td>\n",
       "      <td>None</td>\n",
       "      <td>16711935</td>\n",
       "      <td>1</td>\n",
       "      <td>Max ISP of Initial Stack</td>\n",
       "    </tr>\n",
       "    <tr>\n",
       "      <th>1</th>\n",
       "      <td>1</td>\n",
       "      <td>Ch2</td>\n",
       "      <td>NaN</td>\n",
       "      <td>NaN</td>\n",
       "      <td>None</td>\n",
       "      <td>None</td>\n",
       "      <td>-16776961</td>\n",
       "      <td>1</td>\n",
       "      <td>Max ISP of Initial Stack</td>\n",
       "    </tr>\n",
       "  </tbody>\n",
       "</table>\n",
       "<p>61 rows × 9 columns</p>\n",
       "</div>"
      ],
      "text/plain": [
       "    Index    Name  EmissionWavelength  ExcitationWavelength IlluminationType  \\\n",
       "0       0  Ch1-T1               518.0                 488.0  Epifluorescence   \n",
       "1       1  Ch1-T2               585.0                 555.0  Epifluorescence   \n",
       "0       0  Ch1-T1               518.0                 488.0  Epifluorescence   \n",
       "1       1  Ch1-T2               585.0                 555.0  Epifluorescence   \n",
       "0       0  Ch1-T1               518.0                 488.0  Epifluorescence   \n",
       "..    ...     ...                 ...                   ...              ...   \n",
       "2       2  Alx647               825.0                   NaN             None   \n",
       "0       0     Ch1                 NaN                   NaN             None   \n",
       "1       1     Ch2                 NaN                   NaN             None   \n",
       "0       0     Ch1                 NaN                   NaN             None   \n",
       "1       1     Ch2                 NaN                   NaN             None   \n",
       "\n",
       "                    AcquisitionMode      Color  SamplesPerPixel  \\\n",
       "0   LaserScanningConfocalMicroscopy   16711935                1   \n",
       "1   LaserScanningConfocalMicroscopy  -16776961                1   \n",
       "0   LaserScanningConfocalMicroscopy   16711935                1   \n",
       "1   LaserScanningConfocalMicroscopy  -16776961                1   \n",
       "0   LaserScanningConfocalMicroscopy   16711935                1   \n",
       "..                              ...        ...              ...   \n",
       "2                              None      65535                1   \n",
       "0                              None   16711935                1   \n",
       "1                              None  -16776961                1   \n",
       "0                              None   16711935                1   \n",
       "1                              None  -16776961                1   \n",
       "\n",
       "                       Array  \n",
       "0              Initial Stack  \n",
       "1              Initial Stack  \n",
       "0   Max ISP of Initial Stack  \n",
       "1   Max ISP of Initial Stack  \n",
       "0   Max ISP of Initial Stack  \n",
       "..                       ...  \n",
       "2   Max ISP of Initial Stack  \n",
       "0   Max ISP of Initial Stack  \n",
       "1   Max ISP of Initial Stack  \n",
       "0   Max ISP of Initial Stack  \n",
       "1   Max ISP of Initial Stack  \n",
       "\n",
       "[61 rows x 9 columns]"
      ]
     },
     "execution_count": 10,
     "metadata": {},
     "output_type": "execute_result"
    }
   ],
   "source": [
    "df.compute()"
   ]
  },
  {
   "cell_type": "code",
   "execution_count": 25,
   "metadata": {},
   "outputs": [],
   "source": [
    "def get_biometa(array):\n",
    "            df = dd.from_dask_array(array.channels.data)\n",
    "            df[\"Array\"] = array.name\n",
    "            return df\n",
    "\n",
    "newbag = bag.map(get_biometa)"
   ]
  },
  {
   "cell_type": "code",
   "execution_count": 26,
   "metadata": {},
   "outputs": [
    {
     "name": "stdout",
     "output_type": "stream",
     "text": [
      "CPU times: user 44.8 ms, sys: 69.4 ms, total: 114 ms\n",
      "Wall time: 167 ms\n"
     ]
    },
    {
     "data": {
      "text/html": [
       "<div>\n",
       "<style scoped>\n",
       "    .dataframe tbody tr th:only-of-type {\n",
       "        vertical-align: middle;\n",
       "    }\n",
       "\n",
       "    .dataframe tbody tr th {\n",
       "        vertical-align: top;\n",
       "    }\n",
       "\n",
       "    .dataframe thead th {\n",
       "        text-align: right;\n",
       "    }\n",
       "</style>\n",
       "<table border=\"1\" class=\"dataframe\">\n",
       "  <thead>\n",
       "    <tr style=\"text-align: right;\">\n",
       "      <th></th>\n",
       "      <th>name</th>\n",
       "      <th>age</th>\n",
       "      <th>weight</th>\n",
       "      <th>Array</th>\n",
       "    </tr>\n",
       "  </thead>\n",
       "  <tbody>\n",
       "    <tr>\n",
       "      <th>0</th>\n",
       "      <td>Rex</td>\n",
       "      <td>9</td>\n",
       "      <td>81.0</td>\n",
       "      <td>zeros-7313d751e03555992b4a7de697c969b6</td>\n",
       "    </tr>\n",
       "    <tr>\n",
       "      <th>1</th>\n",
       "      <td>Fido</td>\n",
       "      <td>3</td>\n",
       "      <td>27.0</td>\n",
       "      <td>zeros-7313d751e03555992b4a7de697c969b6</td>\n",
       "    </tr>\n",
       "  </tbody>\n",
       "</table>\n",
       "</div>"
      ],
      "text/plain": [
       "   name  age  weight                                   Array\n",
       "0   Rex    9    81.0  zeros-7313d751e03555992b4a7de697c969b6\n",
       "1  Fido    3    27.0  zeros-7313d751e03555992b4a7de697c969b6"
      ]
     },
     "execution_count": 26,
     "metadata": {},
     "output_type": "execute_result"
    }
   ],
   "source": [
    "%%time\n",
    "newbag.take(1)[0].compute()"
   ]
  },
  {
   "cell_type": "code",
   "execution_count": 15,
   "metadata": {},
   "outputs": [],
   "source": [
    "class BioMetaAccesor(object):\n",
    "    \n",
    "    def __init__(self, bag):\n",
    "        self.bag = bag\n",
    "    \n",
    "    @property\n",
    "    def channels(self):\n",
    "        \n",
    "        def get_biometa(array):\n",
    "            df = dd.from_dask_array(array.channels.data)\n",
    "            df[\"Array\"] = array.name\n",
    "            return df\n",
    "        \n",
    "        datasets = self.bag.map(get_biometa)\n",
    "        return datasets\n",
    "\n",
    "\n",
    "\n",
    "class LarvikBag(object):\n",
    "\n",
    "    def __init__(self, bag, *args, **kwargs):\n",
    "        self.bag = bag\n",
    "        self._biometa = None\n",
    "        self.settings = {}\n",
    "\n",
    "    def __getattr__(self, item):\n",
    "        func = getattr(self.bag, item)\n",
    "        def inner(*args, **kwargs):\n",
    "            value = func(*args, **kwargs)\n",
    "            if isinstance(value, Bag):\n",
    "                return LarvikBag(value)\n",
    "            else:\n",
    "                return value\n",
    "\n",
    "        return inner\n",
    "\n",
    "    def parseSettings(self,settings):\n",
    "        self.settings = settings\n",
    "\n",
    "    def parse(self, *args):\n",
    "        ''' :param *args Array of ParserSubclass'''\n",
    "        parsedb = self.bag\n",
    "        manager = LarvikManager()\n",
    "\n",
    "        for i, parser in enumerate(args):\n",
    "            parsedb = parsedb.map(parser.filter, self.settings, manager)\n",
    "\n",
    "        return LarvikBag(parsedb)\n",
    "    \n",
    "    @property\n",
    "    def biometa(self):\n",
    "        if not self._biometa:\n",
    "            self._biometa = BioMetaAccesor(self.bag)\n",
    "        return self._biometa\n",
    "\n",
    "    def __repr__(self):\n",
    "        return self.bag.__repr__()\n",
    "\n",
    "import dask.bag as db\n",
    "bag =  LarvikBag(db.from_sequence([loaded, loaded, loaded]))"
   ]
  },
  {
   "cell_type": "code",
   "execution_count": 17,
   "metadata": {},
   "outputs": [
    {
     "ename": "NameError",
     "evalue": "name 'Bag' is not defined",
     "output_type": "error",
     "traceback": [
      "\u001b[0;31m---------------------------------------------------------------------------\u001b[0m",
      "\u001b[0;31mNameError\u001b[0m                                 Traceback (most recent call last)",
      "\u001b[0;32m<ipython-input-17-ad20c9d98e6d>\u001b[0m in \u001b[0;36m<module>\u001b[0;34m\u001b[0m\n\u001b[0;32m----> 1\u001b[0;31m \u001b[0mnewbag\u001b[0m \u001b[0;34m=\u001b[0m \u001b[0mbag\u001b[0m\u001b[0;34m.\u001b[0m\u001b[0mmap\u001b[0m\u001b[0;34m(\u001b[0m\u001b[0mget_biometa\u001b[0m\u001b[0;34m)\u001b[0m\u001b[0;34m\u001b[0m\u001b[0;34m\u001b[0m\u001b[0m\n\u001b[0m",
      "\u001b[0;32m<ipython-input-15-82dbf25e1858>\u001b[0m in \u001b[0;36minner\u001b[0;34m(*args, **kwargs)\u001b[0m\n\u001b[1;32m     29\u001b[0m         \u001b[0;32mdef\u001b[0m \u001b[0minner\u001b[0m\u001b[0;34m(\u001b[0m\u001b[0;34m*\u001b[0m\u001b[0margs\u001b[0m\u001b[0;34m,\u001b[0m \u001b[0;34m**\u001b[0m\u001b[0mkwargs\u001b[0m\u001b[0;34m)\u001b[0m\u001b[0;34m:\u001b[0m\u001b[0;34m\u001b[0m\u001b[0;34m\u001b[0m\u001b[0m\n\u001b[1;32m     30\u001b[0m             \u001b[0mvalue\u001b[0m \u001b[0;34m=\u001b[0m \u001b[0mfunc\u001b[0m\u001b[0;34m(\u001b[0m\u001b[0;34m*\u001b[0m\u001b[0margs\u001b[0m\u001b[0;34m,\u001b[0m \u001b[0;34m**\u001b[0m\u001b[0mkwargs\u001b[0m\u001b[0;34m)\u001b[0m\u001b[0;34m\u001b[0m\u001b[0;34m\u001b[0m\u001b[0m\n\u001b[0;32m---> 31\u001b[0;31m             \u001b[0;32mif\u001b[0m \u001b[0misinstance\u001b[0m\u001b[0;34m(\u001b[0m\u001b[0mvalue\u001b[0m\u001b[0;34m,\u001b[0m \u001b[0mBag\u001b[0m\u001b[0;34m)\u001b[0m\u001b[0;34m:\u001b[0m\u001b[0;34m\u001b[0m\u001b[0;34m\u001b[0m\u001b[0m\n\u001b[0m\u001b[1;32m     32\u001b[0m                 \u001b[0;32mreturn\u001b[0m \u001b[0mLarvikBag\u001b[0m\u001b[0;34m(\u001b[0m\u001b[0mvalue\u001b[0m\u001b[0;34m)\u001b[0m\u001b[0;34m\u001b[0m\u001b[0;34m\u001b[0m\u001b[0m\n\u001b[1;32m     33\u001b[0m             \u001b[0;32melse\u001b[0m\u001b[0;34m:\u001b[0m\u001b[0;34m\u001b[0m\u001b[0;34m\u001b[0m\u001b[0m\n",
      "\u001b[0;31mNameError\u001b[0m: name 'Bag' is not defined"
     ]
    }
   ],
   "source": [
    "newbag = bag.map(get_biometa)"
   ]
  }
 ],
 "metadata": {
  "kernelspec": {
   "display_name": "Python 3",
   "language": "python",
   "name": "python3"
  },
  "language_info": {
   "codemirror_mode": {
    "name": "ipython",
    "version": 3
   },
   "file_extension": ".py",
   "mimetype": "text/x-python",
   "name": "python",
   "nbconvert_exporter": "python",
   "pygments_lexer": "ipython3",
   "version": "3.7.3"
  }
 },
 "nbformat": 4,
 "nbformat_minor": 4
}

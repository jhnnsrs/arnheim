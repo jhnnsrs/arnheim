{
 "cells": [
  {
   "cell_type": "markdown",
   "metadata": {},
   "source": [
    "# Distributed Analysis\n",
    "\n",
    "The Arnheim Framework bridges djangos ORM with cluster based analysis. A Representation inherits from the LarvikArray which in turn is a Proxy for xArray. All of the meta data is stored in this datafile so it is easily browsable."
   ]
  },
  {
   "cell_type": "code",
   "execution_count": 23,
   "metadata": {},
   "outputs": [],
   "source": [
    "import django\n",
    "django.setup()"
   ]
  },
  {
   "cell_type": "code",
   "execution_count": 2,
   "metadata": {},
   "outputs": [
    {
     "name": "stderr",
     "output_type": "stream",
     "text": [
      "/opt/conda/lib/python3.7/site-packages/distributed/client.py:1074: VersionMismatchWarning: Mismatched versions found\n",
      "\n",
      "msgpack\n",
      "+------------------------+---------+\n",
      "|                        | version |\n",
      "+------------------------+---------+\n",
      "| client                 | 0.6.1   |\n",
      "| scheduler              | 0.6.2   |\n",
      "| tcp://172.18.0.2:41285 | 0.6.2   |\n",
      "+------------------------+---------+\n",
      "  warnings.warn(version_module.VersionMismatchWarning(msg[0][\"warning\"]))\n"
     ]
    }
   ],
   "source": [
    "from dask.distributed import Client, progress\n",
    "c = Client()"
   ]
  },
  {
   "cell_type": "markdown",
   "metadata": {},
   "source": [
    "## Import\n",
    "\n",
    "Representation is bergens binder of ImageStack where general x and y dimensions have not been altered to the original ImageStack, so 2D Rois are all perfectly aligned."
   ]
  },
  {
   "cell_type": "code",
   "execution_count": 3,
   "metadata": {},
   "outputs": [
    {
     "name": "stderr",
     "output_type": "stream",
     "text": [
      "2020-02-12 17:03:16,423 [larvik.extenders] INFO     Making DataArrays Look Beautiful\n",
      "2020-02-12 17:03:16,424 [larvik.extenders] INFO     Extending DataArray\n"
     ]
    }
   ],
   "source": [
    "from bioconverter.models import Representation\n",
    "from filters.filters import MaxISP, Prewitt, Mapping\n",
    "import larvik.extenders"
   ]
  },
  {
   "cell_type": "code",
   "execution_count": 22,
   "metadata": {},
   "outputs": [
    {
     "data": {
      "text/html": [
       "\n",
       "\n",
       "<div class=\"container\">\n",
       "<div class=\"row justify-content-start\">\n",
       "\n",
       "    \n",
       "        <div class=\"col-sm\">\n",
       "\n",
       "            <div class=\"card\">\n",
       "               <div class=\"card-header\">Initial Stack\n",
       "  </div>\n",
       "              <div class=\"card-body\">\n",
       "                <p class=\"card-text\">\n",
       "                    Chain: None </br>\n",
       "                    Creator: jhnnsrs </br>\n",
       "                    Input:   </br>\n",
       "                    Sample: APV-CA1-#1_AnkG-488_Neun594 #1\n",
       "                </p>\n",
       "              </div>\n",
       "            </div>\n",
       "        </div>\n",
       "    \n",
       "        <div class=\"col-sm\">\n",
       "\n",
       "            <div class=\"card\">\n",
       "               <div class=\"card-header\">Max ISP of Initial Stack\n",
       "  </div>\n",
       "              <div class=\"card-body\">\n",
       "                <p class=\"card-text\">\n",
       "                    Chain: None </br>\n",
       "                    Creator: jhnnsrs </br>\n",
       "                    Input: Initial Stack  </br>\n",
       "                    Sample: APV-CA1-#1_AnkG-488_Neun594 #1\n",
       "                </p>\n",
       "              </div>\n",
       "            </div>\n",
       "        </div>\n",
       "    \n",
       "        <div class=\"col-sm\">\n",
       "\n",
       "            <div class=\"card\">\n",
       "               <div class=\"card-header\">Max ISP of Initial Stack\n",
       "  </div>\n",
       "              <div class=\"card-body\">\n",
       "                <p class=\"card-text\">\n",
       "                    Chain: None </br>\n",
       "                    Creator: jhnnsrs </br>\n",
       "                    Input: Initial Stack  </br>\n",
       "                    Sample: APV-CA1-#1_AnkG-488_Neun594 #1\n",
       "                </p>\n",
       "              </div>\n",
       "            </div>\n",
       "        </div>\n",
       "    \n",
       "\n",
       "    \n",
       "        <div class=\"col-sm\">\n",
       "            <div class=\"card\">\n",
       "              <div class=\"card-body\">\n",
       "                <p class=\"card-text\">And 19 more..</p>\n",
       "              </div>\n",
       "            </div>\n",
       "        </div>\n",
       "    \n",
       "  <!-- Content here -->\n",
       "</div>\n",
       "</div>"
      ],
      "text/plain": [
       "<RepresentationQuerySet [<Representation: Initial Stack>, <Representation: Max ISP of Initial Stack>, <Representation: Max ISP of Initial Stack>, <Representation: Prewitt of Max ISP of Initial Stack>, <Representation: Initial Stack>, <Representation: Initial Stack>, <Representation: Initial Stack>, <Representation: Max ISP of Initial Stack>, <Representation: Initial Stack>, <Representation: Max ISP of Initial Stack>, <Representation: Initial Stack>, <Representation: Max ISP of Initial Stack>, <Representation: Initial Stack>, <Representation: Initial Stack>, <Representation: Initial Stack>, <Representation: Initial Stack>, <Representation: Initial Stack>, <Representation: Initial Stack>, <Representation: Initial Stack>, <Representation: Initial Stack>, '...(remaining elements truncated)...']>"
      ]
     },
     "execution_count": 22,
     "metadata": {},
     "output_type": "execute_result"
    }
   ],
   "source": [
    "reps = Representation.distributed.all()\n",
    "reps"
   ]
  },
  {
   "cell_type": "markdown",
   "metadata": {},
   "source": [
    "## Analysis\n",
    "\n",
    "We have preselected every 5D unprocessed (\"initial\") Stack where the Sample originated from a Bioseries within a Bioimage in Locker starting with the Name \"Caro\". \n",
    "\n",
    "A Common Pitfall in Immunohistochemistry is overexposed Samples, where the data is clipped at the maximum value. In the following we are trying to analyse every Channel in these Stacks and calculate the amount of Pixels that are over a certain intensity threshold. We will distinguish between the multiple channels, and see if our aquisition has been uniform."
   ]
  },
  {
   "cell_type": "code",
   "execution_count": 26,
   "metadata": {},
   "outputs": [],
   "source": [
    "bag = reps.asBag()"
   ]
  },
  {
   "cell_type": "code",
   "execution_count": 27,
   "metadata": {},
   "outputs": [],
   "source": [
    "def expandChannels(x):\n",
    "    return [ x.sel(c=channel) for channel in x.c ]\n",
    "        \n",
    "\n",
    "def calculateOverPixelsForChannels(x):\n",
    "    channelmeta = x.channels.data.compute()\n",
    "    \n",
    "    return {\"name\": str(x.name),\n",
    "            \"overpixels\": int((x.data > 0.8).sum().compute()),\n",
    "            \"channel\": str(channelmeta[\"Name\"]),\n",
    "            \"wavelength\": float(channelmeta[\"EmissionWavelength\"])}"
   ]
  },
  {
   "cell_type": "code",
   "execution_count": 18,
   "metadata": {},
   "outputs": [],
   "source": [
    "frame = bag.map(expandChannels).flatten().map(calculateOverPixelsForChannels).to_dataframe()"
   ]
  },
  {
   "cell_type": "code",
   "execution_count": 19,
   "metadata": {},
   "outputs": [
    {
     "name": "stderr",
     "output_type": "stream",
     "text": [
      "/opt/conda/lib/python3.7/site-packages/distributed/client.py:1074: VersionMismatchWarning: Mismatched versions found\n",
      "\n",
      "msgpack\n",
      "+------------------------+---------+\n",
      "|                        | version |\n",
      "+------------------------+---------+\n",
      "| client                 | 0.6.1   |\n",
      "| scheduler              | 0.6.2   |\n",
      "| tcp://172.18.0.2:41285 | 0.6.2   |\n",
      "+------------------------+---------+\n",
      "  warnings.warn(version_module.VersionMismatchWarning(msg[0][\"warning\"]))\n"
     ]
    },
    {
     "data": {
      "application/vnd.jupyter.widget-view+json": {
       "model_id": "ef290e9f8fb14b43a9548bfa05d24b50",
       "version_major": 2,
       "version_minor": 0
      },
      "text/plain": [
       "VBox()"
      ]
     },
     "metadata": {},
     "output_type": "display_data"
    }
   ],
   "source": [
    "# On cluster\n",
    "from dask.distributed import Client, progress\n",
    "\n",
    "c = Client()\n",
    "frame = frame.persist()  # start computation in the background\n",
    "progress(frame)"
   ]
  },
  {
   "cell_type": "code",
   "execution_count": 20,
   "metadata": {},
   "outputs": [],
   "source": [
    "df = frame.compute()"
   ]
  },
  {
   "cell_type": "code",
   "execution_count": 13,
   "metadata": {},
   "outputs": [
    {
     "data": {
      "text/html": [
       "<div>\n",
       "<style scoped>\n",
       "    .dataframe tbody tr th:only-of-type {\n",
       "        vertical-align: middle;\n",
       "    }\n",
       "\n",
       "    .dataframe tbody tr th {\n",
       "        vertical-align: top;\n",
       "    }\n",
       "\n",
       "    .dataframe thead th {\n",
       "        text-align: right;\n",
       "    }\n",
       "</style>\n",
       "<table border=\"1\" class=\"dataframe\">\n",
       "  <thead>\n",
       "    <tr style=\"text-align: right;\">\n",
       "      <th></th>\n",
       "      <th>name</th>\n",
       "      <th>overpixels</th>\n",
       "      <th>channel</th>\n",
       "      <th>wavelength</th>\n",
       "    </tr>\n",
       "  </thead>\n",
       "  <tbody>\n",
       "    <tr>\n",
       "      <th>0</th>\n",
       "      <td>Initial Stack</td>\n",
       "      <td>1603</td>\n",
       "      <td>DyName2</td>\n",
       "      <td>535.5</td>\n",
       "    </tr>\n",
       "    <tr>\n",
       "      <th>1</th>\n",
       "      <td>Initial Stack</td>\n",
       "      <td>226</td>\n",
       "      <td>DyName3</td>\n",
       "      <td>600.0</td>\n",
       "    </tr>\n",
       "    <tr>\n",
       "      <th>2</th>\n",
       "      <td>Initial Stack</td>\n",
       "      <td>73977</td>\n",
       "      <td>DyName4</td>\n",
       "      <td>683.0</td>\n",
       "    </tr>\n",
       "    <tr>\n",
       "      <th>0</th>\n",
       "      <td>Initial Stack</td>\n",
       "      <td>665</td>\n",
       "      <td>DyName2</td>\n",
       "      <td>535.5</td>\n",
       "    </tr>\n",
       "    <tr>\n",
       "      <th>1</th>\n",
       "      <td>Initial Stack</td>\n",
       "      <td>662</td>\n",
       "      <td>DyName3</td>\n",
       "      <td>600.0</td>\n",
       "    </tr>\n",
       "  </tbody>\n",
       "</table>\n",
       "</div>"
      ],
      "text/plain": [
       "            name  overpixels  channel  wavelength\n",
       "0  Initial Stack        1603  DyName2       535.5\n",
       "1  Initial Stack         226  DyName3       600.0\n",
       "2  Initial Stack       73977  DyName4       683.0\n",
       "0  Initial Stack         665  DyName2       535.5\n",
       "1  Initial Stack         662  DyName3       600.0"
      ]
     },
     "execution_count": 13,
     "metadata": {},
     "output_type": "execute_result"
    }
   ],
   "source": [
    "df.head()"
   ]
  },
  {
   "cell_type": "markdown",
   "metadata": {},
   "source": [
    "## Evaluation\n",
    "As long as no computation is called the array has not yet been altered. We can call this for each array individual or for the whole stack"
   ]
  },
  {
   "cell_type": "code",
   "execution_count": 14,
   "metadata": {},
   "outputs": [],
   "source": [
    "import seaborn as sns\n",
    "import matplotlib.pyplot as plt"
   ]
  },
  {
   "cell_type": "code",
   "execution_count": 15,
   "metadata": {},
   "outputs": [
    {
     "data": {
      "text/plain": [
       "<matplotlib.axes._subplots.AxesSubplot at 0x7fa5354859e8>"
      ]
     },
     "execution_count": 15,
     "metadata": {},
     "output_type": "execute_result"
    },
    {
     "data": {
      "image/png": "[encoded data removed]",
      "text/plain": [
       "<Figure size 720x432 with 1 Axes>"
      ]
     },
     "metadata": {
      "needs_background": "light"
     },
     "output_type": "display_data"
    }
   ],
   "source": [
    "fig, ax = plt.subplots(figsize=(10, 6))\n",
    "sns.violinplot(x=\"channel\",y=\"overpixels\", data=df, ax=ax)"
   ]
  },
  {
   "cell_type": "markdown",
   "metadata": {},
   "source": [
    "## Profile Statistical Analysis \n",
    "\n",
    "Pandas profile is an easy and performant solution to do massive analyzation task with multi-variant statistical analysis, just let it run through our data"
   ]
  },
  {
   "cell_type": "code",
   "execution_count": null,
   "metadata": {},
   "outputs": [],
   "source": [
    "from pandas_profiling import ProfileReport\n",
    "profile = ProfileReport(df, title='Pandas Profiling Report', html={'style':{'full_width':True}})\n",
    "profile.to_notebook_iframe()"
   ]
  }
 ],
 "metadata": {
  "kernelspec": {
   "display_name": "Python 3",
   "language": "python",
   "name": "python3"
  },
  "language_info": {
   "codemirror_mode": {
    "name": "ipython",
    "version": 3
   },
   "file_extension": ".py",
   "mimetype": "text/x-python",
   "name": "python",
   "nbconvert_exporter": "python",
   "pygments_lexer": "ipython3",
   "version": "3.7.3"
  }
 },
 "nbformat": 4,
 "nbformat_minor": 4
}

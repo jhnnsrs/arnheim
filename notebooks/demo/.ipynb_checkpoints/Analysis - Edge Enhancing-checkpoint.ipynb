{
 "cells": [
  {
   "cell_type": "markdown",
   "metadata": {},
   "source": [
    "# Distributed Analysis\n",
    "\n",
    "The Arnheim Framework bridges djangos ORM with cluster based analysis. A Representation inherits from the LarvikArray which in turn is a Proxy for xArray. All of the meta data is stored in this datafile so it is easily browsable."
   ]
  },
  {
   "cell_type": "code",
   "execution_count": 16,
   "metadata": {},
   "outputs": [],
   "source": [
    "import django\n",
    "django.setup()"
   ]
  },
  {
   "cell_type": "code",
   "execution_count": 17,
   "metadata": {},
   "outputs": [
    {
     "name": "stderr",
     "output_type": "stream",
     "text": [
      "/opt/conda/lib/python3.7/site-packages/distributed/client.py:1074: VersionMismatchWarning: Mismatched versions found\n",
      "\n",
      "msgpack\n",
      "+------------------------+---------+\n",
      "|                        | version |\n",
      "+------------------------+---------+\n",
      "| client                 | 0.6.1   |\n",
      "| scheduler              | 0.6.2   |\n",
      "| tcp://172.18.0.2:41285 | 0.6.2   |\n",
      "+------------------------+---------+\n",
      "  warnings.warn(version_module.VersionMismatchWarning(msg[0][\"warning\"]))\n"
     ]
    },
    {
     "data": {
      "text/html": [
       "<table style=\"border: 2px solid white;\">\n",
       "<tr>\n",
       "<td style=\"vertical-align: top; border: 0px solid white\">\n",
       "<h3 style=\"text-align: left;\">Client</h3>\n",
       "<ul style=\"text-align: left; list-style: none; margin: 0; padding: 0;\">\n",
       "  <li><b>Scheduler: </b>tcp://daskscheduler:8786</li>\n",
       "  <li><b>Dashboard: </b><a href='http://daskscheduler:8787/status' target='_blank'>http://daskscheduler:8787/status</a>\n",
       "</ul>\n",
       "</td>\n",
       "<td style=\"vertical-align: top; border: 0px solid white\">\n",
       "<h3 style=\"text-align: left;\">Cluster</h3>\n",
       "<ul style=\"text-align: left; list-style:none; margin: 0; padding: 0;\">\n",
       "  <li><b>Workers: </b>1</li>\n",
       "  <li><b>Cores: </b>4</li>\n",
       "  <li><b>Memory: </b>4.65 GB</li>\n",
       "</ul>\n",
       "</td>\n",
       "</tr>\n",
       "</table>"
      ],
      "text/plain": [
       "<Client: 'tcp://172.18.0.4:8786' processes=1 threads=4, memory=4.65 GB>"
      ]
     },
     "execution_count": 17,
     "metadata": {},
     "output_type": "execute_result"
    }
   ],
   "source": [
    "from dask.distributed import Client, progress\n",
    "c = Client()\n",
    "c"
   ]
  },
  {
   "cell_type": "markdown",
   "metadata": {},
   "source": [
    "## Import\n",
    "\n",
    "Representation is bergens binder of ImageStack where general x and y dimensions have not been altered to the original ImageStack, so 2D Rois are all perfectly aligned."
   ]
  },
  {
   "cell_type": "code",
   "execution_count": 18,
   "metadata": {},
   "outputs": [],
   "source": [
    "from bioconverter.models import Representation\n",
    "from filters.filters import MaxISP, Prewitt, Mapping\n",
    "import larvik.extenders"
   ]
  },
  {
   "cell_type": "code",
   "execution_count": 19,
   "metadata": {},
   "outputs": [
    {
     "data": {
      "text/html": [
       "\n",
       "\n",
       "<div class=\"container\">\n",
       "<div class=\"row justify-content-start\">\n",
       "\n",
       "    \n",
       "        <div class=\"col-sm\">\n",
       "\n",
       "            <div class=\"card\">\n",
       "               <div class=\"card-header\">Initial Stack\n",
       "  </div>\n",
       "              <div class=\"card-body\">\n",
       "                <p class=\"card-text\">\n",
       "                    Chain: initial </br>\n",
       "                    Creator: jhnnsrs </br>\n",
       "                    Input:   </br>\n",
       "                    Sample: lsm\n",
       "                </p>\n",
       "              </div>\n",
       "            </div>\n",
       "        </div>\n",
       "    \n",
       "        <div class=\"col-sm\">\n",
       "\n",
       "            <div class=\"card\">\n",
       "               <div class=\"card-header\">Initial Stack\n",
       "  </div>\n",
       "              <div class=\"card-body\">\n",
       "                <p class=\"card-text\">\n",
       "                    Chain: initial </br>\n",
       "                    Creator: jhnnsrs </br>\n",
       "                    Input:   </br>\n",
       "                    Sample: nd.nd2 (series 1)\n",
       "                </p>\n",
       "              </div>\n",
       "            </div>\n",
       "        </div>\n",
       "    \n",
       "        <div class=\"col-sm\">\n",
       "\n",
       "            <div class=\"card\">\n",
       "               <div class=\"card-header\">Initial Stack\n",
       "  </div>\n",
       "              <div class=\"card-body\">\n",
       "                <p class=\"card-text\">\n",
       "                    Chain: initial </br>\n",
       "                    Creator: jhnnsrs </br>\n",
       "                    Input:   </br>\n",
       "                    Sample: APV-CA1-#1_AnkG-488_Neun594 #2\n",
       "                </p>\n",
       "              </div>\n",
       "            </div>\n",
       "        </div>\n",
       "    \n",
       "\n",
       "    \n",
       "  <!-- Content here -->\n",
       "</div>\n",
       "</div>"
      ],
      "text/plain": [
       "<RepresentationQuerySet [<Representation: Initial Stack>, <Representation: Initial Stack>, <Representation: Initial Stack>]>"
      ]
     },
     "execution_count": 19,
     "metadata": {},
     "output_type": "execute_result"
    }
   ],
   "source": [
    "reps = Representation.distributed.filter(type=\"initial\", sample__bioseries__bioimage__locker__name__startswith=\"Test\")\n",
    "reps"
   ]
  },
  {
   "cell_type": "markdown",
   "metadata": {},
   "source": [
    "## Further Filtration on the Cluster\n",
    "\n",
    "Further Analysis is then done on the Cluster (the LarvikBag call is a Proxy to Dask Bag, with _getarr_ matching, put provides more methods like parsing and setting storage"
   ]
  },
  {
   "cell_type": "code",
   "execution_count": 20,
   "metadata": {},
   "outputs": [],
   "source": [
    "filtered = reps.asBag().filter(lambda x: \"z\" in x.dims)"
   ]
  },
  {
   "cell_type": "code",
   "execution_count": 21,
   "metadata": {},
   "outputs": [],
   "source": [
    "parsed = filtered.parse(MaxISP, Prewitt)"
   ]
  },
  {
   "cell_type": "code",
   "execution_count": 22,
   "metadata": {},
   "outputs": [],
   "source": [
    "parsed = parsed.take(1)[0]"
   ]
  },
  {
   "cell_type": "markdown",
   "metadata": {},
   "source": [
    "## Evaluation\n",
    "As long as no computation is called the array has not yet been altered. We can call this for each array individual or for the whole stack"
   ]
  },
  {
   "cell_type": "code",
   "execution_count": 25,
   "metadata": {},
   "outputs": [
    {
     "data": {
      "text/plain": [
       "('x', 'y')"
      ]
     },
     "execution_count": 25,
     "metadata": {},
     "output_type": "execute_result"
    }
   ],
   "source": [
    "%matplotlib inline\n",
    "parsed.sel(c=0,t=0).dims"
   ]
  }
 ],
 "metadata": {
  "kernelspec": {
   "display_name": "Python 3",
   "language": "python",
   "name": "python3"
  },
  "language_info": {
   "codemirror_mode": {
    "name": "ipython",
    "version": 3
   },
   "file_extension": ".py",
   "mimetype": "text/x-python",
   "name": "python",
   "nbconvert_exporter": "python",
   "pygments_lexer": "ipython3",
   "version": "3.7.3"
  }
 },
 "nbformat": 4,
 "nbformat_minor": 4
}

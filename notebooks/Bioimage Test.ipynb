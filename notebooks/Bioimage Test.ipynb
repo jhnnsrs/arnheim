{
 "cells": [
  {
   "cell_type": "code",
   "execution_count": 1,
   "metadata": {},
   "outputs": [
    {
     "name": "stderr",
     "output_type": "stream",
     "text": [
      "2020-03-30 17:31:51,101 [mandal.settings] INFO     Hosting on ['*']\n",
      "2020-03-30 17:31:51,102 [mandal.settings] INFO     Zarr Compression: None\n",
      "2020-03-30 17:31:51,103 [mandal.settings] INFO     Zarr Dtype: <class 'float'>\n",
      "2020-03-30 17:31:51,106 [mandal.settings] INFO     Redis Host: redis\n",
      "2020-03-30 17:31:51,107 [mandal.settings] INFO     Redis Port: 6379\n",
      "2020-03-30 17:31:51,109 [mandal.settings] INFO     Dask Scheduler Port: 5432\n",
      "2020-03-30 17:31:51,110 [mandal.settings] INFO     Dask Scheduler Host: localhost\n",
      "2020-03-30 17:31:51,111 [mandal.settings] INFO     Postgres Port: 5432\n",
      "2020-03-30 17:31:51,113 [mandal.settings] INFO     Postgres Host: postgres\n",
      "2020-03-30 17:31:51,113 [mandal.settings] INFO     Postgres User: hello_django\n",
      "2020-03-30 17:31:51,115 [mandal.settings] INFO     Postgres DB: hello_django_dev\n",
      "2020-03-30 17:31:51,116 [mandal.settings] INFO     Postgres Password: hello_django\n"
     ]
    }
   ],
   "source": [
    "import matplotlib.pyplot as plt\n",
    "import numpy as np\n",
    "import dask.array as da\n",
    "import zarr as zr\n",
    "import django\n",
    "\n",
    "django.setup()\n",
    "import xarray, h5py"
   ]
  },
  {
   "cell_type": "code",
   "execution_count": 2,
   "metadata": {},
   "outputs": [],
   "source": [
    "from bioconverter.models import BioImage"
   ]
  },
  {
   "cell_type": "code",
   "execution_count": 3,
   "metadata": {},
   "outputs": [],
   "source": [
    "bioimage = BioImage.objects.first()"
   ]
  },
  {
   "cell_type": "code",
   "execution_count": 4,
   "metadata": {},
   "outputs": [
    {
     "name": "stdout",
     "output_type": "stream",
     "text": [
      "/code/media/bioimages/test.nd2\n"
     ]
    }
   ],
   "source": [
    "with bioimage.file.local as tmpfile:\n",
    "    print(tmpfile)"
   ]
  },
  {
   "cell_type": "code",
   "execution_count": 8,
   "metadata": {},
   "outputs": [
    {
     "name": "stderr",
     "output_type": "stream",
     "text": [
      "/opt/conda/lib/python3.7/site-packages/django/db/models/base.py:316: RuntimeWarning: Model 'elements.antibody' was already registered. Reloading models is not advised as it can lead to inconsistencies, most notably with related models.\n",
      "  new_class._meta.apps.register_model(new_class._meta.app_label, new_class)\n",
      "/opt/conda/lib/python3.7/site-packages/django/db/models/base.py:316: RuntimeWarning: Model 'elements.experiment' was already registered. Reloading models is not advised as it can lead to inconsistencies, most notably with related models.\n",
      "  new_class._meta.apps.register_model(new_class._meta.app_label, new_class)\n",
      "/opt/conda/lib/python3.7/site-packages/django/db/models/base.py:316: RuntimeWarning: Model 'elements.experimentalgroup' was already registered. Reloading models is not advised as it can lead to inconsistencies, most notably with related models.\n",
      "  new_class._meta.apps.register_model(new_class._meta.app_label, new_class)\n",
      "/opt/conda/lib/python3.7/site-packages/django/db/models/base.py:316: RuntimeWarning: Model 'elements.filematchstring' was already registered. Reloading models is not advised as it can lead to inconsistencies, most notably with related models.\n",
      "  new_class._meta.apps.register_model(new_class._meta.app_label, new_class)\n",
      "/opt/conda/lib/python3.7/site-packages/django/db/models/base.py:316: RuntimeWarning: Model 'elements.animal' was already registered. Reloading models is not advised as it can lead to inconsistencies, most notably with related models.\n",
      "  new_class._meta.apps.register_model(new_class._meta.app_label, new_class)\n",
      "/opt/conda/lib/python3.7/site-packages/django/db/models/base.py:316: RuntimeWarning: Model 'elements.sample' was already registered. Reloading models is not advised as it can lead to inconsistencies, most notably with related models.\n",
      "  new_class._meta.apps.register_model(new_class._meta.app_label, new_class)\n",
      "/opt/conda/lib/python3.7/site-packages/django/db/models/base.py:316: RuntimeWarning: Model 'elements.pandas' was already registered. Reloading models is not advised as it can lead to inconsistencies, most notably with related models.\n",
      "  new_class._meta.apps.register_model(new_class._meta.app_label, new_class)\n",
      "/opt/conda/lib/python3.7/site-packages/django/db/models/base.py:316: RuntimeWarning: Model 'elements.representation' was already registered. Reloading models is not advised as it can lead to inconsistencies, most notably with related models.\n",
      "  new_class._meta.apps.register_model(new_class._meta.app_label, new_class)\n",
      "/opt/conda/lib/python3.7/site-packages/django/db/models/base.py:316: RuntimeWarning: Model 'elements.roi' was already registered. Reloading models is not advised as it can lead to inconsistencies, most notably with related models.\n",
      "  new_class._meta.apps.register_model(new_class._meta.app_label, new_class)\n",
      "/opt/conda/lib/python3.7/site-packages/django/db/models/base.py:316: RuntimeWarning: Model 'elements.transformation' was already registered. Reloading models is not advised as it can lead to inconsistencies, most notably with related models.\n",
      "  new_class._meta.apps.register_model(new_class._meta.app_label, new_class)\n"
     ]
    },
    {
     "data": {
      "text/plain": [
       "<module 'elements.models' from '/code/elements/models.py'>"
      ]
     },
     "execution_count": 8,
     "metadata": {},
     "output_type": "execute_result"
    }
   ],
   "source": [
    "from elements import models\n",
    "import importlib\n",
    "importlib.reload(models)"
   ]
  },
  {
   "cell_type": "code",
   "execution_count": 10,
   "metadata": {},
   "outputs": [
    {
     "ename": "TypeError",
     "evalue": "from_xarray() missing 1 required positional argument: 'array'",
     "output_type": "error",
     "traceback": [
      "\u001b[0;31m---------------------------------------------------------------------------\u001b[0m",
      "\u001b[0;31mTypeError\u001b[0m                                 Traceback (most recent call last)",
      "\u001b[0;32m<ipython-input-10-ff83246f1e85>\u001b[0m in \u001b[0;36m<module>\u001b[0;34m\u001b[0m\n\u001b[0;32m----> 1\u001b[0;31m \u001b[0mmodels\u001b[0m\u001b[0;34m.\u001b[0m\u001b[0mRepresentation\u001b[0m\u001b[0;34m.\u001b[0m\u001b[0mobjects\u001b[0m\u001b[0;34m.\u001b[0m\u001b[0mfrom_xarray\u001b[0m\u001b[0;34m(\u001b[0m\u001b[0;34m)\u001b[0m\u001b[0;34m\u001b[0m\u001b[0;34m\u001b[0m\u001b[0m\n\u001b[0m",
      "\u001b[0;31mTypeError\u001b[0m: from_xarray() missing 1 required positional argument: 'array'"
     ]
    }
   ],
   "source": [
    "x\n",
    "\n",
    "\n",
    "\n",
    "models.Representation.objects.from_xarray()"
   ]
  },
  {
   "cell_type": "code",
   "execution_count": 44,
   "metadata": {},
   "outputs": [],
   "source": [
    "class TemporaryFile(object): \n",
    "    def __init__(self, field, tmp=\"/tmp\"): \n",
    "        self.field = field\n",
    "        self.tmppath = tmp\n",
    "      \n",
    "    def __enter__(self): \n",
    "        import os\n",
    "        import uuid\n",
    "        _, file_extension = os.path.splitext(self.field.name)\n",
    "        self.filename = self.tmppath + \"/\" + str(uuid.uuid4()) + file_extension\n",
    "        with open(self.filename, 'wb+') as destination:\n",
    "            for chunk in self.field.chunks():\n",
    "                destination.write(chunk)\n",
    "\n",
    "        return self.filename\n",
    "    \n",
    "    def __exit__(self, exc_type, exc_value, tb):\n",
    "        import os\n",
    "        os.remove(self.filename)\n",
    "        if exc_type is not None:\n",
    "            traceback.print_exception(exc_type, exc_value, tb)\n",
    "            # return False # uncomment to pass exception through\n",
    "\n",
    "        return True"
   ]
  },
  {
   "cell_type": "code",
   "execution_count": 45,
   "metadata": {},
   "outputs": [
    {
     "name": "stdout",
     "output_type": "stream",
     "text": [
      "/tmp/4532b8ee-8469-4da5-80b8-05108b8006bc.nd2\n"
     ]
    }
   ],
   "source": [
    "with Temporary(bioimage.file,tmp=\"/tmp\") as tmpfile:\n",
    "    print(tmpfile)\n",
    "    \n",
    "    \n",
    "    \n",
    "    \n",
    "    \n",
    "    "
   ]
  },
  {
   "cell_type": "code",
   "execution_count": 26,
   "metadata": {},
   "outputs": [],
   "source": []
  },
  {
   "cell_type": "code",
   "execution_count": 27,
   "metadata": {},
   "outputs": [
    {
     "data": {
      "text/plain": [
       "'/tmp/a019d979-19ef-4e8d-b839-048bd772205f.nd2'"
      ]
     },
     "execution_count": 27,
     "metadata": {},
     "output_type": "execute_result"
    }
   ],
   "source": [
    "nana"
   ]
  },
  {
   "cell_type": "code",
   "execution_count": 12,
   "metadata": {},
   "outputs": [],
   "source": [
    "with open(bioimage.file.name, 'wb+') as destination:\n",
    "        for chunk in bioimage.file.chunks():\n",
    "            destination.write(chunk)"
   ]
  }
 ],
 "metadata": {
  "kernelspec": {
   "display_name": "Python 3",
   "language": "python",
   "name": "python3"
  },
  "language_info": {
   "codemirror_mode": {
    "name": "ipython",
    "version": 3
   },
   "file_extension": ".py",
   "mimetype": "text/x-python",
   "name": "python",
   "nbconvert_exporter": "python",
   "pygments_lexer": "ipython3",
   "version": "3.7.3"
  }
 },
 "nbformat": 4,
 "nbformat_minor": 4
}

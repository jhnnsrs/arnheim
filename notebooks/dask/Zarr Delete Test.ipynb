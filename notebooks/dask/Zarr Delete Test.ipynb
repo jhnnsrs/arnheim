{
 "cells": [
  {
   "cell_type": "code",
   "execution_count": 1,
   "metadata": {},
   "outputs": [
    {
     "name": "stdout",
     "output_type": "stream",
     "text": [
      "Debugging build\n"
     ]
    },
    {
     "name": "stderr",
     "output_type": "stream",
     "text": [
      "2020-01-14 14:47:41,992 [elements.extenders] INFO     Extending DataArray\n"
     ]
    },
    {
     "name": "stdout",
     "output_type": "stream",
     "text": [
      "Hallo\n"
     ]
    }
   ],
   "source": [
    "import matplotlib.pyplot as plt\n",
    "import numpy as np\n",
    "import dask.array as da\n",
    "import zarr as zr\n",
    "import django\n",
    "from dask.distributed import Client, progress\n",
    "\n",
    "django.setup()\n",
    "from elements import models\n",
    "from dask.distributed import Client, progress\n",
    "c = Client()\n",
    "import xarray, h5py"
   ]
  },
  {
   "cell_type": "code",
   "execution_count": 21,
   "metadata": {},
   "outputs": [],
   "source": [
    "zarra = models.Zarr.objects.all()"
   ]
  },
  {
   "cell_type": "code",
   "execution_count": 24,
   "metadata": {},
   "outputs": [],
   "source": [
    "zarr = zarra.last()"
   ]
  },
  {
   "cell_type": "code",
   "execution_count": 29,
   "metadata": {},
   "outputs": [
    {
     "data": {
      "text/plain": [
       "<elements.extenders.MetaAccessor at 0x7fbaf7124b70>"
      ]
     },
     "execution_count": 29,
     "metadata": {},
     "output_type": "execute_result"
    }
   ],
   "source": [
    "zarr.array.biometa"
   ]
  },
  {
   "cell_type": "code",
   "execution_count": 13,
   "metadata": {},
   "outputs": [
    {
     "data": {
      "text/plain": [
       "True"
      ]
     },
     "execution_count": 13,
     "metadata": {},
     "output_type": "execute_result"
    }
   ],
   "source": [
    "hasgroup = zr.storage.contains_group(store, zarr.group)\n",
    "hasgroup"
   ]
  },
  {
   "cell_type": "code",
   "execution_count": 20,
   "metadata": {},
   "outputs": [],
   "source": [
    "zr.storage.rmdir(store,zarr.group)"
   ]
  },
  {
   "cell_type": "code",
   "execution_count": 5,
   "metadata": {},
   "outputs": [],
   "source": [
    "zarr = models.Zarr.objects.all()[0]"
   ]
  },
  {
   "cell_type": "code",
   "execution_count": 6,
   "metadata": {},
   "outputs": [
    {
     "data": {
      "text/html": [
       "<pre>&lt;xarray.DataArray &#x27;data&#x27; (x: 1256, y: 1256, channel: 2, z: 28, time: 1)&gt;\n",
       "dask.array&lt;zarr, shape=(1256, 1256, 2, 28, 1), dtype=float64, chunksize=(157, 314, 1, 7, 1)&gt;\n",
       "Coordinates:\n",
       "  * channel  (channel) &lt;U6 &#x27;Ch1-T1&#x27; &#x27;Ch1-T2&#x27;\n",
       "    phsyz    (z) float64 dask.array&lt;chunksize=(28,), meta=np.ndarray&gt;\n",
       "    physx    (x) float64 dask.array&lt;chunksize=(1256,), meta=np.ndarray&gt;\n",
       "    physy    (y) float64 dask.array&lt;chunksize=(1256,), meta=np.ndarray&gt;\n",
       "  * time     (time) int64 0\n",
       "  * x        (x) int64 0 1 2 3 4 5 6 7 ... 1249 1250 1251 1252 1253 1254 1255\n",
       "  * y        (y) int64 0 1 2 3 4 5 6 7 ... 1249 1250 1251 1252 1253 1254 1255\n",
       "  * z        (z) int64 0 1 2 3 4 5 6 7 8 9 10 ... 18 19 20 21 22 23 24 25 26 27\n",
       "Attributes:\n",
       "    channels:  [{&#x27;AcquisitionMode&#x27;: &#x27;LaserScanningConfocalMicroscopy&#x27;, &#x27;Color...\n",
       "    planes:    [{&#x27;DeltaT&#x27;: &#x27;12410.572591590908&#x27;, &#x27;PositionX&#x27;: &#x27;628&#x27;, &#x27;Positio...\n",
       "    scan:      [{&#x27;PhysicalSizeX&#x27;: &#x27;0.049345442271087926&#x27;, &#x27;PhysicalSizeXUnit&#x27;...</pre>"
      ],
      "text/plain": [
       "<xarray.DataArray 'data' (x: 1256, y: 1256, channel: 2, z: 28, time: 1)>\n",
       "dask.array<zarr, shape=(1256, 1256, 2, 28, 1), dtype=float64, chunksize=(157, 314, 1, 7, 1)>\n",
       "Coordinates:\n",
       "  * channel  (channel) <U6 'Ch1-T1' 'Ch1-T2'\n",
       "    phsyz    (z) float64 dask.array<chunksize=(28,), meta=np.ndarray>\n",
       "    physx    (x) float64 dask.array<chunksize=(1256,), meta=np.ndarray>\n",
       "    physy    (y) float64 dask.array<chunksize=(1256,), meta=np.ndarray>\n",
       "  * time     (time) int64 0\n",
       "  * x        (x) int64 0 1 2 3 4 5 6 7 ... 1249 1250 1251 1252 1253 1254 1255\n",
       "  * y        (y) int64 0 1 2 3 4 5 6 7 ... 1249 1250 1251 1252 1253 1254 1255\n",
       "  * z        (z) int64 0 1 2 3 4 5 6 7 8 9 10 ... 18 19 20 21 22 23 24 25 26 27\n",
       "Attributes:\n",
       "    channels:  [{'AcquisitionMode': 'LaserScanningConfocalMicroscopy', 'Color...\n",
       "    planes:    [{'DeltaT': '12410.572591590908', 'PositionX': '628', 'Positio...\n",
       "    scan:      [{'PhysicalSizeX': '0.049345442271087926', 'PhysicalSizeXUnit'..."
      ]
     },
     "execution_count": 6,
     "metadata": {},
     "output_type": "execute_result"
    }
   ],
   "source": [
    "zarr.array"
   ]
  }
 ],
 "metadata": {
  "kernelspec": {
   "display_name": "Python 3",
   "language": "python",
   "name": "python3"
  },
  "language_info": {
   "codemirror_mode": {
    "name": "ipython",
    "version": 3
   },
   "file_extension": ".py",
   "mimetype": "text/x-python",
   "name": "python",
   "nbconvert_exporter": "python",
   "pygments_lexer": "ipython3",
   "version": "3.7.3"
  }
 },
 "nbformat": 4,
 "nbformat_minor": 4
}

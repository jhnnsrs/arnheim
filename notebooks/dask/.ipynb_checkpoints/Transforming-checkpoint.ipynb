{
 "cells": [
  {
   "cell_type": "code",
   "execution_count": 27,
   "metadata": {},
   "outputs": [],
   "source": [
    "import matplotlib.pyplot as plt\n",
    "import numpy as np\n",
    "import dask.array as da\n",
    "import zarr as zr\n",
    "import django\n",
    "from dask.distributed import Client, progress\n",
    "\n",
    "django.setup()\n",
    "from elements.models import Zarr\n",
    "from dask.distributed import Client, progress\n",
    "c = Client()\n",
    "import xarray, h5py"
   ]
  },
  {
   "cell_type": "code",
   "execution_count": 28,
   "metadata": {},
   "outputs": [],
   "source": [
    "\n",
    "from metamorphers.models import Metamorphing"
   ]
  },
  {
   "cell_type": "code",
   "execution_count": 29,
   "metadata": {},
   "outputs": [],
   "source": [
    "met = Metamorphing.objects.last()"
   ]
  },
  {
   "cell_type": "code",
   "execution_count": 30,
   "metadata": {},
   "outputs": [
    {
     "name": "stdout",
     "output_type": "stream",
     "text": [
      "/code/media/zarr/sample-240\n",
      "float16\n"
     ]
    }
   ],
   "source": [
    "array = met.representation.loadArray()\n",
    "\n",
    "print(array.dtype)\n",
    "array = array[:, :, :, :, 0]"
   ]
  },
  {
   "cell_type": "code",
   "execution_count": 31,
   "metadata": {},
   "outputs": [
    {
     "data": {
      "text/html": [
       "<pre>&lt;xarray.DataArray &#x27;data&#x27; (x: 1256, y: 1256, channels: 2, z: 28)&gt;\n",
       "dask.array&lt;getitem, shape=(1256, 1256, 2, 28), dtype=float16, chunksize=(314, 314, 1, 7)&gt;\n",
       "Coordinates:\n",
       "  * channels  (channels) &lt;U6 &#x27;Ch1-T1&#x27; &#x27;Ch1-T2&#x27;\n",
       "  * x         (x) float64 0.0 0.65 1.3 1.95 2.6 ... 813.8 814.5 815.1 815.8\n",
       "  * y         (y) float64 0.0 0.65 1.3 1.95 2.6 ... 813.8 814.5 815.1 815.8\n",
       "  * z         (z) float64 0.0 0.65 1.3 1.95 2.6 ... 14.95 15.6 16.25 16.9 17.55\n",
       "Attributes:\n",
       "    AcquisitionDate:      NOT-SET\n",
       "    Seriesname:           APV-CA1-#1_AnkG-488_Neun594 #2\n",
       "    X-PhysicalSize:       0.049345442271087926\n",
       "    X-PhysicalSize-Unit:  µm\n",
       "    Y-PhysicalSize:       0.049345442271087926\n",
       "    Y-PhysicalSize-Unit:  µm</pre>"
      ],
      "text/plain": [
       "<xarray.DataArray 'data' (x: 1256, y: 1256, channels: 2, z: 28)>\n",
       "dask.array<getitem, shape=(1256, 1256, 2, 28), dtype=float16, chunksize=(314, 314, 1, 7)>\n",
       "Coordinates:\n",
       "  * channels  (channels) <U6 'Ch1-T1' 'Ch1-T2'\n",
       "  * x         (x) float64 0.0 0.65 1.3 1.95 2.6 ... 813.8 814.5 815.1 815.8\n",
       "  * y         (y) float64 0.0 0.65 1.3 1.95 2.6 ... 813.8 814.5 815.1 815.8\n",
       "  * z         (z) float64 0.0 0.65 1.3 1.95 2.6 ... 14.95 15.6 16.25 16.9 17.55\n",
       "Attributes:\n",
       "    AcquisitionDate:      NOT-SET\n",
       "    Seriesname:           APV-CA1-#1_AnkG-488_Neun594 #2\n",
       "    X-PhysicalSize:       0.049345442271087926\n",
       "    X-PhysicalSize-Unit:  µm\n",
       "    Y-PhysicalSize:       0.049345442271087926\n",
       "    Y-PhysicalSize-Unit:  µm"
      ]
     },
     "execution_count": 31,
     "metadata": {},
     "output_type": "execute_result"
    }
   ],
   "source": [
    "array"
   ]
  },
  {
   "cell_type": "code",
   "execution_count": 32,
   "metadata": {},
   "outputs": [],
   "source": [
    "cmax = array.max()\n",
    "cmin = array.min()\n",
    "high = 255\n",
    "low = 0"
   ]
  },
  {
   "cell_type": "code",
   "execution_count": 33,
   "metadata": {},
   "outputs": [],
   "source": [
    "cscale = cmax - cmin\n",
    "scale = float(high - low) / cscale"
   ]
  },
  {
   "cell_type": "code",
   "execution_count": null,
   "metadata": {},
   "outputs": [],
   "source": [
    "scaled = (array - cmin) * scale + low\n",
    "final = (scalde.clip(low, high) + 0.5)"
   ]
  },
  {
   "cell_type": "code",
   "execution_count": 35,
   "metadata": {},
   "outputs": [],
   "source": [
    "emptychannel = xarray.DataArray((da.zeros((1256,1256,1,28))), dims=array.dims, coords={\"channels\":[\"empty\",]})\n",
    "end = xarray.concat([array,emptychannel],dim=\"channels\")\n",
    "end.attrs = array.attrs"
   ]
  },
  {
   "cell_type": "code",
   "execution_count": null,
   "metadata": {},
   "outputs": [],
   "source": [
    "end.compute()"
   ]
  }
 ],
 "metadata": {
  "kernelspec": {
   "display_name": "Python 3",
   "language": "python",
   "name": "python3"
  },
  "language_info": {
   "codemirror_mode": {
    "name": "ipython",
    "version": 3
   },
   "file_extension": ".py",
   "mimetype": "text/x-python",
   "name": "python",
   "nbconvert_exporter": "python",
   "pygments_lexer": "ipython3",
   "version": "3.7.3"
  }
 },
 "nbformat": 4,
 "nbformat_minor": 4
}

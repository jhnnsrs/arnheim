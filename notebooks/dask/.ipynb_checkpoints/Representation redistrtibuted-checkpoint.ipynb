{
 "cells": [
  {
   "cell_type": "code",
   "execution_count": 1,
   "metadata": {},
   "outputs": [
    {
     "name": "stdout",
     "output_type": "stream",
     "text": [
      "Debugging build\n",
      "Hallo\n"
     ]
    }
   ],
   "source": [
    "import matplotlib.pyplot as plt\n",
    "import numpy as np\n",
    "import dask.array as da\n",
    "import zarr as zr\n",
    "import django\n",
    "from dask.distributed import Client, progress\n",
    "\n",
    "django.setup()\n",
    "from bioconverter.models import Representation"
   ]
  },
  {
   "cell_type": "code",
   "execution_count": 2,
   "metadata": {},
   "outputs": [
    {
     "data": {
      "text/html": [
       "<table style=\"border: 2px solid white;\">\n",
       "<tr>\n",
       "<td style=\"vertical-align: top; border: 0px solid white\">\n",
       "<h3 style=\"text-align: left;\">Client</h3>\n",
       "<ul style=\"text-align: left; list-style: none; margin: 0; padding: 0;\">\n",
       "  <li><b>Scheduler: </b>tcp://daskscheduler:8786</li>\n",
       "  <li><b>Dashboard: </b><a href='http://daskscheduler:8787/status' target='_blank'>http://daskscheduler:8787/status</a>\n",
       "</ul>\n",
       "</td>\n",
       "<td style=\"vertical-align: top; border: 0px solid white\">\n",
       "<h3 style=\"text-align: left;\">Cluster</h3>\n",
       "<ul style=\"text-align: left; list-style:none; margin: 0; padding: 0;\">\n",
       "  <li><b>Workers: </b>1</li>\n",
       "  <li><b>Cores: </b>4</li>\n",
       "  <li><b>Memory: </b>4.14 GB</li>\n",
       "</ul>\n",
       "</td>\n",
       "</tr>\n",
       "</table>"
      ],
      "text/plain": [
       "<Client: 'tcp://172.18.0.2:8786' processes=1 threads=4, memory=4.14 GB>"
      ]
     },
     "execution_count": 2,
     "metadata": {},
     "output_type": "execute_result"
    }
   ],
   "source": [
    "c = Client()\n",
    "c"
   ]
  },
  {
   "cell_type": "code",
   "execution_count": 3,
   "metadata": {},
   "outputs": [],
   "source": [
    "it = Representation.distributed.filter(zarr__isnull=False)"
   ]
  },
  {
   "cell_type": "code",
   "execution_count": 25,
   "metadata": {},
   "outputs": [],
   "source": [
    "import dask.bag as db"
   ]
  },
  {
   "cell_type": "code",
   "execution_count": 39,
   "metadata": {},
   "outputs": [
    {
     "data": {
      "text/plain": [
       "[<xarray.DataArray 'data' (x: 1024, y: 1024, channels: 3, z: 21, time: 1)>\n",
       " dask.array<zarr, shape=(1024, 1024, 3, 21, 1), dtype=float16, chunksize=(256, 256, 1, 11, 1), chunktype=numpy.ndarray>\n",
       " Coordinates:\n",
       "   * channels  (channels) <U1 'R' 'G' 'B'\n",
       "   * time      (time) int64 0\n",
       "   * x         (x) float64 0.0 0.65 1.3 1.95 2.6 ... 663.0 663.6 664.3 665.0\n",
       "   * y         (y) float64 0.0 0.65 1.3 1.95 2.6 ... 663.0 663.6 664.3 665.0\n",
       "   * z         (z) float64 0.0 0.65 1.3 1.95 2.6 ... 10.4 11.05 11.7 12.35 13.0\n",
       " Attributes:\n",
       "     units:    µm,\n",
       " <xarray.DataArray 'data' (x: 1024, y: 1024, channels: 3, z: 21, time: 1)>\n",
       " dask.array<zarr, shape=(1024, 1024, 3, 21, 1), dtype=float16, chunksize=(256, 256, 1, 11, 1), chunktype=numpy.ndarray>\n",
       " Coordinates:\n",
       "   * channels  (channels) <U1 'R' 'G' 'B'\n",
       "   * time      (time) int64 0\n",
       "   * x         (x) float64 0.0 0.65 1.3 1.95 2.6 ... 663.0 663.6 664.3 665.0\n",
       "   * y         (y) float64 0.0 0.65 1.3 1.95 2.6 ... 663.0 663.6 664.3 665.0\n",
       "   * z         (z) float64 0.0 0.65 1.3 1.95 2.6 ... 10.4 11.05 11.7 12.35 13.0\n",
       " Attributes:\n",
       "     units:    µm,\n",
       " <xarray.DataArray 'data' (x: 1024, y: 1024, channels: 3, z: 21, time: 1)>\n",
       " dask.array<zarr, shape=(1024, 1024, 3, 21, 1), dtype=float16, chunksize=(256, 256, 1, 11, 1), chunktype=numpy.ndarray>\n",
       " Coordinates:\n",
       "   * channels  (channels) <U1 'R' 'G' 'B'\n",
       "   * time      (time) int64 0\n",
       "   * x         (x) float64 0.0 0.65 1.3 1.95 2.6 ... 663.0 663.6 664.3 665.0\n",
       "   * y         (y) float64 0.0 0.65 1.3 1.95 2.6 ... 663.0 663.6 664.3 665.0\n",
       "   * z         (z) float64 0.0 0.65 1.3 1.95 2.6 ... 10.4 11.05 11.7 12.35 13.0\n",
       " Attributes:\n",
       "     units:    µm,\n",
       " <xarray.DataArray 'data' (x: 1024, y: 1024, channels: 3, z: 21, time: 1)>\n",
       " dask.array<zarr, shape=(1024, 1024, 3, 21, 1), dtype=float16, chunksize=(256, 256, 1, 11, 1), chunktype=numpy.ndarray>\n",
       " Coordinates:\n",
       "   * channels  (channels) <U1 'R' 'G' 'B'\n",
       "   * time      (time) int64 0\n",
       "   * x         (x) float64 0.0 0.65 1.3 1.95 2.6 ... 663.0 663.6 664.3 665.0\n",
       "   * y         (y) float64 0.0 0.65 1.3 1.95 2.6 ... 663.0 663.6 664.3 665.0\n",
       "   * z         (z) float64 0.0 0.65 1.3 1.95 2.6 ... 10.4 11.05 11.7 12.35 13.0\n",
       " Attributes:\n",
       "     units:    µm,\n",
       " <xarray.DataArray 'data' (x: 1024, y: 1024, channels: 2, time: 1)>\n",
       " dask.array<zarr, shape=(1024, 1024, 2, 1), dtype=float16, chunksize=(256, 256, 1, 1), chunktype=numpy.ndarray>\n",
       " Coordinates:\n",
       "   * channels  (channels) <U1 'R' 'G'\n",
       "   * time      (time) int64 0\n",
       "   * x         (x) float64 0.0 0.65 1.3 1.95 2.6 ... 663.0 663.6 664.3 665.0\n",
       "   * y         (y) float64 0.0 0.65 1.3 1.95 2.6 ... 663.0 663.6 664.3 665.0,\n",
       " <xarray.DataArray 'data' (x: 1024, y: 1024, channels: 2, time: 1)>\n",
       " dask.array<zarr, shape=(1024, 1024, 2, 1), dtype=float16, chunksize=(256, 256, 1, 1), chunktype=numpy.ndarray>\n",
       " Coordinates:\n",
       "   * channels  (channels) <U1 'R' 'G'\n",
       "   * time      (time) int64 0\n",
       "   * x         (x) float64 0.0 0.65 1.3 1.95 2.6 ... 663.0 663.6 664.3 665.0\n",
       "   * y         (y) float64 0.0 0.65 1.3 1.95 2.6 ... 663.0 663.6 664.3 665.0,\n",
       " <xarray.DataArray 'data' (x: 1024, y: 1024, channels: 2, time: 1)>\n",
       " dask.array<zarr, shape=(1024, 1024, 2, 1), dtype=float16, chunksize=(256, 256, 1, 1), chunktype=numpy.ndarray>\n",
       " Coordinates:\n",
       "   * channels  (channels) <U1 'R' 'G'\n",
       "   * time      (time) int64 0\n",
       "   * x         (x) float64 0.0 0.65 1.3 1.95 2.6 ... 663.0 663.6 664.3 665.0\n",
       "   * y         (y) float64 0.0 0.65 1.3 1.95 2.6 ... 663.0 663.6 664.3 665.0,\n",
       " <xarray.DataArray 'data' (x: 1024, y: 1024, channels: 3, z: 21, time: 1)>\n",
       " dask.array<zarr, shape=(1024, 1024, 3, 21, 1), dtype=float16, chunksize=(256, 256, 1, 11, 1), chunktype=numpy.ndarray>\n",
       " Coordinates:\n",
       "   * channels  (channels) <U1 'R' 'G' 'B'\n",
       "   * time      (time) int64 0\n",
       "   * x         (x) float64 0.0 0.65 1.3 1.95 2.6 ... 663.0 663.6 664.3 665.0\n",
       "   * y         (y) float64 0.0 0.65 1.3 1.95 2.6 ... 663.0 663.6 664.3 665.0\n",
       "   * z         (z) float64 0.0 0.65 1.3 1.95 2.6 ... 10.4 11.05 11.7 12.35 13.0\n",
       " Attributes:\n",
       "     units:    µm,\n",
       " <xarray.DataArray 'data' (x: 1024, y: 1024, channels: 2, time: 1)>\n",
       " dask.array<zarr, shape=(1024, 1024, 2, 1), dtype=float16, chunksize=(256, 256, 1, 1), chunktype=numpy.ndarray>\n",
       " Coordinates:\n",
       "   * channels  (channels) <U1 'R' 'G'\n",
       "   * time      (time) int64 0\n",
       "   * x         (x) float64 0.0 0.65 1.3 1.95 2.6 ... 663.0 663.6 664.3 665.0\n",
       "   * y         (y) float64 0.0 0.65 1.3 1.95 2.6 ... 663.0 663.6 664.3 665.0,\n",
       " <xarray.DataArray 'data' (x: 1024, y: 1024, channels: 3, z: 12, time: 1)>\n",
       " dask.array<zarr, shape=(1024, 1024, 3, 12, 1), dtype=float16, chunksize=(256, 256, 1, 6, 1), chunktype=numpy.ndarray>\n",
       " Coordinates:\n",
       "   * channels  (channels) <U7 'DyName2' 'DyName3' 'DyName4'\n",
       "   * x         (x) float64 0.0 0.65 1.3 1.95 2.6 ... 663.0 663.6 664.3 665.0\n",
       "   * y         (y) float64 0.0 0.65 1.3 1.95 2.6 ... 663.0 663.6 664.3 665.0\n",
       "   * z         (z) float64 0.0 0.65 1.3 1.95 2.6 3.25 3.9 4.55 5.2 5.85 6.5 7.15\n",
       " Dimensions without coordinates: time\n",
       " Attributes:\n",
       "     units:    µm,\n",
       " <xarray.DataArray 'data' (x: 1024, y: 1024, channels: 3, z: 12, time: 1)>\n",
       " dask.array<zarr, shape=(1024, 1024, 3, 12, 1), dtype=float16, chunksize=(256, 256, 1, 6, 1), chunktype=numpy.ndarray>\n",
       " Coordinates:\n",
       "   * channels  (channels) <U7 'DyName2' 'DyName3' 'DyName4'\n",
       "   * x         (x) float64 0.0 0.65 1.3 1.95 2.6 ... 663.0 663.6 664.3 665.0\n",
       "   * y         (y) float64 0.0 0.65 1.3 1.95 2.6 ... 663.0 663.6 664.3 665.0\n",
       "   * z         (z) float64 0.0 0.65 1.3 1.95 2.6 3.25 3.9 4.55 5.2 5.85 6.5 7.15\n",
       " Dimensions without coordinates: time\n",
       " Attributes:\n",
       "     units:    µm]"
      ]
     },
     "execution_count": 39,
     "metadata": {},
     "output_type": "execute_result"
    }
   ],
   "source": [
    "zarrs = [ item.zarr.openArray() for item in it]\n",
    "zarrs"
   ]
  },
  {
   "cell_type": "code",
   "execution_count": 40,
   "metadata": {},
   "outputs": [],
   "source": [
    "lala = db.from_sequence(zarrs)"
   ]
  },
  {
   "cell_type": "code",
   "execution_count": 41,
   "metadata": {},
   "outputs": [
    {
     "data": {
      "text/plain": [
       "[<xarray.DataArray 'data' (x: 1024, y: 1024, channels: 3, z: 21, time: 1)>\n",
       " dask.array<zarr, shape=(1024, 1024, 3, 21, 1), dtype=float16, chunksize=(256, 256, 1, 11, 1), chunktype=numpy.ndarray>\n",
       " Coordinates:\n",
       "   * channels  (channels) <U1 'R' 'G' 'B'\n",
       "   * time      (time) int64 0\n",
       "   * x         (x) float64 0.0 0.65 1.3 1.95 2.6 ... 663.0 663.6 664.3 665.0\n",
       "   * y         (y) float64 0.0 0.65 1.3 1.95 2.6 ... 663.0 663.6 664.3 665.0\n",
       "   * z         (z) float64 0.0 0.65 1.3 1.95 2.6 ... 10.4 11.05 11.7 12.35 13.0\n",
       " Attributes:\n",
       "     units:    µm,\n",
       " <xarray.DataArray 'data' (x: 1024, y: 1024, channels: 3, z: 21, time: 1)>\n",
       " dask.array<zarr, shape=(1024, 1024, 3, 21, 1), dtype=float16, chunksize=(256, 256, 1, 11, 1), chunktype=numpy.ndarray>\n",
       " Coordinates:\n",
       "   * channels  (channels) <U1 'R' 'G' 'B'\n",
       "   * time      (time) int64 0\n",
       "   * x         (x) float64 0.0 0.65 1.3 1.95 2.6 ... 663.0 663.6 664.3 665.0\n",
       "   * y         (y) float64 0.0 0.65 1.3 1.95 2.6 ... 663.0 663.6 664.3 665.0\n",
       "   * z         (z) float64 0.0 0.65 1.3 1.95 2.6 ... 10.4 11.05 11.7 12.35 13.0\n",
       " Attributes:\n",
       "     units:    µm,\n",
       " <xarray.DataArray 'data' (x: 1024, y: 1024, channels: 3, z: 21, time: 1)>\n",
       " dask.array<zarr, shape=(1024, 1024, 3, 21, 1), dtype=float16, chunksize=(256, 256, 1, 11, 1), chunktype=numpy.ndarray>\n",
       " Coordinates:\n",
       "   * channels  (channels) <U1 'R' 'G' 'B'\n",
       "   * time      (time) int64 0\n",
       "   * x         (x) float64 0.0 0.65 1.3 1.95 2.6 ... 663.0 663.6 664.3 665.0\n",
       "   * y         (y) float64 0.0 0.65 1.3 1.95 2.6 ... 663.0 663.6 664.3 665.0\n",
       "   * z         (z) float64 0.0 0.65 1.3 1.95 2.6 ... 10.4 11.05 11.7 12.35 13.0\n",
       " Attributes:\n",
       "     units:    µm,\n",
       " <xarray.DataArray 'data' (x: 1024, y: 1024, channels: 3, z: 21, time: 1)>\n",
       " dask.array<zarr, shape=(1024, 1024, 3, 21, 1), dtype=float16, chunksize=(256, 256, 1, 11, 1), chunktype=numpy.ndarray>\n",
       " Coordinates:\n",
       "   * channels  (channels) <U1 'R' 'G' 'B'\n",
       "   * time      (time) int64 0\n",
       "   * x         (x) float64 0.0 0.65 1.3 1.95 2.6 ... 663.0 663.6 664.3 665.0\n",
       "   * y         (y) float64 0.0 0.65 1.3 1.95 2.6 ... 663.0 663.6 664.3 665.0\n",
       "   * z         (z) float64 0.0 0.65 1.3 1.95 2.6 ... 10.4 11.05 11.7 12.35 13.0\n",
       " Attributes:\n",
       "     units:    µm,\n",
       " <xarray.DataArray 'data' (x: 1024, y: 1024, channels: 2, time: 1)>\n",
       " dask.array<zarr, shape=(1024, 1024, 2, 1), dtype=float16, chunksize=(256, 256, 1, 1), chunktype=numpy.ndarray>\n",
       " Coordinates:\n",
       "   * channels  (channels) <U1 'R' 'G'\n",
       "   * time      (time) int64 0\n",
       "   * x         (x) float64 0.0 0.65 1.3 1.95 2.6 ... 663.0 663.6 664.3 665.0\n",
       "   * y         (y) float64 0.0 0.65 1.3 1.95 2.6 ... 663.0 663.6 664.3 665.0,\n",
       " <xarray.DataArray 'data' (x: 1024, y: 1024, channels: 2, time: 1)>\n",
       " dask.array<zarr, shape=(1024, 1024, 2, 1), dtype=float16, chunksize=(256, 256, 1, 1), chunktype=numpy.ndarray>\n",
       " Coordinates:\n",
       "   * channels  (channels) <U1 'R' 'G'\n",
       "   * time      (time) int64 0\n",
       "   * x         (x) float64 0.0 0.65 1.3 1.95 2.6 ... 663.0 663.6 664.3 665.0\n",
       "   * y         (y) float64 0.0 0.65 1.3 1.95 2.6 ... 663.0 663.6 664.3 665.0,\n",
       " <xarray.DataArray 'data' (x: 1024, y: 1024, channels: 2, time: 1)>\n",
       " dask.array<zarr, shape=(1024, 1024, 2, 1), dtype=float16, chunksize=(256, 256, 1, 1), chunktype=numpy.ndarray>\n",
       " Coordinates:\n",
       "   * channels  (channels) <U1 'R' 'G'\n",
       "   * time      (time) int64 0\n",
       "   * x         (x) float64 0.0 0.65 1.3 1.95 2.6 ... 663.0 663.6 664.3 665.0\n",
       "   * y         (y) float64 0.0 0.65 1.3 1.95 2.6 ... 663.0 663.6 664.3 665.0,\n",
       " <xarray.DataArray 'data' (x: 1024, y: 1024, channels: 3, z: 21, time: 1)>\n",
       " dask.array<zarr, shape=(1024, 1024, 3, 21, 1), dtype=float16, chunksize=(256, 256, 1, 11, 1), chunktype=numpy.ndarray>\n",
       " Coordinates:\n",
       "   * channels  (channels) <U1 'R' 'G' 'B'\n",
       "   * time      (time) int64 0\n",
       "   * x         (x) float64 0.0 0.65 1.3 1.95 2.6 ... 663.0 663.6 664.3 665.0\n",
       "   * y         (y) float64 0.0 0.65 1.3 1.95 2.6 ... 663.0 663.6 664.3 665.0\n",
       "   * z         (z) float64 0.0 0.65 1.3 1.95 2.6 ... 10.4 11.05 11.7 12.35 13.0\n",
       " Attributes:\n",
       "     units:    µm,\n",
       " <xarray.DataArray 'data' (x: 1024, y: 1024, channels: 2, time: 1)>\n",
       " dask.array<zarr, shape=(1024, 1024, 2, 1), dtype=float16, chunksize=(256, 256, 1, 1), chunktype=numpy.ndarray>\n",
       " Coordinates:\n",
       "   * channels  (channels) <U1 'R' 'G'\n",
       "   * time      (time) int64 0\n",
       "   * x         (x) float64 0.0 0.65 1.3 1.95 2.6 ... 663.0 663.6 664.3 665.0\n",
       "   * y         (y) float64 0.0 0.65 1.3 1.95 2.6 ... 663.0 663.6 664.3 665.0,\n",
       " <xarray.DataArray 'data' (x: 1024, y: 1024, channels: 3, z: 12, time: 1)>\n",
       " dask.array<zarr, shape=(1024, 1024, 3, 12, 1), dtype=float16, chunksize=(256, 256, 1, 6, 1), chunktype=numpy.ndarray>\n",
       " Coordinates:\n",
       "   * channels  (channels) <U7 'DyName2' 'DyName3' 'DyName4'\n",
       "   * x         (x) float64 0.0 0.65 1.3 1.95 2.6 ... 663.0 663.6 664.3 665.0\n",
       "   * y         (y) float64 0.0 0.65 1.3 1.95 2.6 ... 663.0 663.6 664.3 665.0\n",
       "   * z         (z) float64 0.0 0.65 1.3 1.95 2.6 3.25 3.9 4.55 5.2 5.85 6.5 7.15\n",
       " Dimensions without coordinates: time\n",
       " Attributes:\n",
       "     units:    µm,\n",
       " <xarray.DataArray 'data' (x: 1024, y: 1024, channels: 3, z: 12, time: 1)>\n",
       " dask.array<zarr, shape=(1024, 1024, 3, 12, 1), dtype=float16, chunksize=(256, 256, 1, 6, 1), chunktype=numpy.ndarray>\n",
       " Coordinates:\n",
       "   * channels  (channels) <U7 'DyName2' 'DyName3' 'DyName4'\n",
       "   * x         (x) float64 0.0 0.65 1.3 1.95 2.6 ... 663.0 663.6 664.3 665.0\n",
       "   * y         (y) float64 0.0 0.65 1.3 1.95 2.6 ... 663.0 663.6 664.3 665.0\n",
       "   * z         (z) float64 0.0 0.65 1.3 1.95 2.6 3.25 3.9 4.55 5.2 5.85 6.5 7.15\n",
       " Dimensions without coordinates: time\n",
       " Attributes:\n",
       "     units:    µm]"
      ]
     },
     "execution_count": 41,
     "metadata": {},
     "output_type": "execute_result"
    }
   ],
   "source": [
    "lala.compute()"
   ]
  }
 ],
 "metadata": {
  "kernelspec": {
   "display_name": "Python 3",
   "language": "python",
   "name": "python3"
  },
  "language_info": {
   "codemirror_mode": {
    "name": "ipython",
    "version": 3
   },
   "file_extension": ".py",
   "mimetype": "text/x-python",
   "name": "python",
   "nbconvert_exporter": "python",
   "pygments_lexer": "ipython3",
   "version": "3.7.3"
  }
 },
 "nbformat": 4,
 "nbformat_minor": 4
}

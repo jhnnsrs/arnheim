{
 "cells": [
  {
   "cell_type": "code",
   "execution_count": 1,
   "metadata": {},
   "outputs": [
    {
     "name": "stdout",
     "output_type": "stream",
     "text": [
      "Debugging build\n",
      "Hallo\n"
     ]
    }
   ],
   "source": [
    "import matplotlib.pyplot as plt\n",
    "import numpy as np\n",
    "import dask.array as da\n",
    "import zarr as zr\n",
    "import django\n",
    "from dask.distributed import Client, progress\n",
    "\n",
    "django.setup()\n",
    "from bioconverter.models import Representation"
   ]
  },
  {
   "cell_type": "code",
   "execution_count": 2,
   "metadata": {},
   "outputs": [
    {
     "data": {
      "text/html": [
       "<table style=\"border: 2px solid white;\">\n",
       "<tr>\n",
       "<td style=\"vertical-align: top; border: 0px solid white\">\n",
       "<h3 style=\"text-align: left;\">Client</h3>\n",
       "<ul style=\"text-align: left; list-style: none; margin: 0; padding: 0;\">\n",
       "  <li><b>Scheduler: </b>tcp://daskscheduler:8786</li>\n",
       "  <li><b>Dashboard: </b><a href='http://daskscheduler:8787/status' target='_blank'>http://daskscheduler:8787/status</a>\n",
       "</ul>\n",
       "</td>\n",
       "<td style=\"vertical-align: top; border: 0px solid white\">\n",
       "<h3 style=\"text-align: left;\">Cluster</h3>\n",
       "<ul style=\"text-align: left; list-style:none; margin: 0; padding: 0;\">\n",
       "  <li><b>Workers: </b>1</li>\n",
       "  <li><b>Cores: </b>4</li>\n",
       "  <li><b>Memory: </b>4.14 GB</li>\n",
       "</ul>\n",
       "</td>\n",
       "</tr>\n",
       "</table>"
      ],
      "text/plain": [
       "<Client: 'tcp://172.18.0.2:8786' processes=1 threads=4, memory=4.14 GB>"
      ]
     },
     "execution_count": 2,
     "metadata": {},
     "output_type": "execute_result"
    }
   ],
   "source": [
    "c = Client()\n",
    "c"
   ]
  },
  {
   "cell_type": "code",
   "execution_count": 3,
   "metadata": {},
   "outputs": [],
   "source": [
    "it = Representation.distributed.filter(zarr__isnull=False)"
   ]
  },
  {
   "cell_type": "code",
   "execution_count": 4,
   "metadata": {},
   "outputs": [
    {
     "data": {
      "text/plain": [
       "(1024, 1024, 3, 21, 1)"
      ]
     },
     "execution_count": 4,
     "metadata": {},
     "output_type": "execute_result"
    }
   ],
   "source": [
    "it.first().loadArray().shape"
   ]
  },
  {
   "cell_type": "code",
   "execution_count": 5,
   "metadata": {},
   "outputs": [],
   "source": [
    "arrays = it.asArrays().map(lambda x: x.sel(time=0)).filter(lambda x: len(x.shape) == 4).filter(lambda item: item.shape[3] == 21)"
   ]
  },
  {
   "cell_type": "code",
   "execution_count": 6,
   "metadata": {},
   "outputs": [
    {
     "data": {
      "text/plain": [
       "[<xarray.DataArray 'data' (x: 1024, y: 1024, channels: 3, z: 21)>\n",
       " dask.array<getitem, shape=(1024, 1024, 3, 21), dtype=float16, chunksize=(256, 256, 1, 11), chunktype=numpy.ndarray>\n",
       " Coordinates:\n",
       "   * channels  (channels) <U1 'R' 'G' 'B'\n",
       "     time      int64 0\n",
       "   * x         (x) float64 0.0 0.65 1.3 1.95 2.6 ... 663.0 663.6 664.3 665.0\n",
       "   * y         (y) float64 0.0 0.65 1.3 1.95 2.6 ... 663.0 663.6 664.3 665.0\n",
       "   * z         (z) float64 0.0 0.65 1.3 1.95 2.6 ... 10.4 11.05 11.7 12.35 13.0\n",
       " Attributes:\n",
       "     units:    µm,\n",
       " <xarray.DataArray 'data' (x: 1024, y: 1024, channels: 3, z: 21)>\n",
       " dask.array<getitem, shape=(1024, 1024, 3, 21), dtype=float16, chunksize=(256, 256, 1, 11), chunktype=numpy.ndarray>\n",
       " Coordinates:\n",
       "   * channels  (channels) <U1 'R' 'G' 'B'\n",
       "     time      int64 0\n",
       "   * x         (x) float64 0.0 0.65 1.3 1.95 2.6 ... 663.0 663.6 664.3 665.0\n",
       "   * y         (y) float64 0.0 0.65 1.3 1.95 2.6 ... 663.0 663.6 664.3 665.0\n",
       "   * z         (z) float64 0.0 0.65 1.3 1.95 2.6 ... 10.4 11.05 11.7 12.35 13.0\n",
       " Attributes:\n",
       "     units:    µm,\n",
       " <xarray.DataArray 'data' (x: 1024, y: 1024, channels: 3, z: 21)>\n",
       " dask.array<getitem, shape=(1024, 1024, 3, 21), dtype=float16, chunksize=(256, 256, 1, 11), chunktype=numpy.ndarray>\n",
       " Coordinates:\n",
       "   * channels  (channels) <U1 'R' 'G' 'B'\n",
       "     time      int64 0\n",
       "   * x         (x) float64 0.0 0.65 1.3 1.95 2.6 ... 663.0 663.6 664.3 665.0\n",
       "   * y         (y) float64 0.0 0.65 1.3 1.95 2.6 ... 663.0 663.6 664.3 665.0\n",
       "   * z         (z) float64 0.0 0.65 1.3 1.95 2.6 ... 10.4 11.05 11.7 12.35 13.0\n",
       " Attributes:\n",
       "     units:    µm,\n",
       " <xarray.DataArray 'data' (x: 1024, y: 1024, channels: 3, z: 21)>\n",
       " dask.array<getitem, shape=(1024, 1024, 3, 21), dtype=float16, chunksize=(256, 256, 1, 11), chunktype=numpy.ndarray>\n",
       " Coordinates:\n",
       "   * channels  (channels) <U1 'R' 'G' 'B'\n",
       "     time      int64 0\n",
       "   * x         (x) float64 0.0 0.65 1.3 1.95 2.6 ... 663.0 663.6 664.3 665.0\n",
       "   * y         (y) float64 0.0 0.65 1.3 1.95 2.6 ... 663.0 663.6 664.3 665.0\n",
       "   * z         (z) float64 0.0 0.65 1.3 1.95 2.6 ... 10.4 11.05 11.7 12.35 13.0\n",
       " Attributes:\n",
       "     units:    µm,\n",
       " <xarray.DataArray 'data' (x: 1024, y: 1024, channels: 3, z: 21)>\n",
       " dask.array<getitem, shape=(1024, 1024, 3, 21), dtype=float16, chunksize=(256, 256, 1, 11), chunktype=numpy.ndarray>\n",
       " Coordinates:\n",
       "   * channels  (channels) <U1 'R' 'G' 'B'\n",
       "     time      int64 0\n",
       "   * x         (x) float64 0.0 0.65 1.3 1.95 2.6 ... 663.0 663.6 664.3 665.0\n",
       "   * y         (y) float64 0.0 0.65 1.3 1.95 2.6 ... 663.0 663.6 664.3 665.0\n",
       "   * z         (z) float64 0.0 0.65 1.3 1.95 2.6 ... 10.4 11.05 11.7 12.35 13.0\n",
       " Attributes:\n",
       "     units:    µm]"
      ]
     },
     "execution_count": 6,
     "metadata": {},
     "output_type": "execute_result"
    }
   ],
   "source": [
    "arrays.compute()"
   ]
  },
  {
   "cell_type": "code",
   "execution_count": 7,
   "metadata": {},
   "outputs": [],
   "source": [
    "import dask.array as da\n",
    "s = da.stack(arrays, axis=0)"
   ]
  },
  {
   "cell_type": "code",
   "execution_count": 8,
   "metadata": {},
   "outputs": [
    {
     "data": {
      "text/html": [
       "<table>\n",
       "<tr>\n",
       "<td>\n",
       "<table>\n",
       "  <thead>\n",
       "    <tr><td> </td><th> Array </th><th> Chunk </th></tr>\n",
       "  </thead>\n",
       "  <tbody>\n",
       "    <tr><th> Bytes </th><td> 660.60 MB </td> <td> 1.44 MB </td></tr>\n",
       "    <tr><th> Shape </th><td> (5, 1024, 1024, 3, 21) </td> <td> (1, 256, 256, 1, 11) </td></tr>\n",
       "    <tr><th> Count </th><td> 1445 Tasks </td><td> 480 Chunks </td></tr>\n",
       "    <tr><th> Type </th><td> float16 </td><td> numpy.ndarray </td></tr>\n",
       "  </tbody>\n",
       "</table>\n",
       "</td>\n",
       "<td>\n",
       "<svg width=\"529\" height=\"146\" style=\"stroke:rgb(0,0,0);stroke-width:1\" >\n",
       "\n",
       "  <!-- Horizontal lines -->\n",
       "  <line x1=\"0\" y1=\"0\" x2=\"120\" y2=\"0\" style=\"stroke-width:2\" />\n",
       "  <line x1=\"0\" y1=\"5\" x2=\"120\" y2=\"5\" />\n",
       "  <line x1=\"0\" y1=\"10\" x2=\"120\" y2=\"10\" />\n",
       "  <line x1=\"0\" y1=\"15\" x2=\"120\" y2=\"15\" />\n",
       "  <line x1=\"0\" y1=\"20\" x2=\"120\" y2=\"20\" />\n",
       "  <line x1=\"0\" y1=\"25\" x2=\"120\" y2=\"25\" style=\"stroke-width:2\" />\n",
       "\n",
       "  <!-- Vertical lines -->\n",
       "  <line x1=\"0\" y1=\"0\" x2=\"0\" y2=\"25\" style=\"stroke-width:2\" />\n",
       "  <line x1=\"30\" y1=\"0\" x2=\"30\" y2=\"25\" />\n",
       "  <line x1=\"60\" y1=\"0\" x2=\"60\" y2=\"25\" />\n",
       "  <line x1=\"90\" y1=\"0\" x2=\"90\" y2=\"25\" />\n",
       "  <line x1=\"120\" y1=\"0\" x2=\"120\" y2=\"25\" style=\"stroke-width:2\" />\n",
       "\n",
       "  <!-- Colored Rectangle -->\n",
       "  <polygon points=\"0.000000,0.000000 120.000000,0.000000 120.000000,25.412617 0.000000,25.412617\" style=\"fill:#ECB172A0;stroke-width:0\"/>\n",
       "\n",
       "  <!-- Text -->\n",
       "  <text x=\"60.000000\" y=\"45.412617\" font-size=\"1.0rem\" font-weight=\"100\" text-anchor=\"middle\" >1024</text>\n",
       "  <text x=\"140.000000\" y=\"12.706308\" font-size=\"1.0rem\" font-weight=\"100\" text-anchor=\"middle\" transform=\"rotate(0,140.000000,12.706308)\">5</text>\n",
       "\n",
       "\n",
       "  <!-- Horizontal lines -->\n",
       "  <line x1=\"190\" y1=\"0\" x2=\"260\" y2=\"70\" style=\"stroke-width:2\" />\n",
       "  <line x1=\"190\" y1=\"8\" x2=\"260\" y2=\"79\" />\n",
       "  <line x1=\"190\" y1=\"16\" x2=\"260\" y2=\"87\" />\n",
       "  <line x1=\"190\" y1=\"25\" x2=\"260\" y2=\"96\" style=\"stroke-width:2\" />\n",
       "\n",
       "  <!-- Vertical lines -->\n",
       "  <line x1=\"190\" y1=\"0\" x2=\"190\" y2=\"25\" style=\"stroke-width:2\" />\n",
       "  <line x1=\"207\" y1=\"17\" x2=\"207\" y2=\"43\" />\n",
       "  <line x1=\"225\" y1=\"35\" x2=\"225\" y2=\"60\" />\n",
       "  <line x1=\"242\" y1=\"52\" x2=\"242\" y2=\"78\" />\n",
       "  <line x1=\"260\" y1=\"70\" x2=\"260\" y2=\"96\" style=\"stroke-width:2\" />\n",
       "\n",
       "  <!-- Colored Rectangle -->\n",
       "  <polygon points=\"190.000000,0.000000 260.588235,70.588235 260.588235,96.000852 190.000000,25.412617\" style=\"fill:#ECB172A0;stroke-width:0\"/>\n",
       "\n",
       "  <!-- Horizontal lines -->\n",
       "  <line x1=\"190\" y1=\"0\" x2=\"219\" y2=\"0\" style=\"stroke-width:2\" />\n",
       "  <line x1=\"207\" y1=\"17\" x2=\"236\" y2=\"17\" />\n",
       "  <line x1=\"225\" y1=\"35\" x2=\"254\" y2=\"35\" />\n",
       "  <line x1=\"242\" y1=\"52\" x2=\"272\" y2=\"52\" />\n",
       "  <line x1=\"260\" y1=\"70\" x2=\"289\" y2=\"70\" style=\"stroke-width:2\" />\n",
       "\n",
       "  <!-- Vertical lines -->\n",
       "  <line x1=\"190\" y1=\"0\" x2=\"260\" y2=\"70\" style=\"stroke-width:2\" />\n",
       "  <line x1=\"205\" y1=\"0\" x2=\"275\" y2=\"70\" />\n",
       "  <line x1=\"219\" y1=\"0\" x2=\"289\" y2=\"70\" style=\"stroke-width:2\" />\n",
       "\n",
       "  <!-- Colored Rectangle -->\n",
       "  <polygon points=\"190.000000,0.000000 219.172064,0.000000 289.760299,70.588235 260.588235,70.588235\" style=\"fill:#ECB172A0;stroke-width:0\"/>\n",
       "\n",
       "  <!-- Horizontal lines -->\n",
       "  <line x1=\"260\" y1=\"70\" x2=\"289\" y2=\"70\" style=\"stroke-width:2\" />\n",
       "  <line x1=\"260\" y1=\"79\" x2=\"289\" y2=\"79\" />\n",
       "  <line x1=\"260\" y1=\"87\" x2=\"289\" y2=\"87\" />\n",
       "  <line x1=\"260\" y1=\"96\" x2=\"289\" y2=\"96\" style=\"stroke-width:2\" />\n",
       "\n",
       "  <!-- Vertical lines -->\n",
       "  <line x1=\"260\" y1=\"70\" x2=\"260\" y2=\"96\" style=\"stroke-width:2\" />\n",
       "  <line x1=\"275\" y1=\"70\" x2=\"275\" y2=\"96\" />\n",
       "  <line x1=\"289\" y1=\"70\" x2=\"289\" y2=\"96\" style=\"stroke-width:2\" />\n",
       "\n",
       "  <!-- Colored Rectangle -->\n",
       "  <polygon points=\"260.588235,70.588235 289.760299,70.588235 289.760299,96.000852 260.588235,96.000852\" style=\"fill:#ECB172A0;stroke-width:0\"/>\n",
       "\n",
       "  <!-- Text -->\n",
       "  <text x=\"275.174267\" y=\"116.000852\" font-size=\"1.0rem\" font-weight=\"100\" text-anchor=\"middle\" >21</text>\n",
       "  <text x=\"309.760299\" y=\"83.294544\" font-size=\"1.0rem\" font-weight=\"100\" text-anchor=\"middle\" transform=\"rotate(0,309.760299,83.294544)\">3</text>\n",
       "  <text x=\"215.294118\" y=\"80.706734\" font-size=\"1.0rem\" font-weight=\"100\" text-anchor=\"middle\" transform=\"rotate(45,215.294118,80.706734)\">1024</text>\n",
       "</svg>\n",
       "</td>\n",
       "</tr>\n",
       "</table>"
      ],
      "text/plain": [
       "dask.array<stack, shape=(5, 1024, 1024, 3, 21), dtype=float16, chunksize=(1, 256, 256, 1, 11), chunktype=numpy.ndarray>"
      ]
     },
     "execution_count": 8,
     "metadata": {},
     "output_type": "execute_result"
    }
   ],
   "source": [
    "s"
   ]
  },
  {
   "cell_type": "code",
   "execution_count": 13,
   "metadata": {},
   "outputs": [],
   "source": [
    "new = s.persist()"
   ]
  },
  {
   "cell_type": "code",
   "execution_count": 16,
   "metadata": {},
   "outputs": [],
   "source": [
    "new = new * 2"
   ]
  },
  {
   "cell_type": "code",
   "execution_count": 17,
   "metadata": {},
   "outputs": [
    {
     "data": {
      "text/html": [
       "<table>\n",
       "<tr>\n",
       "<td>\n",
       "<table>\n",
       "  <thead>\n",
       "    <tr><td> </td><th> Array </th><th> Chunk </th></tr>\n",
       "  </thead>\n",
       "  <tbody>\n",
       "    <tr><th> Bytes </th><td> 660.60 MB </td> <td> 1.44 MB </td></tr>\n",
       "    <tr><th> Shape </th><td> (5, 1024, 1024, 3, 21) </td> <td> (1, 256, 256, 1, 11) </td></tr>\n",
       "    <tr><th> Count </th><td> 480 Tasks </td><td> 480 Chunks </td></tr>\n",
       "    <tr><th> Type </th><td> float16 </td><td> numpy.ndarray </td></tr>\n",
       "  </tbody>\n",
       "</table>\n",
       "</td>\n",
       "<td>\n",
       "<svg width=\"529\" height=\"146\" style=\"stroke:rgb(0,0,0);stroke-width:1\" >\n",
       "\n",
       "  <!-- Horizontal lines -->\n",
       "  <line x1=\"0\" y1=\"0\" x2=\"120\" y2=\"0\" style=\"stroke-width:2\" />\n",
       "  <line x1=\"0\" y1=\"5\" x2=\"120\" y2=\"5\" />\n",
       "  <line x1=\"0\" y1=\"10\" x2=\"120\" y2=\"10\" />\n",
       "  <line x1=\"0\" y1=\"15\" x2=\"120\" y2=\"15\" />\n",
       "  <line x1=\"0\" y1=\"20\" x2=\"120\" y2=\"20\" />\n",
       "  <line x1=\"0\" y1=\"25\" x2=\"120\" y2=\"25\" style=\"stroke-width:2\" />\n",
       "\n",
       "  <!-- Vertical lines -->\n",
       "  <line x1=\"0\" y1=\"0\" x2=\"0\" y2=\"25\" style=\"stroke-width:2\" />\n",
       "  <line x1=\"30\" y1=\"0\" x2=\"30\" y2=\"25\" />\n",
       "  <line x1=\"60\" y1=\"0\" x2=\"60\" y2=\"25\" />\n",
       "  <line x1=\"90\" y1=\"0\" x2=\"90\" y2=\"25\" />\n",
       "  <line x1=\"120\" y1=\"0\" x2=\"120\" y2=\"25\" style=\"stroke-width:2\" />\n",
       "\n",
       "  <!-- Colored Rectangle -->\n",
       "  <polygon points=\"0.000000,0.000000 120.000000,0.000000 120.000000,25.412617 0.000000,25.412617\" style=\"fill:#ECB172A0;stroke-width:0\"/>\n",
       "\n",
       "  <!-- Text -->\n",
       "  <text x=\"60.000000\" y=\"45.412617\" font-size=\"1.0rem\" font-weight=\"100\" text-anchor=\"middle\" >1024</text>\n",
       "  <text x=\"140.000000\" y=\"12.706308\" font-size=\"1.0rem\" font-weight=\"100\" text-anchor=\"middle\" transform=\"rotate(0,140.000000,12.706308)\">5</text>\n",
       "\n",
       "\n",
       "  <!-- Horizontal lines -->\n",
       "  <line x1=\"190\" y1=\"0\" x2=\"260\" y2=\"70\" style=\"stroke-width:2\" />\n",
       "  <line x1=\"190\" y1=\"8\" x2=\"260\" y2=\"79\" />\n",
       "  <line x1=\"190\" y1=\"16\" x2=\"260\" y2=\"87\" />\n",
       "  <line x1=\"190\" y1=\"25\" x2=\"260\" y2=\"96\" style=\"stroke-width:2\" />\n",
       "\n",
       "  <!-- Vertical lines -->\n",
       "  <line x1=\"190\" y1=\"0\" x2=\"190\" y2=\"25\" style=\"stroke-width:2\" />\n",
       "  <line x1=\"207\" y1=\"17\" x2=\"207\" y2=\"43\" />\n",
       "  <line x1=\"225\" y1=\"35\" x2=\"225\" y2=\"60\" />\n",
       "  <line x1=\"242\" y1=\"52\" x2=\"242\" y2=\"78\" />\n",
       "  <line x1=\"260\" y1=\"70\" x2=\"260\" y2=\"96\" style=\"stroke-width:2\" />\n",
       "\n",
       "  <!-- Colored Rectangle -->\n",
       "  <polygon points=\"190.000000,0.000000 260.588235,70.588235 260.588235,96.000852 190.000000,25.412617\" style=\"fill:#ECB172A0;stroke-width:0\"/>\n",
       "\n",
       "  <!-- Horizontal lines -->\n",
       "  <line x1=\"190\" y1=\"0\" x2=\"219\" y2=\"0\" style=\"stroke-width:2\" />\n",
       "  <line x1=\"207\" y1=\"17\" x2=\"236\" y2=\"17\" />\n",
       "  <line x1=\"225\" y1=\"35\" x2=\"254\" y2=\"35\" />\n",
       "  <line x1=\"242\" y1=\"52\" x2=\"272\" y2=\"52\" />\n",
       "  <line x1=\"260\" y1=\"70\" x2=\"289\" y2=\"70\" style=\"stroke-width:2\" />\n",
       "\n",
       "  <!-- Vertical lines -->\n",
       "  <line x1=\"190\" y1=\"0\" x2=\"260\" y2=\"70\" style=\"stroke-width:2\" />\n",
       "  <line x1=\"205\" y1=\"0\" x2=\"275\" y2=\"70\" />\n",
       "  <line x1=\"219\" y1=\"0\" x2=\"289\" y2=\"70\" style=\"stroke-width:2\" />\n",
       "\n",
       "  <!-- Colored Rectangle -->\n",
       "  <polygon points=\"190.000000,0.000000 219.172064,0.000000 289.760299,70.588235 260.588235,70.588235\" style=\"fill:#ECB172A0;stroke-width:0\"/>\n",
       "\n",
       "  <!-- Horizontal lines -->\n",
       "  <line x1=\"260\" y1=\"70\" x2=\"289\" y2=\"70\" style=\"stroke-width:2\" />\n",
       "  <line x1=\"260\" y1=\"79\" x2=\"289\" y2=\"79\" />\n",
       "  <line x1=\"260\" y1=\"87\" x2=\"289\" y2=\"87\" />\n",
       "  <line x1=\"260\" y1=\"96\" x2=\"289\" y2=\"96\" style=\"stroke-width:2\" />\n",
       "\n",
       "  <!-- Vertical lines -->\n",
       "  <line x1=\"260\" y1=\"70\" x2=\"260\" y2=\"96\" style=\"stroke-width:2\" />\n",
       "  <line x1=\"275\" y1=\"70\" x2=\"275\" y2=\"96\" />\n",
       "  <line x1=\"289\" y1=\"70\" x2=\"289\" y2=\"96\" style=\"stroke-width:2\" />\n",
       "\n",
       "  <!-- Colored Rectangle -->\n",
       "  <polygon points=\"260.588235,70.588235 289.760299,70.588235 289.760299,96.000852 260.588235,96.000852\" style=\"fill:#ECB172A0;stroke-width:0\"/>\n",
       "\n",
       "  <!-- Text -->\n",
       "  <text x=\"275.174267\" y=\"116.000852\" font-size=\"1.0rem\" font-weight=\"100\" text-anchor=\"middle\" >21</text>\n",
       "  <text x=\"309.760299\" y=\"83.294544\" font-size=\"1.0rem\" font-weight=\"100\" text-anchor=\"middle\" transform=\"rotate(0,309.760299,83.294544)\">3</text>\n",
       "  <text x=\"215.294118\" y=\"80.706734\" font-size=\"1.0rem\" font-weight=\"100\" text-anchor=\"middle\" transform=\"rotate(45,215.294118,80.706734)\">1024</text>\n",
       "</svg>\n",
       "</td>\n",
       "</tr>\n",
       "</table>"
      ],
      "text/plain": [
       "dask.array<mul, shape=(5, 1024, 1024, 3, 21), dtype=float16, chunksize=(1, 256, 256, 1, 11), chunktype=numpy.ndarray>"
      ]
     },
     "execution_count": 17,
     "metadata": {},
     "output_type": "execute_result"
    }
   ],
   "source": [
    "new.persist()"
   ]
  }
 ],
 "metadata": {
  "kernelspec": {
   "display_name": "Python 3",
   "language": "python",
   "name": "python3"
  },
  "language_info": {
   "codemirror_mode": {
    "name": "ipython",
    "version": 3
   },
   "file_extension": ".py",
   "mimetype": "text/x-python",
   "name": "python",
   "nbconvert_exporter": "python",
   "pygments_lexer": "ipython3",
   "version": "3.7.3"
  }
 },
 "nbformat": 4,
 "nbformat_minor": 4
}

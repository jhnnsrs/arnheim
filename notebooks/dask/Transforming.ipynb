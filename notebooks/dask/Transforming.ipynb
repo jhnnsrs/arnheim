{
 "cells": [
  {
   "cell_type": "code",
   "execution_count": 1,
   "metadata": {},
   "outputs": [
    {
     "name": "stdout",
     "output_type": "stream",
     "text": [
      "Debugging build\n",
      "Hallo\n"
     ]
    }
   ],
   "source": [
    "import matplotlib.pyplot as plt\n",
    "import numpy as np\n",
    "import dask.array as da\n",
    "import zarr as zr\n",
    "import django\n",
    "from dask.distributed import Client, progress\n",
    "\n",
    "django.setup()\n",
    "from elements.models import Zarr\n",
    "from dask.distributed import Client, progress\n",
    "c = Client()\n",
    "import xarray, h5py"
   ]
  },
  {
   "cell_type": "code",
   "execution_count": 3,
   "metadata": {},
   "outputs": [],
   "source": [
    "\n",
    "from metamorphers.models import Metamorphing"
   ]
  },
  {
   "cell_type": "code",
   "execution_count": 4,
   "metadata": {},
   "outputs": [],
   "source": [
    "met = Metamorphing.objects.last()"
   ]
  },
  {
   "cell_type": "code",
   "execution_count": 5,
   "metadata": {},
   "outputs": [
    {
     "name": "stdout",
     "output_type": "stream",
     "text": [
      "/code/media/zarr/sample-240\n",
      "float16\n"
     ]
    }
   ],
   "source": [
    "array = met.representation.loadArray()\n",
    "\n",
    "print(array.dtype)\n",
    "array = array[:, :, :, :, 0]"
   ]
  },
  {
   "cell_type": "code",
   "execution_count": 6,
   "metadata": {},
   "outputs": [],
   "source": [
    "it = array.sel(channels=\"Ch1-T2\")"
   ]
  },
  {
   "cell_type": "code",
   "execution_count": 14,
   "metadata": {},
   "outputs": [
    {
     "name": "stderr",
     "output_type": "stream",
     "text": [
      "/opt/conda/lib/python3.7/site-packages/ipyvolume/widgets.py:179: FutureWarning: Using a non-tuple sequence for multidimensional indexing is deprecated; use `arr[tuple(seq)]` instead of `arr[seq]`. In the future this will be interpreted as an array index, `arr[np.array(seq)]`, which will result either in an error or a different result.\n",
      "  data_view = self.data_original[view]\n",
      "/opt/conda/lib/python3.7/site-packages/ipyvolume/utils.py:204: FutureWarning: Using a non-tuple sequence for multidimensional indexing is deprecated; use `arr[tuple(seq)]` instead of `arr[seq]`. In the future this will be interpreted as an array index, `arr[np.array(seq)]`, which will result either in an error or a different result.\n",
      "  data = (data[slices1] + data[slices2])/2\n"
     ]
    },
    {
     "data": {
      "application/vnd.jupyter.widget-view+json": {
       "model_id": "4c85d624a8b54e049bcbc665dcefa051",
       "version_major": 2,
       "version_minor": 0
      },
      "text/plain": [
       "VBox(children=(VBox(children=(HBox(children=(Label(value='levels:'), FloatSlider(value=0.1, max=1.0, step=0.00…"
      ]
     },
     "metadata": {},
     "output_type": "display_data"
    }
   ],
   "source": [
    "\n",
    "import ipyvolume as ipv\n",
    "ipv.quickvolshow(it)"
   ]
  },
  {
   "cell_type": "code",
   "execution_count": null,
   "metadata": {},
   "outputs": [
    {
     "name": "stderr",
     "output_type": "stream",
     "text": [
      "WARNING: Could not load the Qt platform plugin \"xcb\" in \"\" even though it was found.\n"
     ]
    }
   ],
   "source": [
    "import napari\n",
    "\n",
    "with napari.gui_qt():\n",
    "    # specify contrast_limits and is_pyramid=False with big data\n",
    "    # to avoid unecessary computations\n",
    "    napari.view_image(it, contrast_limits=[0,2000], is_pyramid=False)"
   ]
  },
  {
   "cell_type": "code",
   "execution_count": 7,
   "metadata": {},
   "outputs": [
    {
     "name": "stderr",
     "output_type": "stream",
     "text": [
      "tornado.application - ERROR - Exception in callback functools.partial(<function Kernel.enter_eventloop.<locals>.advance_eventloop at 0x7f26e4fa1950>)\n",
      "Traceback (most recent call last):\n",
      "  File \"/opt/conda/lib/python3.7/site-packages/tornado/ioloop.py\", line 743, in _run_callback\n",
      "    ret = callback()\n",
      "  File \"/opt/conda/lib/python3.7/site-packages/ipykernel/kernelbase.py\", line 314, in advance_eventloop\n",
      "    eventloop(self)\n",
      "  File \"/opt/conda/lib/python3.7/site-packages/ipykernel/eventloops.py\", line 129, in loop_qt5\n",
      "    return loop_qt4(kernel)\n",
      "  File \"/opt/conda/lib/python3.7/site-packages/ipykernel/eventloops.py\", line 116, in loop_qt4\n",
      "    kernel.app = get_app_qt4([\" \"])\n",
      "  File \"/opt/conda/lib/python3.7/site-packages/IPython/lib/guisupport.py\", line 114, in get_app_qt4\n",
      "    from IPython.external.qt_for_kernel import QtGui\n",
      "  File \"/opt/conda/lib/python3.7/site-packages/IPython/external/qt_for_kernel.py\", line 95, in <module>\n",
      "    QtCore, QtGui, QtSvg, QT_API = load_qt(api_opts)\n",
      "  File \"/opt/conda/lib/python3.7/site-packages/IPython/external/qt_loaders.py\", line 329, in load_qt\n",
      "    api_options))\n",
      "ImportError: \n",
      "    Could not load requested Qt binding. Please ensure that\n",
      "    PyQt4 >= 4.7, PyQt5, PySide >= 1.0.3 or PySide2 is available,\n",
      "    and only one is imported per session.\n",
      "\n",
      "    Currently-imported Qt library:                              None\n",
      "    PyQt4 available (requires QtCore, QtGui, QtSvg):            False\n",
      "    PyQt5 available (requires QtCore, QtGui, QtSvg, QtWidgets): False\n",
      "    PySide >= 1.0.3 installed:                                  False\n",
      "    PySide2 installed:                                          True\n",
      "    Tried to load:                                              ['pyqt5']\n",
      "    \n"
     ]
    }
   ],
   "source": [
    "%gui qt"
   ]
  },
  {
   "cell_type": "code",
   "execution_count": null,
   "metadata": {},
   "outputs": [
    {
     "name": "stderr",
     "output_type": "stream",
     "text": [
      "/opt/conda/lib/python3.7/site-packages/qtpy/__init__.py:216: RuntimeWarning: Selected binding \"pyqt5\" could not be found, using \"pyside2\"\n",
      "  'using \"{}\"'.format(initial_api, API), RuntimeWarning)\n",
      "WARNING: Could not load the Qt platform plugin \"xcb\" in \"\" even though it was found.\n"
     ]
    }
   ],
   "source": [
    "import napari\n",
    "\n",
    "with napari.gui_qt():\n",
    "    # specify contrast_limits and is_pyramid=False with big data\n",
    "    # to avoid unecessary computations\n",
    "    napari.view_image(it, contrast_limits=[0,2000], is_pyramid=False)"
   ]
  },
  {
   "cell_type": "code",
   "execution_count": 6,
   "metadata": {},
   "outputs": [],
   "source": [
    "cmax = array.max()\n",
    "cmin = array.min()\n",
    "high = 255\n",
    "low = 0"
   ]
  },
  {
   "cell_type": "code",
   "execution_count": null,
   "metadata": {},
   "outputs": [],
   "source": []
  },
  {
   "cell_type": "code",
   "execution_count": 7,
   "metadata": {},
   "outputs": [],
   "source": [
    "cscale = cmax - cmin\n",
    "scale = float(high - low) / cscale"
   ]
  },
  {
   "cell_type": "code",
   "execution_count": 8,
   "metadata": {},
   "outputs": [],
   "source": [
    "scaled = (array - cmin) * scale + low\n",
    "final = (scaled.clip(low, high) + 0.5)"
   ]
  },
  {
   "cell_type": "code",
   "execution_count": 9,
   "metadata": {},
   "outputs": [],
   "source": [
    "emptychannel = xarray.DataArray((da.zeros((1256,1256,1,28))), dims=array.dims, coords={\"channels\":[\"empty\",]})\n",
    "end = xarray.concat([array,emptychannel],dim=\"channels\")\n",
    "end.attrs = array.attrs"
   ]
  },
  {
   "cell_type": "code",
   "execution_count": 12,
   "metadata": {},
   "outputs": [],
   "source": [
    "shape_3d = end.shape[0:3]"
   ]
  },
  {
   "cell_type": "code",
   "execution_count": 14,
   "metadata": {},
   "outputs": [],
   "source": [
    "rgb_dtype = np.dtype([('R', 'u1'), ('G', 'u1'), ('B', 'u1')])"
   ]
  },
  {
   "cell_type": "code",
   "execution_count": null,
   "metadata": {},
   "outputs": [],
   "source": [
    "contugious = np.ascontiguousarray(end, dtype='u1')"
   ]
  }
 ],
 "metadata": {
  "kernelspec": {
   "display_name": "Python 3",
   "language": "python",
   "name": "python3"
  },
  "language_info": {
   "codemirror_mode": {
    "name": "ipython",
    "version": 3
   },
   "file_extension": ".py",
   "mimetype": "text/x-python",
   "name": "python",
   "nbconvert_exporter": "python",
   "pygments_lexer": "ipython3",
   "version": "3.7.3"
  }
 },
 "nbformat": 4,
 "nbformat_minor": 4
}

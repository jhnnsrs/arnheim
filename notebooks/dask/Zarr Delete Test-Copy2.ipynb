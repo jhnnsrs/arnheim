{
 "cells": [
  {
   "cell_type": "code",
   "execution_count": 21,
   "metadata": {},
   "outputs": [],
   "source": [
    "zarra = models.Zarr.objects.all()"
   ]
  },
  {
   "cell_type": "code",
   "execution_count": 24,
   "metadata": {},
   "outputs": [],
   "source": [
    "zarr = zarra.last()"
   ]
  },
  {
   "cell_type": "code",
   "execution_count": 6,
   "metadata": {},
   "outputs": [
    {
     "name": "stderr",
     "output_type": "stream",
     "text": [
      "2020-01-14 14:48:17,690 [elements.models] INFO     Group representation/initial-stack in Store /code/media/zarr/sample-245 does no longer Exist\n"
     ]
    },
    {
     "ename": "AssertionError",
     "evalue": "Zarr object can't be deleted because its id attribute is set to None.",
     "output_type": "error",
     "traceback": [
      "\u001b[0;31m---------------------------------------------------------------------------\u001b[0m",
      "\u001b[0;31mAssertionError\u001b[0m                            Traceback (most recent call last)",
      "\u001b[0;32m<ipython-input-6-ae14ff4e8055>\u001b[0m in \u001b[0;36m<module>\u001b[0;34m\u001b[0m\n\u001b[0;32m----> 1\u001b[0;31m \u001b[0mzarr\u001b[0m\u001b[0;34m.\u001b[0m\u001b[0mdelete\u001b[0m\u001b[0;34m(\u001b[0m\u001b[0;34m)\u001b[0m\u001b[0;34m\u001b[0m\u001b[0;34m\u001b[0m\u001b[0m\n\u001b[0m",
      "\u001b[0;32m/code/elements/models.py\u001b[0m in \u001b[0;36mdelete\u001b[0;34m(self, *args, **kwargs)\u001b[0m\n\u001b[1;32m    200\u001b[0m         \u001b[0;32mexcept\u001b[0m \u001b[0mException\u001b[0m \u001b[0;32mas\u001b[0m \u001b[0me\u001b[0m\u001b[0;34m:\u001b[0m\u001b[0;34m\u001b[0m\u001b[0;34m\u001b[0m\u001b[0m\n\u001b[1;32m    201\u001b[0m             \u001b[0mlogger\u001b[0m\u001b[0;34m.\u001b[0m\u001b[0merror\u001b[0m\u001b[0;34m(\u001b[0m\u001b[0;34mf\"Error while handling Store {self.store}: {e}\"\u001b[0m\u001b[0;34m)\u001b[0m\u001b[0;34m\u001b[0m\u001b[0;34m\u001b[0m\u001b[0m\n\u001b[0;32m--> 202\u001b[0;31m \u001b[0;34m\u001b[0m\u001b[0m\n\u001b[0m\u001b[1;32m    203\u001b[0m         \u001b[0msuper\u001b[0m\u001b[0;34m(\u001b[0m\u001b[0mZarr\u001b[0m\u001b[0;34m,\u001b[0m \u001b[0mself\u001b[0m\u001b[0;34m)\u001b[0m\u001b[0;34m.\u001b[0m\u001b[0mdelete\u001b[0m\u001b[0;34m(\u001b[0m\u001b[0;34m*\u001b[0m\u001b[0margs\u001b[0m\u001b[0;34m,\u001b[0m \u001b[0;34m**\u001b[0m\u001b[0mkwargs\u001b[0m\u001b[0;34m)\u001b[0m\u001b[0;34m\u001b[0m\u001b[0;34m\u001b[0m\u001b[0m\n\u001b[1;32m    204\u001b[0m \u001b[0;34m\u001b[0m\u001b[0m\n",
      "\u001b[0;32m/opt/conda/lib/python3.7/site-packages/django/db/models/base.py\u001b[0m in \u001b[0;36mdelete\u001b[0;34m(self, using, keep_parents)\u001b[0m\n\u001b[1;32m    912\u001b[0m         assert self.pk is not None, (\n\u001b[1;32m    913\u001b[0m             \u001b[0;34m\"%s object can't be deleted because its %s attribute is set to None.\"\u001b[0m \u001b[0;34m%\u001b[0m\u001b[0;34m\u001b[0m\u001b[0;34m\u001b[0m\u001b[0m\n\u001b[0;32m--> 914\u001b[0;31m             \u001b[0;34m(\u001b[0m\u001b[0mself\u001b[0m\u001b[0;34m.\u001b[0m\u001b[0m_meta\u001b[0m\u001b[0;34m.\u001b[0m\u001b[0mobject_name\u001b[0m\u001b[0;34m,\u001b[0m \u001b[0mself\u001b[0m\u001b[0;34m.\u001b[0m\u001b[0m_meta\u001b[0m\u001b[0;34m.\u001b[0m\u001b[0mpk\u001b[0m\u001b[0;34m.\u001b[0m\u001b[0mattname\u001b[0m\u001b[0;34m)\u001b[0m\u001b[0;34m\u001b[0m\u001b[0;34m\u001b[0m\u001b[0m\n\u001b[0m\u001b[1;32m    915\u001b[0m         )\n\u001b[1;32m    916\u001b[0m \u001b[0;34m\u001b[0m\u001b[0m\n",
      "\u001b[0;31mAssertionError\u001b[0m: Zarr object can't be deleted because its id attribute is set to None."
     ]
    }
   ],
   "source": []
  },
  {
   "cell_type": "code",
   "execution_count": 13,
   "metadata": {},
   "outputs": [
    {
     "data": {
      "text/plain": [
       "True"
      ]
     },
     "execution_count": 13,
     "metadata": {},
     "output_type": "execute_result"
    }
   ],
   "source": [
    "hasgroup = zr.storage.contains_group(store, zarr.group)\n",
    "hasgroup"
   ]
  },
  {
   "cell_type": "code",
   "execution_count": 20,
   "metadata": {},
   "outputs": [],
   "source": [
    "zr.storage.rmdir(store,zarr.group)"
   ]
  },
  {
   "cell_type": "code",
   "execution_count": 5,
   "metadata": {},
   "outputs": [],
   "source": [
    "zarr = models.Zarr.objects.all()[0]"
   ]
  },
  {
   "cell_type": "code",
   "execution_count": 6,
   "metadata": {},
   "outputs": [
    {
     "data": {
      "text/html": [
       "<pre>&lt;xarray.DataArray &#x27;data&#x27; (x: 1256, y: 1256, channel: 2, z: 28, time: 1)&gt;\n",
       "dask.array&lt;zarr, shape=(1256, 1256, 2, 28, 1), dtype=float64, chunksize=(157, 314, 1, 7, 1)&gt;\n",
       "Coordinates:\n",
       "  * channel  (channel) &lt;U6 &#x27;Ch1-T1&#x27; &#x27;Ch1-T2&#x27;\n",
       "    phsyz    (z) float64 dask.array&lt;chunksize=(28,), meta=np.ndarray&gt;\n",
       "    physx    (x) float64 dask.array&lt;chunksize=(1256,), meta=np.ndarray&gt;\n",
       "    physy    (y) float64 dask.array&lt;chunksize=(1256,), meta=np.ndarray&gt;\n",
       "  * time     (time) int64 0\n",
       "  * x        (x) int64 0 1 2 3 4 5 6 7 ... 1249 1250 1251 1252 1253 1254 1255\n",
       "  * y        (y) int64 0 1 2 3 4 5 6 7 ... 1249 1250 1251 1252 1253 1254 1255\n",
       "  * z        (z) int64 0 1 2 3 4 5 6 7 8 9 10 ... 18 19 20 21 22 23 24 25 26 27\n",
       "Attributes:\n",
       "    channels:  [{&#x27;AcquisitionMode&#x27;: &#x27;LaserScanningConfocalMicroscopy&#x27;, &#x27;Color...\n",
       "    planes:    [{&#x27;DeltaT&#x27;: &#x27;12410.572591590908&#x27;, &#x27;PositionX&#x27;: &#x27;628&#x27;, &#x27;Positio...\n",
       "    scan:      [{&#x27;PhysicalSizeX&#x27;: &#x27;0.049345442271087926&#x27;, &#x27;PhysicalSizeXUnit&#x27;...</pre>"
      ],
      "text/plain": [
       "<xarray.DataArray 'data' (x: 1256, y: 1256, channel: 2, z: 28, time: 1)>\n",
       "dask.array<zarr, shape=(1256, 1256, 2, 28, 1), dtype=float64, chunksize=(157, 314, 1, 7, 1)>\n",
       "Coordinates:\n",
       "  * channel  (channel) <U6 'Ch1-T1' 'Ch1-T2'\n",
       "    phsyz    (z) float64 dask.array<chunksize=(28,), meta=np.ndarray>\n",
       "    physx    (x) float64 dask.array<chunksize=(1256,), meta=np.ndarray>\n",
       "    physy    (y) float64 dask.array<chunksize=(1256,), meta=np.ndarray>\n",
       "  * time     (time) int64 0\n",
       "  * x        (x) int64 0 1 2 3 4 5 6 7 ... 1249 1250 1251 1252 1253 1254 1255\n",
       "  * y        (y) int64 0 1 2 3 4 5 6 7 ... 1249 1250 1251 1252 1253 1254 1255\n",
       "  * z        (z) int64 0 1 2 3 4 5 6 7 8 9 10 ... 18 19 20 21 22 23 24 25 26 27\n",
       "Attributes:\n",
       "    channels:  [{'AcquisitionMode': 'LaserScanningConfocalMicroscopy', 'Color...\n",
       "    planes:    [{'DeltaT': '12410.572591590908', 'PositionX': '628', 'Positio...\n",
       "    scan:      [{'PhysicalSizeX': '0.049345442271087926', 'PhysicalSizeXUnit'..."
      ]
     },
     "execution_count": 6,
     "metadata": {},
     "output_type": "execute_result"
    }
   ],
   "source": [
    "zarr.array"
   ]
  }
 ],
 "metadata": {
  "kernelspec": {
   "display_name": "Python 3",
   "language": "python",
   "name": "python3"
  },
  "language_info": {
   "codemirror_mode": {
    "name": "ipython",
    "version": 3
   },
   "file_extension": ".py",
   "mimetype": "text/x-python",
   "name": "python",
   "nbconvert_exporter": "python",
   "pygments_lexer": "ipython3",
   "version": "3.7.3"
  }
 },
 "nbformat": 4,
 "nbformat_minor": 4
}

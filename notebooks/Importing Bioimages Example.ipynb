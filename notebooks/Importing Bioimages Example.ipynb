{
 "cells": [
  {
   "cell_type": "code",
   "execution_count": 1,
   "metadata": {
    "pycharm": {
     "is_executing": true
    }
   },
   "outputs": [],
   "source": [
    "import django\n",
    "django.setup()"
   ]
  },
  {
   "cell_type": "code",
   "execution_count": 2,
   "metadata": {
    "pycharm": {
     "is_executing": false
    }
   },
   "outputs": [],
   "source": [
    "import os\n",
    "BASE_DIR = \"/files/p15\"\n",
    "CREATOR = 1\n",
    "LOCKER = 1"
   ]
  },
  {
   "cell_type": "code",
   "execution_count": 12,
   "metadata": {
    "pycharm": {
     "is_executing": false
    }
   },
   "outputs": [
    {
     "data": {
      "text/plain": [
       "['BIC_CS_R(Alexa568)-gp-NeuN_G(Alexa488)-rb-bIVSpec_B(Alexa647)-TOPRO_600x_hippocampal-cultures_ctrl_1.nd2',\n",
       " 'BIC_CS_R(Alexa568)-gp-NeuN_G(Alexa488)-rb-bIVSpec_B(Alexa647)-TOPRO_600x_hippocampal-cultures_ctrl_2.nd2',\n",
       " 'BIC_CS_R(Alexa568)-gp-NeuN_G(Alexa488)-rb-bIVSpec_B(Alexa647)-TOPRO_600x_hippocampal-cultures_ctrl_3.nd2',\n",
       " 'BIC_CS_R(Alexa568)-gp-NeuN_G(Alexa488)-rb-bIVSpec_B(Alexa647)-TOPRO_600x_hippocampal-cultures_ctrl_4.nd2',\n",
       " 'BIC_CS_R(Alexa568)-gp-NeuN_G(Alexa488)-rb-bIVSpec_B(Alexa647)-TOPRO_600x_hippocampal-cultures_ctrl_5.nd2',\n",
       " 'BIC_CS_R(Alexa568)-gp-NeuN_G(Alexa488)-rb-bIVSpec_B(Alexa647)-TOPRO_600x_hippocampal-cultures_ctrl_6.nd2']"
      ]
     },
     "execution_count": 12,
     "metadata": {},
     "output_type": "execute_result"
    }
   ],
   "source": []
  },
  {
   "cell_type": "code",
   "execution_count": 3,
   "metadata": {
    "pycharm": {
     "is_executing": false
    }
   },
   "outputs": [],
   "source": [
    "filelist = [ (filename, os.path.join(BASE_DIR,filename)) for filename in os.listdir(BASE_DIR)]"
   ]
  },
  {
   "cell_type": "code",
   "execution_count": 4,
   "metadata": {
    "collapsed": false,
    "jupyter": {
     "outputs_hidden": false
    },
    "pycharm": {
     "is_executing": false,
     "name": "#%%\n"
    }
   },
   "outputs": [],
   "source": [
    "from biouploader.upload import moveFileToLocker"
   ]
  },
  {
   "cell_type": "code",
   "execution_count": 5,
   "metadata": {
    "collapsed": false,
    "jupyter": {
     "outputs_hidden": false
    },
    "pycharm": {
     "is_executing": false,
     "name": "#%%\n"
    }
   },
   "outputs": [
    {
     "data": {
      "text/plain": [
       "[('ratM1_p15_T1_OT7_1.1_gpSynpo488_rbb4S564_chNeuN647.lif',\n",
       "  '/files/p15/ratM1_p15_T1_OT7_1.1_gpSynpo488_rbb4S564_chNeuN647.lif'),\n",
       " ('ratM1_p15_T1_OT7_2.1_gpSynpo488_rbb4S564_chNeuN647.lif',\n",
       "  '/files/p15/ratM1_p15_T1_OT7_2.1_gpSynpo488_rbb4S564_chNeuN647.lif'),\n",
       " ('ratM1_p15_T1_OT7_3.1_gpSynpo488_rbb4S564_chNeuN647.lif',\n",
       "  '/files/p15/ratM1_p15_T1_OT7_3.1_gpSynpo488_rbb4S564_chNeuN647.lif'),\n",
       " ('ratM1_p15_T1_OT8_1.1_gpSynpo488_rbb4S564_chNeuN647.lif',\n",
       "  '/files/p15/ratM1_p15_T1_OT8_1.1_gpSynpo488_rbb4S564_chNeuN647.lif'),\n",
       " ('ratM1_p15_T1_OT8_2.1_gpSynpo488_rbb4S564_chNeuN647.lif',\n",
       "  '/files/p15/ratM1_p15_T1_OT8_2.1_gpSynpo488_rbb4S564_chNeuN647.lif'),\n",
       " ('ratM1_p15_T1_OT8_3.1_gpSynpo488_rbb4S564_chNeuN647.lif',\n",
       "  '/files/p15/ratM1_p15_T1_OT8_3.1_gpSynpo488_rbb4S564_chNeuN647.lif'),\n",
       " ('ratM1_p15_T2_OT7_1.1_gpSynpo488_rbb4S564_chNeuN647.lif',\n",
       "  '/files/p15/ratM1_p15_T2_OT7_1.1_gpSynpo488_rbb4S564_chNeuN647.lif'),\n",
       " ('ratM1_p15_T2_OT7_2.1_gpSynpo488_rbb4S564_chNeuN647.lif',\n",
       "  '/files/p15/ratM1_p15_T2_OT7_2.1_gpSynpo488_rbb4S564_chNeuN647.lif'),\n",
       " ('ratM1_p15_T2_OT7_3.1_gpSynpo488_rbb4S564_chNeuN647.lif',\n",
       "  '/files/p15/ratM1_p15_T2_OT7_3.1_gpSynpo488_rbb4S564_chNeuN647.lif'),\n",
       " ('ratM1_p15_T2_OT8_1.1_gpSynpo488_rbb4S564_chNeuN647.lif',\n",
       "  '/files/p15/ratM1_p15_T2_OT8_1.1_gpSynpo488_rbb4S564_chNeuN647.lif'),\n",
       " ('ratM1_p15_T2_OT8_2.1_gpSynpo488_rbb4S564_chNeuN647.lif',\n",
       "  '/files/p15/ratM1_p15_T2_OT8_2.1_gpSynpo488_rbb4S564_chNeuN647.lif'),\n",
       " ('ratM1_p15_T2_OT8_3.1_gpSynpo488_rbb4S564_chNeuN647.lif',\n",
       "  '/files/p15/ratM1_p15_T2_OT8_3.1_gpSynpo488_rbb4S564_chNeuN647.lif'),\n",
       " ('ratM1_p15_T2_OT8_3.2_gpSynpo488_rbb4S564_chNeuN647.lif',\n",
       "  '/files/p15/ratM1_p15_T2_OT8_3.2_gpSynpo488_rbb4S564_chNeuN647.lif'),\n",
       " ('ratM1_p15_T3_OT7_1.1_gpSynpo488_rbb4S564_chNeuN647.lif',\n",
       "  '/files/p15/ratM1_p15_T3_OT7_1.1_gpSynpo488_rbb4S564_chNeuN647.lif'),\n",
       " ('ratM1_p15_T3_OT7_2.1_gpSynpo488_rbb4S564_chNeuN647.lif',\n",
       "  '/files/p15/ratM1_p15_T3_OT7_2.1_gpSynpo488_rbb4S564_chNeuN647.lif'),\n",
       " ('ratM1_p15_T3_OT7_3.1_gpSynpo488_rbb4S564_chNeuN647.lif',\n",
       "  '/files/p15/ratM1_p15_T3_OT7_3.1_gpSynpo488_rbb4S564_chNeuN647.lif'),\n",
       " ('ratM1_p15_T3_OT8_1.1_gpSynpo488_rbb4S564_chNeuN647.lif',\n",
       "  '/files/p15/ratM1_p15_T3_OT8_1.1_gpSynpo488_rbb4S564_chNeuN647.lif'),\n",
       " ('ratM1_p15_T3_OT8_2.1_gpSynpo488_rbb4S564_chNeuN647.lif',\n",
       "  '/files/p15/ratM1_p15_T3_OT8_2.1_gpSynpo488_rbb4S564_chNeuN647.lif'),\n",
       " ('ratM1_p15_T3_OT8_3.1_gpSynpo488_rbb4S564_chNeuN647.lif',\n",
       "  '/files/p15/ratM1_p15_T3_OT8_3.1_gpSynpo488_rbb4S564_chNeuN647.lif'),\n",
       " ('ratM1_p15_T4_OT7_1.1_gpSynpo488_rbb4S564_chNeuN647.lif',\n",
       "  '/files/p15/ratM1_p15_T4_OT7_1.1_gpSynpo488_rbb4S564_chNeuN647.lif'),\n",
       " ('ratM1_p15_T4_OT7_2.1_gpSynpo488_rbb4S564_chNeuN647.lif',\n",
       "  '/files/p15/ratM1_p15_T4_OT7_2.1_gpSynpo488_rbb4S564_chNeuN647.lif'),\n",
       " ('ratM1_p15_T4_OT7_3.1_gpSynpo488_rbb4S564_chNeuN647.lif',\n",
       "  '/files/p15/ratM1_p15_T4_OT7_3.1_gpSynpo488_rbb4S564_chNeuN647.lif'),\n",
       " ('ratM1_p15_T4_OT8_2.1_gpSynpo488_rbb4S564_chNeuN647.lif',\n",
       "  '/files/p15/ratM1_p15_T4_OT8_2.1_gpSynpo488_rbb4S564_chNeuN647.lif'),\n",
       " ('ratM1_p15_T4_OT8_3.2_gpSynpo488_rbb4S564_chNeuN647.lif',\n",
       "  '/files/p15/ratM1_p15_T4_OT8_3.2_gpSynpo488_rbb4S564_chNeuN647.lif'),\n",
       " ('ratM1_p15_T4_OT8_3.4_gpSynpo488_rbb4S564_chNeuN647.lif',\n",
       "  '/files/p15/ratM1_p15_T4_OT8_3.4_gpSynpo488_rbb4S564_chNeuN647.lif'),\n",
       " ('ratM1_p15_T5_OT7_1.1_gpSynpo488_rbb4S564_chNeuN647.lif',\n",
       "  '/files/p15/ratM1_p15_T5_OT7_1.1_gpSynpo488_rbb4S564_chNeuN647.lif'),\n",
       " ('ratM1_p15_T5_OT7_2.1_gpSynpo488_rbb4S564_chNeuN647.lif',\n",
       "  '/files/p15/ratM1_p15_T5_OT7_2.1_gpSynpo488_rbb4S564_chNeuN647.lif'),\n",
       " ('ratM1_p15_T5_OT7_3.1_gpSynpo488_rbb4S564_chNeuN647.lif',\n",
       "  '/files/p15/ratM1_p15_T5_OT7_3.1_gpSynpo488_rbb4S564_chNeuN647.lif'),\n",
       " ('ratM1_p15_T5_OT8_1.1_gpSynpo488_rbb4S564_chNeuN647.lif',\n",
       "  '/files/p15/ratM1_p15_T5_OT8_1.1_gpSynpo488_rbb4S564_chNeuN647.lif'),\n",
       " ('ratM1_p15_T5_OT8_2.4_gpSynpo488_rbb4S564_chNeuN647.lif',\n",
       "  '/files/p15/ratM1_p15_T5_OT8_2.4_gpSynpo488_rbb4S564_chNeuN647.lif'),\n",
       " ('ratM1_p15_T5_OT8_3.1_gpSynpo488_rbb4S564_chNeuN647.lif',\n",
       "  '/files/p15/ratM1_p15_T5_OT8_3.1_gpSynpo488_rbb4S564_chNeuN647.lif'),\n",
       " ('ratM1_p15_T5_OT8_3.2_gpSynpo488_rbb4S564_chNeuN647.lif',\n",
       "  '/files/p15/ratM1_p15_T5_OT8_3.2_gpSynpo488_rbb4S564_chNeuN647.lif'),\n",
       " ('ratM1_p15_T6_OT7_2.1_gpSynpo488_rbb4S564_chNeuN647.lif',\n",
       "  '/files/p15/ratM1_p15_T6_OT7_2.1_gpSynpo488_rbb4S564_chNeuN647.lif'),\n",
       " ('ratM1_p15_T6_OT7_2.3_gpSynpo488_rbb4S564_chNeuN647.lif',\n",
       "  '/files/p15/ratM1_p15_T6_OT7_2.3_gpSynpo488_rbb4S564_chNeuN647.lif'),\n",
       " ('ratM1_p15_T6_OT7_2.4_gpSynpo488_rbb4S564_chNeuN647.lif',\n",
       "  '/files/p15/ratM1_p15_T6_OT7_2.4_gpSynpo488_rbb4S564_chNeuN647.lif'),\n",
       " ('ratM1_p15_T6_OT8_1.1_gpSynpo488_rbb4S564_chNeuN647.lif',\n",
       "  '/files/p15/ratM1_p15_T6_OT8_1.1_gpSynpo488_rbb4S564_chNeuN647.lif'),\n",
       " ('ratM1_p15_T6_OT8_2.3_gpSynpo488_rbb4S564_chNeuN647.lif',\n",
       "  '/files/p15/ratM1_p15_T6_OT8_2.3_gpSynpo488_rbb4S564_chNeuN647.lif'),\n",
       " ('ratM1_p15_T6_OT8_3.1_gpSynpo488_rbb4S564_chNeuN647.lif',\n",
       "  '/files/p15/ratM1_p15_T6_OT8_3.1_gpSynpo488_rbb4S564_chNeuN647.lif'),\n",
       " ('ratM1_p15_T6_OT8_3.2_gpSynpo488_rbb4S564_chNeuN647.lif',\n",
       "  '/files/p15/ratM1_p15_T6_OT8_3.2_gpSynpo488_rbb4S564_chNeuN647.lif')]"
      ]
     },
     "execution_count": 5,
     "metadata": {},
     "output_type": "execute_result"
    }
   ],
   "source": [
    "filelist"
   ]
  },
  {
   "cell_type": "code",
   "execution_count": 6,
   "metadata": {
    "collapsed": false,
    "jupyter": {
     "outputs_hidden": false
    },
    "pycharm": {
     "is_executing": false,
     "name": "#%%\n"
    }
   },
   "outputs": [
    {
     "name": "stdout",
     "output_type": "stream",
     "text": [
      "Moved file from /files/p15/ratM1_p15_T1_OT7_1.1_gpSynpo488_rbb4S564_chNeuN647.lif\n",
      "To New Path of /code/media/bioimages/1/4/ratM1_p15_T1_OT7_1.1_gpSynpo488_rbb4S564_chNeuN647.lif\n",
      "Moved file from /files/p15/ratM1_p15_T1_OT7_2.1_gpSynpo488_rbb4S564_chNeuN647.lif\n",
      "To New Path of /code/media/bioimages/1/4/ratM1_p15_T1_OT7_2.1_gpSynpo488_rbb4S564_chNeuN647.lif\n",
      "Moved file from /files/p15/ratM1_p15_T1_OT7_3.1_gpSynpo488_rbb4S564_chNeuN647.lif\n",
      "To New Path of /code/media/bioimages/1/4/ratM1_p15_T1_OT7_3.1_gpSynpo488_rbb4S564_chNeuN647.lif\n",
      "Moved file from /files/p15/ratM1_p15_T1_OT8_1.1_gpSynpo488_rbb4S564_chNeuN647.lif\n",
      "To New Path of /code/media/bioimages/1/4/ratM1_p15_T1_OT8_1.1_gpSynpo488_rbb4S564_chNeuN647.lif\n",
      "Moved file from /files/p15/ratM1_p15_T1_OT8_2.1_gpSynpo488_rbb4S564_chNeuN647.lif\n",
      "To New Path of /code/media/bioimages/1/4/ratM1_p15_T1_OT8_2.1_gpSynpo488_rbb4S564_chNeuN647.lif\n",
      "Moved file from /files/p15/ratM1_p15_T1_OT8_3.1_gpSynpo488_rbb4S564_chNeuN647.lif\n",
      "To New Path of /code/media/bioimages/1/4/ratM1_p15_T1_OT8_3.1_gpSynpo488_rbb4S564_chNeuN647.lif\n",
      "Moved file from /files/p15/ratM1_p15_T2_OT7_1.1_gpSynpo488_rbb4S564_chNeuN647.lif\n",
      "To New Path of /code/media/bioimages/1/4/ratM1_p15_T2_OT7_1.1_gpSynpo488_rbb4S564_chNeuN647.lif\n",
      "Moved file from /files/p15/ratM1_p15_T2_OT7_2.1_gpSynpo488_rbb4S564_chNeuN647.lif\n",
      "To New Path of /code/media/bioimages/1/4/ratM1_p15_T2_OT7_2.1_gpSynpo488_rbb4S564_chNeuN647.lif\n",
      "Moved file from /files/p15/ratM1_p15_T2_OT7_3.1_gpSynpo488_rbb4S564_chNeuN647.lif\n",
      "To New Path of /code/media/bioimages/1/4/ratM1_p15_T2_OT7_3.1_gpSynpo488_rbb4S564_chNeuN647.lif\n",
      "Moved file from /files/p15/ratM1_p15_T2_OT8_1.1_gpSynpo488_rbb4S564_chNeuN647.lif\n",
      "To New Path of /code/media/bioimages/1/4/ratM1_p15_T2_OT8_1.1_gpSynpo488_rbb4S564_chNeuN647.lif\n",
      "Moved file from /files/p15/ratM1_p15_T2_OT8_2.1_gpSynpo488_rbb4S564_chNeuN647.lif\n",
      "To New Path of /code/media/bioimages/1/4/ratM1_p15_T2_OT8_2.1_gpSynpo488_rbb4S564_chNeuN647.lif\n",
      "Moved file from /files/p15/ratM1_p15_T2_OT8_3.1_gpSynpo488_rbb4S564_chNeuN647.lif\n",
      "To New Path of /code/media/bioimages/1/4/ratM1_p15_T2_OT8_3.1_gpSynpo488_rbb4S564_chNeuN647.lif\n",
      "Moved file from /files/p15/ratM1_p15_T2_OT8_3.2_gpSynpo488_rbb4S564_chNeuN647.lif\n",
      "To New Path of /code/media/bioimages/1/4/ratM1_p15_T2_OT8_3.2_gpSynpo488_rbb4S564_chNeuN647.lif\n",
      "Moved file from /files/p15/ratM1_p15_T3_OT7_1.1_gpSynpo488_rbb4S564_chNeuN647.lif\n",
      "To New Path of /code/media/bioimages/1/4/ratM1_p15_T3_OT7_1.1_gpSynpo488_rbb4S564_chNeuN647.lif\n",
      "Moved file from /files/p15/ratM1_p15_T3_OT7_2.1_gpSynpo488_rbb4S564_chNeuN647.lif\n",
      "To New Path of /code/media/bioimages/1/4/ratM1_p15_T3_OT7_2.1_gpSynpo488_rbb4S564_chNeuN647.lif\n",
      "Moved file from /files/p15/ratM1_p15_T3_OT7_3.1_gpSynpo488_rbb4S564_chNeuN647.lif\n",
      "To New Path of /code/media/bioimages/1/4/ratM1_p15_T3_OT7_3.1_gpSynpo488_rbb4S564_chNeuN647.lif\n",
      "Moved file from /files/p15/ratM1_p15_T3_OT8_1.1_gpSynpo488_rbb4S564_chNeuN647.lif\n",
      "To New Path of /code/media/bioimages/1/4/ratM1_p15_T3_OT8_1.1_gpSynpo488_rbb4S564_chNeuN647.lif\n",
      "Moved file from /files/p15/ratM1_p15_T3_OT8_2.1_gpSynpo488_rbb4S564_chNeuN647.lif\n",
      "To New Path of /code/media/bioimages/1/4/ratM1_p15_T3_OT8_2.1_gpSynpo488_rbb4S564_chNeuN647.lif\n",
      "Moved file from /files/p15/ratM1_p15_T3_OT8_3.1_gpSynpo488_rbb4S564_chNeuN647.lif\n",
      "To New Path of /code/media/bioimages/1/4/ratM1_p15_T3_OT8_3.1_gpSynpo488_rbb4S564_chNeuN647.lif\n",
      "Moved file from /files/p15/ratM1_p15_T4_OT7_1.1_gpSynpo488_rbb4S564_chNeuN647.lif\n",
      "To New Path of /code/media/bioimages/1/4/ratM1_p15_T4_OT7_1.1_gpSynpo488_rbb4S564_chNeuN647.lif\n",
      "Moved file from /files/p15/ratM1_p15_T4_OT7_2.1_gpSynpo488_rbb4S564_chNeuN647.lif\n",
      "To New Path of /code/media/bioimages/1/4/ratM1_p15_T4_OT7_2.1_gpSynpo488_rbb4S564_chNeuN647.lif\n",
      "Moved file from /files/p15/ratM1_p15_T4_OT7_3.1_gpSynpo488_rbb4S564_chNeuN647.lif\n",
      "To New Path of /code/media/bioimages/1/4/ratM1_p15_T4_OT7_3.1_gpSynpo488_rbb4S564_chNeuN647.lif\n",
      "Moved file from /files/p15/ratM1_p15_T4_OT8_2.1_gpSynpo488_rbb4S564_chNeuN647.lif\n",
      "To New Path of /code/media/bioimages/1/4/ratM1_p15_T4_OT8_2.1_gpSynpo488_rbb4S564_chNeuN647.lif\n",
      "Moved file from /files/p15/ratM1_p15_T4_OT8_3.2_gpSynpo488_rbb4S564_chNeuN647.lif\n",
      "To New Path of /code/media/bioimages/1/4/ratM1_p15_T4_OT8_3.2_gpSynpo488_rbb4S564_chNeuN647.lif\n",
      "Moved file from /files/p15/ratM1_p15_T4_OT8_3.4_gpSynpo488_rbb4S564_chNeuN647.lif\n",
      "To New Path of /code/media/bioimages/1/4/ratM1_p15_T4_OT8_3.4_gpSynpo488_rbb4S564_chNeuN647.lif\n",
      "Moved file from /files/p15/ratM1_p15_T5_OT7_1.1_gpSynpo488_rbb4S564_chNeuN647.lif\n",
      "To New Path of /code/media/bioimages/1/4/ratM1_p15_T5_OT7_1.1_gpSynpo488_rbb4S564_chNeuN647.lif\n",
      "Moved file from /files/p15/ratM1_p15_T5_OT7_2.1_gpSynpo488_rbb4S564_chNeuN647.lif\n",
      "To New Path of /code/media/bioimages/1/4/ratM1_p15_T5_OT7_2.1_gpSynpo488_rbb4S564_chNeuN647.lif\n",
      "Moved file from /files/p15/ratM1_p15_T5_OT7_3.1_gpSynpo488_rbb4S564_chNeuN647.lif\n",
      "To New Path of /code/media/bioimages/1/4/ratM1_p15_T5_OT7_3.1_gpSynpo488_rbb4S564_chNeuN647.lif\n",
      "Moved file from /files/p15/ratM1_p15_T5_OT8_1.1_gpSynpo488_rbb4S564_chNeuN647.lif\n",
      "To New Path of /code/media/bioimages/1/4/ratM1_p15_T5_OT8_1.1_gpSynpo488_rbb4S564_chNeuN647.lif\n",
      "Moved file from /files/p15/ratM1_p15_T5_OT8_2.4_gpSynpo488_rbb4S564_chNeuN647.lif\n",
      "To New Path of /code/media/bioimages/1/4/ratM1_p15_T5_OT8_2.4_gpSynpo488_rbb4S564_chNeuN647.lif\n",
      "Moved file from /files/p15/ratM1_p15_T5_OT8_3.1_gpSynpo488_rbb4S564_chNeuN647.lif\n",
      "To New Path of /code/media/bioimages/1/4/ratM1_p15_T5_OT8_3.1_gpSynpo488_rbb4S564_chNeuN647.lif\n",
      "Moved file from /files/p15/ratM1_p15_T5_OT8_3.2_gpSynpo488_rbb4S564_chNeuN647.lif\n",
      "To New Path of /code/media/bioimages/1/4/ratM1_p15_T5_OT8_3.2_gpSynpo488_rbb4S564_chNeuN647.lif\n",
      "Moved file from /files/p15/ratM1_p15_T6_OT7_2.1_gpSynpo488_rbb4S564_chNeuN647.lif\n",
      "To New Path of /code/media/bioimages/1/4/ratM1_p15_T6_OT7_2.1_gpSynpo488_rbb4S564_chNeuN647.lif\n",
      "Moved file from /files/p15/ratM1_p15_T6_OT7_2.3_gpSynpo488_rbb4S564_chNeuN647.lif\n",
      "To New Path of /code/media/bioimages/1/4/ratM1_p15_T6_OT7_2.3_gpSynpo488_rbb4S564_chNeuN647.lif\n",
      "Moved file from /files/p15/ratM1_p15_T6_OT7_2.4_gpSynpo488_rbb4S564_chNeuN647.lif\n",
      "To New Path of /code/media/bioimages/1/4/ratM1_p15_T6_OT7_2.4_gpSynpo488_rbb4S564_chNeuN647.lif\n",
      "Moved file from /files/p15/ratM1_p15_T6_OT8_1.1_gpSynpo488_rbb4S564_chNeuN647.lif\n",
      "To New Path of /code/media/bioimages/1/4/ratM1_p15_T6_OT8_1.1_gpSynpo488_rbb4S564_chNeuN647.lif\n",
      "Moved file from /files/p15/ratM1_p15_T6_OT8_2.3_gpSynpo488_rbb4S564_chNeuN647.lif\n",
      "To New Path of /code/media/bioimages/1/4/ratM1_p15_T6_OT8_2.3_gpSynpo488_rbb4S564_chNeuN647.lif\n",
      "Moved file from /files/p15/ratM1_p15_T6_OT8_3.1_gpSynpo488_rbb4S564_chNeuN647.lif\n",
      "To New Path of /code/media/bioimages/1/4/ratM1_p15_T6_OT8_3.1_gpSynpo488_rbb4S564_chNeuN647.lif\n",
      "Moved file from /files/p15/ratM1_p15_T6_OT8_3.2_gpSynpo488_rbb4S564_chNeuN647.lif\n",
      "To New Path of /code/media/bioimages/1/4/ratM1_p15_T6_OT8_3.2_gpSynpo488_rbb4S564_chNeuN647.lif\n"
     ]
    }
   ],
   "source": [
    "for file in filelist:\n",
    "    path = file[1]\n",
    "    name = file[0]\n",
    "    moveFileToLocker(path, 1, 4, name)\n",
    "\n"
   ]
  }
 ],
 "metadata": {
  "kernelspec": {
   "display_name": "Python 3",
   "language": "python",
   "name": "python3"
  },
  "language_info": {
   "codemirror_mode": {
    "name": "ipython",
    "version": 3
   },
   "file_extension": ".py",
   "mimetype": "text/x-python",
   "name": "python",
   "nbconvert_exporter": "python",
   "pygments_lexer": "ipython3",
   "version": "3.7.3"
  },
  "pycharm": {
   "stem_cell": {
    "cell_type": "raw",
    "metadata": {
     "collapsed": false
    },
    "source": []
   }
  }
 },
 "nbformat": 4,
 "nbformat_minor": 4
}

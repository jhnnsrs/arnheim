{
 "cells": [
  {
   "cell_type": "code",
   "execution_count": 11,
   "metadata": {
    "pycharm": {
     "is_executing": false
    }
   },
   "outputs": [],
   "source": [
    "import django"
   ]
  },
  {
   "cell_type": "code",
   "execution_count": 12,
   "metadata": {
    "pycharm": {
     "is_executing": false
    }
   },
   "outputs": [],
   "source": [
    "django.setup()"
   ]
  },
  {
   "cell_type": "code",
   "execution_count": 13,
   "metadata": {
    "pycharm": {
     "is_executing": false
    }
   },
   "outputs": [],
   "source": [
    "from transformers.models import Transformation"
   ]
  },
  {
   "cell_type": "code",
   "execution_count": 14,
   "metadata": {
    "pycharm": {
     "is_executing": false
    }
   },
   "outputs": [],
   "source": [
    "transformation = Transformation.objects.filter(vid__startswith=\"transformation_mask-2\").first()"
   ]
  },
  {
   "cell_type": "code",
   "execution_count": 15,
   "metadata": {
    "pycharm": {
     "is_executing": false
    }
   },
   "outputs": [
    {
     "data": {
      "text/plain": "'MaskingRevamper of SliceLineTransformer of Initial Stack of ROI created at 1569071971.897595 on Sample ratM1_p15_T1_OT7_1.3_gpSynpo488_rbb4S564_chNeuN647'"
     },
     "metadata": {},
     "output_type": "execute_result",
     "execution_count": 15
    }
   ],
   "source": [
    "transformation.name"
   ]
  },
  {
   "cell_type": "code",
   "execution_count": 18,
   "metadata": {
    "pycharm": {
     "is_executing": false
    }
   },
   "outputs": [
    {
     "name": "stdout",
     "text": [
      "Trying to access file /code/media/h5files/ratM1_p15_T1_OT7_1.3_gpSynpo488_rbb4S564_chNeuN647.h5 to get array\n"
     ],
     "output_type": "stream"
    }
   ],
   "source": [
    "array= transformation.numpy.get_array()"
   ]
  },
  {
   "cell_type": "code",
   "execution_count": 20,
   "metadata": {
    "pycharm": {
     "is_executing": false
    }
   },
   "outputs": [
    {
     "data": {
      "text/plain": "32.0"
     },
     "metadata": {},
     "output_type": "execute_result",
     "execution_count": 20
    }
   ],
   "source": [
    "sum(array.flat)"
   ]
  },
  {
   "cell_type": "code",
   "execution_count": 8,
   "metadata": {
    "pycharm": {
     "is_executing": false
    }
   },
   "outputs": [
    {
     "name": "stdout",
     "text": [
      "Trying to access file /code/media/h5files/ratM1_p15_T1_OT7_1.3_gpSynpo488_rbb4S564_chNeuN647.h5 to get array\n"
     ],
     "output_type": "stream"
    },
    {
     "data": {
      "text/plain": "array([[[0.07530332, 0.03764352, 0.0380002 ],\n        [0.05097625, 0.01957691, 0.0473671 ],\n        [0.02287036, 0.0134955 , 0.04327583],\n        ...,\n        [0.04529077, 0.02216572, 0.07315564],\n        [0.04127827, 0.0154103 , 0.11218524],\n        [0.05218543, 0.01885694, 0.08915317]],\n\n       [[0.07573467, 0.01705818, 0.02436505],\n        [0.07335854, 0.01905608, 0.03186226],\n        [0.0389939 , 0.01369464, 0.04199147],\n        ...,\n        [0.05700266, 0.01931649, 0.06365943],\n        [0.06900501, 0.03296518, 0.06875992],\n        [0.07436433, 0.02781437, 0.06485036]],\n\n       [[0.07915545, 0.0171566 , 0.01574731],\n        [0.04714555, 0.02424902, 0.02129814],\n        [0.04780865, 0.01642132, 0.06201172],\n        ...,\n        [0.06935263, 0.01727915, 0.0610466 ],\n        [0.05548158, 0.00894211, 0.05945829],\n        [0.05391932, 0.00729156, 0.05798006]],\n\n       ...,\n\n       [[0.03054488, 0.0103246 , 0.02752185],\n        [0.04356551, 0.0139091 , 0.03149652],\n        [0.01820591, 0.04194698, 0.02353671],\n        ...,\n        [0.04069757, 0.01559412, 0.07510942],\n        [0.05710411, 0.01482821, 0.05220509],\n        [0.03328319, 0.01472481, 0.03755158]],\n\n       [[0.03076196, 0.01041651, 0.02022791],\n        [0.02034283, 0.01727915, 0.03493309],\n        [0.02112734, 0.01233131, 0.02846158],\n        ...,\n        [0.03390586, 0.02699298, 0.08236313],\n        [0.02787948, 0.02476984, 0.04566067],\n        [0.01960921, 0.02181339, 0.06741285]],\n\n       [[0.02792658, 0.0141159 , 0.02096322],\n        [0.01397803, 0.02378947, 0.03552336],\n        [0.02538258, 0.01436865, 0.01822889],\n        ...,\n        [0.02069515, 0.04582775, 0.08464015],\n        [0.0579073 , 0.02478798, 0.05439696],\n        [0.01960956, 0.02146107, 0.05508086]]])"
     },
     "metadata": {},
     "output_type": "execute_result",
     "execution_count": 8
    }
   ],
   "source": [
    "numpy.get_array()"
   ]
  },
  {
   "cell_type": "code",
   "execution_count": 9,
   "metadata": {
    "pycharm": {
     "is_executing": false
    }
   },
   "outputs": [],
   "source": [
    "import matplotlib.pyplot as plt"
   ]
  },
  {
   "cell_type": "code",
   "execution_count": 10,
   "metadata": {
    "pycharm": {
     "is_executing": false
    }
   },
   "outputs": [
    {
     "name": "stdout",
     "text": [
      "Trying to access file /code/media/h5files/ratM1_p15_T1_OT7_1.3_gpSynpo488_rbb4S564_chNeuN647.h5 to get array\n"
     ],
     "output_type": "stream"
    },
    {
     "data": {
      "text/plain": "<matplotlib.image.AxesImage at 0x7fee5944efd0>"
     },
     "metadata": {},
     "output_type": "execute_result",
     "execution_count": 10
    },
    {
     "data": {
      "text/plain": "<Figure size 432x288 with 1 Axes>",
      "image/png": "[encoded data removed]"
     },
     "metadata": {
      "needs_background": "light"
     },
     "output_type": "display_data"
    }
   ],
   "source": [
    "plt.imshow(numpy.get_array())"
   ]
  }
 ],
 "metadata": {
  "kernelspec": {
   "display_name": "Python 3",
   "language": "python",
   "name": "python3"
  },
  "language_info": {
   "codemirror_mode": {
    "name": "ipython",
    "version": 3
   },
   "file_extension": ".py",
   "mimetype": "text/x-python",
   "name": "python",
   "nbconvert_exporter": "python",
   "pygments_lexer": "ipython3",
   "version": "3.7.3"
  },
  "pycharm": {
   "stem_cell": {
    "cell_type": "raw",
    "source": [],
    "metadata": {
     "collapsed": false
    }
   }
  }
 },
 "nbformat": 4,
 "nbformat_minor": 4
}
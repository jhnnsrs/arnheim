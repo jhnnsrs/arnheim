{
 "cells": [
  {
   "cell_type": "code",
   "execution_count": null,
   "metadata": {
    "pycharm": {
     "is_executing": true
    }
   },
   "outputs": [],
   "source": [
    "import django\n",
    "django.setup()"
   ]
  },
  {
   "cell_type": "code",
   "execution_count": 23,
   "metadata": {
    "pycharm": {
     "is_executing": false
    }
   },
   "outputs": [],
   "source": [
    "import os\n",
    "BASE_DIR = \"/files\"\n",
    "CREATOR = 1\n",
    "LOCKER = 1"
   ]
  },
  {
   "cell_type": "code",
   "execution_count": 12,
   "metadata": {
    "pycharm": {
     "is_executing": false
    }
   },
   "outputs": [
    {
     "data": {
      "text/plain": "['BIC_CS_R(Alexa568)-gp-NeuN_G(Alexa488)-rb-bIVSpec_B(Alexa647)-TOPRO_600x_hippocampal-cultures_ctrl_1.nd2',\n 'BIC_CS_R(Alexa568)-gp-NeuN_G(Alexa488)-rb-bIVSpec_B(Alexa647)-TOPRO_600x_hippocampal-cultures_ctrl_2.nd2',\n 'BIC_CS_R(Alexa568)-gp-NeuN_G(Alexa488)-rb-bIVSpec_B(Alexa647)-TOPRO_600x_hippocampal-cultures_ctrl_3.nd2',\n 'BIC_CS_R(Alexa568)-gp-NeuN_G(Alexa488)-rb-bIVSpec_B(Alexa647)-TOPRO_600x_hippocampal-cultures_ctrl_4.nd2',\n 'BIC_CS_R(Alexa568)-gp-NeuN_G(Alexa488)-rb-bIVSpec_B(Alexa647)-TOPRO_600x_hippocampal-cultures_ctrl_5.nd2',\n 'BIC_CS_R(Alexa568)-gp-NeuN_G(Alexa488)-rb-bIVSpec_B(Alexa647)-TOPRO_600x_hippocampal-cultures_ctrl_6.nd2']"
     },
     "metadata": {},
     "output_type": "execute_result",
     "execution_count": 12
    }
   ],
   "source": []
  },
  {
   "cell_type": "code",
   "execution_count": 32,
   "metadata": {
    "pycharm": {
     "is_executing": false
    }
   },
   "outputs": [],
   "source": [
    "filelist = [ (filename, os.path.join(BASE_DIR,filename)) for filename in os.listdir(BASE_DIR)]"
   ]
  },
  {
   "cell_type": "code",
   "execution_count": 33,
   "outputs": [],
   "source": [
    "from biouploader.upload import moveFileToLocker"
   ],
   "metadata": {
    "collapsed": false,
    "pycharm": {
     "name": "#%%\n",
     "is_executing": false
    }
   }
  },
  {
   "cell_type": "code",
   "execution_count": 28,
   "outputs": [
    {
     "data": {
      "text/plain": "['/files/BIC_CS_R(Alexa568)-gp-NeuN_G(Alexa488)-rb-bIVSpec_B(Alexa647)-TOPRO_600x_hippocampal-cultures_ctrl_1.nd2',\n '/files/BIC_CS_R(Alexa568)-gp-NeuN_G(Alexa488)-rb-bIVSpec_B(Alexa647)-TOPRO_600x_hippocampal-cultures_ctrl_2.nd2',\n '/files/BIC_CS_R(Alexa568)-gp-NeuN_G(Alexa488)-rb-bIVSpec_B(Alexa647)-TOPRO_600x_hippocampal-cultures_ctrl_3.nd2',\n '/files/BIC_CS_R(Alexa568)-gp-NeuN_G(Alexa488)-rb-bIVSpec_B(Alexa647)-TOPRO_600x_hippocampal-cultures_ctrl_4.nd2',\n '/files/BIC_CS_R(Alexa568)-gp-NeuN_G(Alexa488)-rb-bIVSpec_B(Alexa647)-TOPRO_600x_hippocampal-cultures_ctrl_5.nd2',\n '/files/BIC_CS_R(Alexa568)-gp-NeuN_G(Alexa488)-rb-bIVSpec_B(Alexa647)-TOPRO_600x_hippocampal-cultures_ctrl_6.nd2']"
     },
     "metadata": {},
     "output_type": "execute_result",
     "execution_count": 28
    }
   ],
   "source": [
    "filelist"
   ],
   "metadata": {
    "collapsed": false,
    "pycharm": {
     "name": "#%%\n",
     "is_executing": false
    }
   }
  },
  {
   "cell_type": "code",
   "execution_count": 34,
   "outputs": [
    {
     "name": "stdout",
     "text": [
      "Moved file from /files/BIC_CS_R(Alexa568)-gp-NeuN_G(Alexa488)-rb-bIVSpec_B(Alexa647)-TOPRO_600x_hippocampal-cultures_ctrl_1.nd2\n",
      "To New Path of /code/media/bioimages/1/1/BIC_CS_R(Alexa568)-gp-NeuN_G(Alexa488)-rb-bIVSpec_B(Alexa647)-TOPRO_600x_hippocampal-cultures_ctrl_1.nd2\nMoved file from /files/BIC_CS_R(Alexa568)-gp-NeuN_G(Alexa488)-rb-bIVSpec_B(Alexa647)-TOPRO_600x_hippocampal-cultures_ctrl_2.nd2\n",
      "To New Path of /code/media/bioimages/1/1/BIC_CS_R(Alexa568)-gp-NeuN_G(Alexa488)-rb-bIVSpec_B(Alexa647)-TOPRO_600x_hippocampal-cultures_ctrl_2.nd2\nMoved file from /files/BIC_CS_R(Alexa568)-gp-NeuN_G(Alexa488)-rb-bIVSpec_B(Alexa647)-TOPRO_600x_hippocampal-cultures_ctrl_3.nd2\n",
      "To New Path of /code/media/bioimages/1/1/BIC_CS_R(Alexa568)-gp-NeuN_G(Alexa488)-rb-bIVSpec_B(Alexa647)-TOPRO_600x_hippocampal-cultures_ctrl_3.nd2\nMoved file from /files/BIC_CS_R(Alexa568)-gp-NeuN_G(Alexa488)-rb-bIVSpec_B(Alexa647)-TOPRO_600x_hippocampal-cultures_ctrl_4.nd2\n",
      "To New Path of /code/media/bioimages/1/1/BIC_CS_R(Alexa568)-gp-NeuN_G(Alexa488)-rb-bIVSpec_B(Alexa647)-TOPRO_600x_hippocampal-cultures_ctrl_4.nd2\nMoved file from /files/BIC_CS_R(Alexa568)-gp-NeuN_G(Alexa488)-rb-bIVSpec_B(Alexa647)-TOPRO_600x_hippocampal-cultures_ctrl_5.nd2\n",
      "To New Path of /code/media/bioimages/1/1/BIC_CS_R(Alexa568)-gp-NeuN_G(Alexa488)-rb-bIVSpec_B(Alexa647)-TOPRO_600x_hippocampal-cultures_ctrl_5.nd2\nMoved file from /files/BIC_CS_R(Alexa568)-gp-NeuN_G(Alexa488)-rb-bIVSpec_B(Alexa647)-TOPRO_600x_hippocampal-cultures_ctrl_6.nd2\n",
      "To New Path of /code/media/bioimages/1/1/BIC_CS_R(Alexa568)-gp-NeuN_G(Alexa488)-rb-bIVSpec_B(Alexa647)-TOPRO_600x_hippocampal-cultures_ctrl_6.nd2\n"
     ],
     "output_type": "stream"
    }
   ],
   "source": [
    "for file in filelist:\n",
    "    path = file[1]\n",
    "    name = file[0]\n",
    "    moveFileToLocker(path, CREATOR, LOCKER, name)\n",
    "\n"
   ],
   "metadata": {
    "collapsed": false,
    "pycharm": {
     "name": "#%%\n",
     "is_executing": false
    }
   }
  }
 ],
 "metadata": {
  "kernelspec": {
   "display_name": "Python 3",
   "language": "python",
   "name": "python3"
  },
  "language_info": {
   "codemirror_mode": {
    "name": "ipython",
    "version": 3
   },
   "file_extension": ".py",
   "mimetype": "text/x-python",
   "name": "python",
   "nbconvert_exporter": "python",
   "pygments_lexer": "ipython3",
   "version": "3.7.3"
  },
  "pycharm": {
   "stem_cell": {
    "cell_type": "raw",
    "source": [],
    "metadata": {
     "collapsed": false
    }
   }
  }
 },
 "nbformat": 4,
 "nbformat_minor": 4
}
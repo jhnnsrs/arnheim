{
 "cells": [
  {
   "cell_type": "code",
   "execution_count": 1,
   "metadata": {
    "pycharm": {
     "is_executing": false
    }
   },
   "outputs": [],
   "source": [
    "import django"
   ]
  },
  {
   "cell_type": "code",
   "execution_count": 2,
   "metadata": {
    "pycharm": {
     "is_executing": false
    }
   },
   "outputs": [],
   "source": [
    "django.setup()\n"
   ]
  },
  {
   "cell_type": "code",
   "execution_count": 3,
   "metadata": {
    "pycharm": {
     "is_executing": false
    }
   },
   "outputs": [
    {
     "data": {
      "text/plain": "<QuerySet [<Transformation: SliceLineTransformer of Initial Stack of ROI created at 1569080922.371076 on Sample ratM1_p15_T6_OT8_3.2_gpSynpo488_rbb4S564_chNeuN647.lif>, <Transformation: MaskingRevamper of SliceLineTransformer of Initial Stack of ROI created at 1569080922.371076 on Sample ratM1_p15_T6_OT8_3.2_gpSynpo488_rbb4S564_chNeuN647.lif>, <Transformation: SliceLineTransformer of Initial Stack of ROI created at 1569080933.30008 on Sample ratM1_p15_T6_OT8_3.2_gpSynpo488_rbb4S564_chNeuN647.lif>, <Transformation: MaskingRevamper of SliceLineTransformer of Initial Stack of ROI created at 1569080933.30008 on Sample ratM1_p15_T6_OT8_3.2_gpSynpo488_rbb4S564_chNeuN647.lif>, <Transformation: SliceLineTransformer of Initial Stack of ROI created at 1569081020.780625 on Sample ratM1_p15_T6_OT8_3.2_gpSynpo488_rbb4S564_chNeuN647.lif>, <Transformation: MaskingRevamper of SliceLineTransformer of Initial Stack of ROI created at 1569081020.780625 on Sample ratM1_p15_T6_OT8_3.2_gpSynpo488_rbb4S564_chNeuN647.lif>, <Transformation: SliceLineTransformer of Initial Stack of ROI created at 1569261334.363421 on Sample ratM1_p15_T6_OT8_3.2_gpSynpo488_rbb4S564_chNeuN647.lif>, <Transformation: MaskingRevamper of SliceLineTransformer of Initial Stack of ROI created at 1569261334.363421 on Sample ratM1_p15_T6_OT8_3.2_gpSynpo488_rbb4S564_chNeuN647.lif>, <Transformation: SliceLineTransformer of Initial Stack of ROI created at 1569261401.931132 on Sample ratM1_p15_T6_OT8_3.2_gpSynpo488_rbb4S564_chNeuN647.lif>, <Transformation: MaskingRevamper of SliceLineTransformer of Initial Stack of ROI created at 1569261401.931132 on Sample ratM1_p15_T6_OT8_3.2_gpSynpo488_rbb4S564_chNeuN647.lif>, <Transformation: SliceLineTransformer of Initial Stack of ROI created at 1569261415.415222 on Sample ratM1_p15_T6_OT8_3.2_gpSynpo488_rbb4S564_chNeuN647.lif>, <Transformation: MaskingRevamper of SliceLineTransformer of Initial Stack of ROI created at 1569261415.415222 on Sample ratM1_p15_T6_OT8_3.2_gpSynpo488_rbb4S564_chNeuN647.lif>, <Transformation: SliceLineTransformer of Initial Stack of ROI created at 1569261423.22624 on Sample ratM1_p15_T6_OT8_3.2_gpSynpo488_rbb4S564_chNeuN647.lif>, <Transformation: MaskingRevamper of SliceLineTransformer of Initial Stack of ROI created at 1569261423.22624 on Sample ratM1_p15_T6_OT8_3.2_gpSynpo488_rbb4S564_chNeuN647.lif>, <Transformation: SliceLineTransformer of Initial Stack of ROI created at 1569261433.61879 on Sample ratM1_p15_T6_OT8_3.2_gpSynpo488_rbb4S564_chNeuN647.lif>, <Transformation: MaskingRevamper of SliceLineTransformer of Initial Stack of ROI created at 1569261433.61879 on Sample ratM1_p15_T6_OT8_3.2_gpSynpo488_rbb4S564_chNeuN647.lif>, <Transformation: SliceLineTransformer of Initial Stack of ROI created at 1569261439.018887 on Sample ratM1_p15_T6_OT8_3.2_gpSynpo488_rbb4S564_chNeuN647.lif>, <Transformation: MaskingRevamper of SliceLineTransformer of Initial Stack of ROI created at 1569261439.018887 on Sample ratM1_p15_T6_OT8_3.2_gpSynpo488_rbb4S564_chNeuN647.lif>, <Transformation: MaskingRevamper of SliceLineTransformer of Initial Stack of ROI created at 1569080922.371076 on Sample ratM1_p15_T6_OT8_3.2_gpSynpo488_rbb4S564_chNeuN647.lif>, <Transformation: SliceLineTransformer of Initial Stack of ROI created by jhnnsrs on Display ofMaxISP of Initial Stack of ratM1_p15_T6_OT8_3.1_gpSynpo488_rbb4S564_chNeuN647.lif>, '...(remaining elements truncated)...']>"
     },
     "metadata": {},
     "output_type": "execute_result",
     "execution_count": 3
    }
   ],
   "source": [
    "from transformers.models import Transformation\n",
    "\n",
    "Transformation.objects.all()"
   ]
  },
  {
   "cell_type": "code",
   "execution_count": 4,
   "outputs": [],
   "source": [
    "query = \"\"\"{\n",
    "  clusterdata(sample_Experiment_Name_Icontains: \"p15\") {\n",
    "    roi {\n",
    "      id\n",
    "    }\n",
    "    id\n",
    "    nodeid\n",
    "    sample {\n",
    "      id\n",
    "      name\n",
    "    }\n",
    "    clusterareapixels\n",
    "    clusternumber\n",
    "    clusterarea\n",
    "  }\n",
    "}\"\"\"\n"
   ],
   "metadata": {
    "collapsed": false,
    "pycharm": {
     "name": "#%%\n",
     "is_executing": false
    }
   }
  },
  {
   "cell_type": "code",
   "execution_count": 5,
   "outputs": [],
   "source": [
    "from gql import schema\n",
    "\n"
   ],
   "metadata": {
    "collapsed": false,
    "pycharm": {
     "name": "#%%\n",
     "is_executing": false
    }
   }
  },
  {
   "cell_type": "code",
   "execution_count": 6,
   "outputs": [],
   "source": [
    "result = schema.schema.execute(query)\n",
    "\n"
   ],
   "metadata": {
    "collapsed": false,
    "pycharm": {
     "name": "#%%\n",
     "is_executing": false
    }
   }
  },
  {
   "cell_type": "code",
   "execution_count": 7,
   "outputs": [],
   "source": [
    "resultdict = result.to_dict()"
   ],
   "metadata": {
    "collapsed": false,
    "pycharm": {
     "name": "#%%\n",
     "is_executing": false
    }
   }
  },
  {
   "cell_type": "code",
   "execution_count": 8,
   "outputs": [],
   "source": [
    "import json\n",
    "resultjson = json.dumps(resultdict)\n",
    "\n"
   ],
   "metadata": {
    "collapsed": false,
    "pycharm": {
     "name": "#%%\n",
     "is_executing": false
    }
   }
  },
  {
   "cell_type": "code",
   "execution_count": 9,
   "outputs": [
    {
     "data": {
      "text/plain": "       clusterareapixels  clusternumber  clusterarea\ncount          14.000000      14.000000    14.000000\nmean           53.428571       3.428571     3.090327\nstd            38.319937       1.988981     2.216438\nmin             0.000000       0.000000     0.000000\n25%            37.500000       3.250000     2.169013\n50%            55.000000       4.000000     3.181219\n75%            69.750000       4.750000     4.034364\nmax           120.000000       6.000000     6.940841",
      "text/html": "<div>\n<style scoped>\n    .dataframe tbody tr th:only-of-type {\n        vertical-align: middle;\n    }\n\n    .dataframe tbody tr th {\n        vertical-align: top;\n    }\n\n    .dataframe thead th {\n        text-align: right;\n    }\n</style>\n<table border=\"1\" class=\"dataframe\">\n  <thead>\n    <tr style=\"text-align: right;\">\n      <th></th>\n      <th>clusterareapixels</th>\n      <th>clusternumber</th>\n      <th>clusterarea</th>\n    </tr>\n  </thead>\n  <tbody>\n    <tr>\n      <td>count</td>\n      <td>14.000000</td>\n      <td>14.000000</td>\n      <td>14.000000</td>\n    </tr>\n    <tr>\n      <td>mean</td>\n      <td>53.428571</td>\n      <td>3.428571</td>\n      <td>3.090327</td>\n    </tr>\n    <tr>\n      <td>std</td>\n      <td>38.319937</td>\n      <td>1.988981</td>\n      <td>2.216438</td>\n    </tr>\n    <tr>\n      <td>min</td>\n      <td>0.000000</td>\n      <td>0.000000</td>\n      <td>0.000000</td>\n    </tr>\n    <tr>\n      <td>25%</td>\n      <td>37.500000</td>\n      <td>3.250000</td>\n      <td>2.169013</td>\n    </tr>\n    <tr>\n      <td>50%</td>\n      <td>55.000000</td>\n      <td>4.000000</td>\n      <td>3.181219</td>\n    </tr>\n    <tr>\n      <td>75%</td>\n      <td>69.750000</td>\n      <td>4.750000</td>\n      <td>4.034364</td>\n    </tr>\n    <tr>\n      <td>max</td>\n      <td>120.000000</td>\n      <td>6.000000</td>\n      <td>6.940841</td>\n    </tr>\n  </tbody>\n</table>\n</div>"
     },
     "metadata": {},
     "output_type": "execute_result",
     "execution_count": 9
    }
   ],
   "source": [
    "from pandas.io.json import json_normalize\n",
    "pddataframe = json_normalize(resultdict[\"data\"][\"clusterdata\"])\n",
    "pddataframe.describe()"
   ],
   "metadata": {
    "collapsed": false,
    "pycharm": {
     "name": "#%%\n",
     "is_executing": false
    }
   }
  },
  {
   "cell_type": "code",
   "execution_count": 10,
   "outputs": [
    {
     "traceback": [
      "\u001b[0;36m  File \u001b[0;32m\"<ipython-input-10-4c10c197dd03>\"\u001b[0;36m, line \u001b[0;32m3\u001b[0m\n\u001b[0;31m    report.\u001b[0m\n\u001b[0m           ^\u001b[0m\n\u001b[0;31mSyntaxError\u001b[0m\u001b[0;31m:\u001b[0m invalid syntax\n"
     ],
     "ename": "SyntaxError",
     "evalue": "invalid syntax (<ipython-input-10-4c10c197dd03>, line 3)",
     "output_type": "error"
    }
   ],
   "source": [
    "import pandas_profiling\n",
    "report = pddataframe.profile_report(style={'full_width':True})\n",
    "report.\n"
   ],
   "metadata": {
    "collapsed": false,
    "pycharm": {
     "name": "#%%\n",
     "is_executing": false
    }
   }
  }
 ],
 "metadata": {
  "kernelspec": {
   "display_name": "Python 3",
   "language": "python",
   "name": "python3"
  },
  "language_info": {
   "codemirror_mode": {
    "name": "ipython",
    "version": 3
   },
   "file_extension": ".py",
   "mimetype": "text/x-python",
   "name": "python",
   "nbconvert_exporter": "python",
   "pygments_lexer": "ipython3",
   "version": "3.7.3"
  },
  "pycharm": {
   "stem_cell": {
    "cell_type": "raw",
    "source": [],
    "metadata": {
     "collapsed": false
    }
   }
  }
 },
 "nbformat": 4,
 "nbformat_minor": 4
}
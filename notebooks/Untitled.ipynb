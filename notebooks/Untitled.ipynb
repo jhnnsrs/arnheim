{
 "cells": [
  {
   "cell_type": "code",
   "execution_count": 27,
   "metadata": {},
   "outputs": [],
   "source": [
    "import numpy as np\n",
    "import xarray as xr\n",
    "import dask.array as da\n",
    "import dask.dataframe as dd\n",
    "import dask.bag as db\n",
    "\n",
    "\n",
    "recordsarray = np.array([('Rex', 9, 81.0), ('Fido', 3, 27.0)], dtype=[('name', 'U10'), ('age', 'i4'), ('weight', 'f4')])\n",
    "channelcoord = xr.DataArray(da.array(recordsarray), dims=[\"c\"])\n",
    "loaded = xr.DataArray(da.zeros((1024,1024,2,1)),dims=[\"x\",\"y\",\"c\",\"z\"], coords={\"channels\": channelcoord})\n",
    "\n",
    "bag = db.from_sequence([loaded, loaded, loaded])"
   ]
  },
  {
   "cell_type": "code",
   "execution_count": 23,
   "metadata": {},
   "outputs": [],
   "source": [
    "import dask"
   ]
  },
  {
   "cell_type": "code",
   "execution_count": 24,
   "metadata": {},
   "outputs": [
    {
     "data": {
      "text/plain": [
       "'0.14.1'"
      ]
     },
     "execution_count": 24,
     "metadata": {},
     "output_type": "execute_result"
    }
   ],
   "source": [
    "xr.__version__"
   ]
  },
  {
   "cell_type": "code",
   "execution_count": 28,
   "metadata": {},
   "outputs": [],
   "source": [
    "def get_biometa(array):\n",
    "            df = dd.from_dask_array(array.channels.data)\n",
    "            df[\"Array\"] = array.name\n",
    "            return df\n",
    "\n",
    "newbag = bag.map(get_biometa)"
   ]
  },
  {
   "cell_type": "code",
   "execution_count": 30,
   "metadata": {},
   "outputs": [
    {
     "name": "stdout",
     "output_type": "stream",
     "text": [
      "CPU times: user 33.4 ms, sys: 65.1 ms, total: 98.5 ms\n",
      "Wall time: 143 ms\n"
     ]
    },
    {
     "data": {
      "text/plain": [
       "[Dask DataFrame Structure:\n",
       "                  name    age   weight   Array\n",
       " npartitions=1                                \n",
       " 0              object  int32  float32  object\n",
       " 1                 ...    ...      ...     ...\n",
       " Dask Name: assign, 3 tasks, Dask DataFrame Structure:\n",
       "                  name    age   weight   Array\n",
       " npartitions=1                                \n",
       " 0              object  int32  float32  object\n",
       " 1                 ...    ...      ...     ...\n",
       " Dask Name: assign, 3 tasks, Dask DataFrame Structure:\n",
       "                  name    age   weight   Array\n",
       " npartitions=1                                \n",
       " 0              object  int32  float32  object\n",
       " 1                 ...    ...      ...     ...\n",
       " Dask Name: assign, 3 tasks]"
      ]
     },
     "execution_count": 30,
     "metadata": {},
     "output_type": "execute_result"
    }
   ],
   "source": [
    "%%time\n",
    "newbag.compute(scheduler=\"processes\")"
   ]
  },
  {
   "cell_type": "code",
   "execution_count": 15,
   "metadata": {},
   "outputs": [],
   "source": [
    "class BioMetaAccesor(object):\n",
    "    \n",
    "    def __init__(self, bag):\n",
    "        self.bag = bag\n",
    "    \n",
    "    @property\n",
    "    def channels(self):\n",
    "        \n",
    "        def get_biometa(array):\n",
    "            df = dd.from_dask_array(array.channels.data)\n",
    "            df[\"Array\"] = array.name\n",
    "            return df\n",
    "        \n",
    "        datasets = self.bag.map(get_biometa)\n",
    "        return datasets\n",
    "\n",
    "\n",
    "\n",
    "class LarvikBag(object):\n",
    "\n",
    "    def __init__(self, bag, *args, **kwargs):\n",
    "        self.bag = bag\n",
    "        self._biometa = None\n",
    "        self.settings = {}\n",
    "\n",
    "    def __getattr__(self, item):\n",
    "        func = getattr(self.bag, item)\n",
    "        def inner(*args, **kwargs):\n",
    "            value = func(*args, **kwargs)\n",
    "            if isinstance(value, Bag):\n",
    "                return LarvikBag(value)\n",
    "            else:\n",
    "                return value\n",
    "\n",
    "        return inner\n",
    "\n",
    "    def parseSettings(self,settings):\n",
    "        self.settings = settings\n",
    "\n",
    "    def parse(self, *args):\n",
    "        ''' :param *args Array of ParserSubclass'''\n",
    "        parsedb = self.bag\n",
    "        manager = LarvikManager()\n",
    "\n",
    "        for i, parser in enumerate(args):\n",
    "            parsedb = parsedb.map(parser.filter, self.settings, manager)\n",
    "\n",
    "        return LarvikBag(parsedb)\n",
    "    \n",
    "    @property\n",
    "    def biometa(self):\n",
    "        if not self._biometa:\n",
    "            self._biometa = BioMetaAccesor(self.bag)\n",
    "        return self._biometa\n",
    "\n",
    "    def __repr__(self):\n",
    "        return self.bag.__repr__()\n",
    "\n",
    "import dask.bag as db\n",
    "bag =  LarvikBag(db.from_sequence([loaded, loaded, loaded]))"
   ]
  },
  {
   "cell_type": "code",
   "execution_count": 17,
   "metadata": {},
   "outputs": [
    {
     "ename": "NameError",
     "evalue": "name 'Bag' is not defined",
     "output_type": "error",
     "traceback": [
      "\u001b[0;31m---------------------------------------------------------------------------\u001b[0m",
      "\u001b[0;31mNameError\u001b[0m                                 Traceback (most recent call last)",
      "\u001b[0;32m<ipython-input-17-ad20c9d98e6d>\u001b[0m in \u001b[0;36m<module>\u001b[0;34m\u001b[0m\n\u001b[0;32m----> 1\u001b[0;31m \u001b[0mnewbag\u001b[0m \u001b[0;34m=\u001b[0m \u001b[0mbag\u001b[0m\u001b[0;34m.\u001b[0m\u001b[0mmap\u001b[0m\u001b[0;34m(\u001b[0m\u001b[0mget_biometa\u001b[0m\u001b[0;34m)\u001b[0m\u001b[0;34m\u001b[0m\u001b[0;34m\u001b[0m\u001b[0m\n\u001b[0m",
      "\u001b[0;32m<ipython-input-15-82dbf25e1858>\u001b[0m in \u001b[0;36minner\u001b[0;34m(*args, **kwargs)\u001b[0m\n\u001b[1;32m     29\u001b[0m         \u001b[0;32mdef\u001b[0m \u001b[0minner\u001b[0m\u001b[0;34m(\u001b[0m\u001b[0;34m*\u001b[0m\u001b[0margs\u001b[0m\u001b[0;34m,\u001b[0m \u001b[0;34m**\u001b[0m\u001b[0mkwargs\u001b[0m\u001b[0;34m)\u001b[0m\u001b[0;34m:\u001b[0m\u001b[0;34m\u001b[0m\u001b[0;34m\u001b[0m\u001b[0m\n\u001b[1;32m     30\u001b[0m             \u001b[0mvalue\u001b[0m \u001b[0;34m=\u001b[0m \u001b[0mfunc\u001b[0m\u001b[0;34m(\u001b[0m\u001b[0;34m*\u001b[0m\u001b[0margs\u001b[0m\u001b[0;34m,\u001b[0m \u001b[0;34m**\u001b[0m\u001b[0mkwargs\u001b[0m\u001b[0;34m)\u001b[0m\u001b[0;34m\u001b[0m\u001b[0;34m\u001b[0m\u001b[0m\n\u001b[0;32m---> 31\u001b[0;31m             \u001b[0;32mif\u001b[0m \u001b[0misinstance\u001b[0m\u001b[0;34m(\u001b[0m\u001b[0mvalue\u001b[0m\u001b[0;34m,\u001b[0m \u001b[0mBag\u001b[0m\u001b[0;34m)\u001b[0m\u001b[0;34m:\u001b[0m\u001b[0;34m\u001b[0m\u001b[0;34m\u001b[0m\u001b[0m\n\u001b[0m\u001b[1;32m     32\u001b[0m                 \u001b[0;32mreturn\u001b[0m \u001b[0mLarvikBag\u001b[0m\u001b[0;34m(\u001b[0m\u001b[0mvalue\u001b[0m\u001b[0;34m)\u001b[0m\u001b[0;34m\u001b[0m\u001b[0;34m\u001b[0m\u001b[0m\n\u001b[1;32m     33\u001b[0m             \u001b[0;32melse\u001b[0m\u001b[0;34m:\u001b[0m\u001b[0;34m\u001b[0m\u001b[0;34m\u001b[0m\u001b[0m\n",
      "\u001b[0;31mNameError\u001b[0m: name 'Bag' is not defined"
     ]
    }
   ],
   "source": [
    "newbag = bag.map(get_biometa)"
   ]
  }
 ],
 "metadata": {
  "kernelspec": {
   "display_name": "Python 3",
   "language": "python",
   "name": "python3"
  },
  "language_info": {
   "codemirror_mode": {
    "name": "ipython",
    "version": 3
   },
   "file_extension": ".py",
   "mimetype": "text/x-python",
   "name": "python",
   "nbconvert_exporter": "python",
   "pygments_lexer": "ipython3",
   "version": "3.7.3"
  }
 },
 "nbformat": 4,
 "nbformat_minor": 4
}

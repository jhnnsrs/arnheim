{
 "cells": [
  {
   "cell_type": "code",
   "execution_count": 11,
   "metadata": {
    "pycharm": {
     "is_executing": false
    }
   },
   "outputs": [],
   "source": [
    "import django"
   ]
  },
  {
   "cell_type": "code",
   "execution_count": 12,
   "metadata": {
    "pycharm": {
     "is_executing": false
    }
   },
   "outputs": [],
   "source": [
    "django.setup()\n"
   ]
  },
  {
   "cell_type": "code",
   "execution_count": 3,
   "metadata": {
    "pycharm": {
     "is_executing": false
    }
   },
   "outputs": [
    {
     "data": {
      "text/plain": "<QuerySet [<Transformation: SliceLineTransformer of Initial Stack of ROI created at 1569080922.371076 on Sample ratM1_p15_T6_OT8_3.2_gpSynpo488_rbb4S564_chNeuN647.lif>, <Transformation: MaskingRevamper of SliceLineTransformer of Initial Stack of ROI created at 1569080922.371076 on Sample ratM1_p15_T6_OT8_3.2_gpSynpo488_rbb4S564_chNeuN647.lif>, <Transformation: SliceLineTransformer of Initial Stack of ROI created at 1569080933.30008 on Sample ratM1_p15_T6_OT8_3.2_gpSynpo488_rbb4S564_chNeuN647.lif>, <Transformation: MaskingRevamper of SliceLineTransformer of Initial Stack of ROI created at 1569080933.30008 on Sample ratM1_p15_T6_OT8_3.2_gpSynpo488_rbb4S564_chNeuN647.lif>, <Transformation: SliceLineTransformer of Initial Stack of ROI created at 1569081020.780625 on Sample ratM1_p15_T6_OT8_3.2_gpSynpo488_rbb4S564_chNeuN647.lif>, <Transformation: MaskingRevamper of SliceLineTransformer of Initial Stack of ROI created at 1569081020.780625 on Sample ratM1_p15_T6_OT8_3.2_gpSynpo488_rbb4S564_chNeuN647.lif>, <Transformation: SliceLineTransformer of Initial Stack of ROI created at 1569261334.363421 on Sample ratM1_p15_T6_OT8_3.2_gpSynpo488_rbb4S564_chNeuN647.lif>, <Transformation: MaskingRevamper of SliceLineTransformer of Initial Stack of ROI created at 1569261334.363421 on Sample ratM1_p15_T6_OT8_3.2_gpSynpo488_rbb4S564_chNeuN647.lif>, <Transformation: SliceLineTransformer of Initial Stack of ROI created at 1569261401.931132 on Sample ratM1_p15_T6_OT8_3.2_gpSynpo488_rbb4S564_chNeuN647.lif>, <Transformation: MaskingRevamper of SliceLineTransformer of Initial Stack of ROI created at 1569261401.931132 on Sample ratM1_p15_T6_OT8_3.2_gpSynpo488_rbb4S564_chNeuN647.lif>, <Transformation: SliceLineTransformer of Initial Stack of ROI created at 1569261415.415222 on Sample ratM1_p15_T6_OT8_3.2_gpSynpo488_rbb4S564_chNeuN647.lif>, <Transformation: MaskingRevamper of SliceLineTransformer of Initial Stack of ROI created at 1569261415.415222 on Sample ratM1_p15_T6_OT8_3.2_gpSynpo488_rbb4S564_chNeuN647.lif>, <Transformation: SliceLineTransformer of Initial Stack of ROI created at 1569261423.22624 on Sample ratM1_p15_T6_OT8_3.2_gpSynpo488_rbb4S564_chNeuN647.lif>, <Transformation: MaskingRevamper of SliceLineTransformer of Initial Stack of ROI created at 1569261423.22624 on Sample ratM1_p15_T6_OT8_3.2_gpSynpo488_rbb4S564_chNeuN647.lif>, <Transformation: SliceLineTransformer of Initial Stack of ROI created at 1569261433.61879 on Sample ratM1_p15_T6_OT8_3.2_gpSynpo488_rbb4S564_chNeuN647.lif>, <Transformation: MaskingRevamper of SliceLineTransformer of Initial Stack of ROI created at 1569261433.61879 on Sample ratM1_p15_T6_OT8_3.2_gpSynpo488_rbb4S564_chNeuN647.lif>, <Transformation: SliceLineTransformer of Initial Stack of ROI created at 1569261439.018887 on Sample ratM1_p15_T6_OT8_3.2_gpSynpo488_rbb4S564_chNeuN647.lif>, <Transformation: MaskingRevamper of SliceLineTransformer of Initial Stack of ROI created at 1569261439.018887 on Sample ratM1_p15_T6_OT8_3.2_gpSynpo488_rbb4S564_chNeuN647.lif>, <Transformation: MaskingRevamper of SliceLineTransformer of Initial Stack of ROI created at 1569080922.371076 on Sample ratM1_p15_T6_OT8_3.2_gpSynpo488_rbb4S564_chNeuN647.lif>]>"
     },
     "metadata": {},
     "output_type": "execute_result",
     "execution_count": 3
    }
   ],
   "source": [
    "from transformers.models import Transformation\n",
    "\n",
    "Transformation.objects.all()"
   ]
  },
  {
   "cell_type": "code",
   "execution_count": 13,
   "outputs": [],
   "source": [
    "query = \"\"\"{\n",
    "  clusterdata(sample_Experiment_Name_Icontains: \"p15\") {\n",
    "    roi {\n",
    "      id\n",
    "    }\n",
    "    id\n",
    "    nodeid\n",
    "    sample {\n",
    "      id\n",
    "      name\n",
    "    }\n",
    "    clusterareapixels\n",
    "    clusternumber\n",
    "    clusterarea\n",
    "  }\n",
    "}\"\"\"\n"
   ],
   "metadata": {
    "collapsed": false,
    "pycharm": {
     "name": "#%%\n",
     "is_executing": false
    }
   }
  },
  {
   "cell_type": "code",
   "execution_count": 14,
   "outputs": [],
   "source": [
    "from gql import schema\n",
    "\n"
   ],
   "metadata": {
    "collapsed": false,
    "pycharm": {
     "name": "#%%\n",
     "is_executing": false
    }
   }
  },
  {
   "cell_type": "code",
   "execution_count": 15,
   "outputs": [],
   "source": [
    "result = schema.schema.execute(query)\n",
    "\n"
   ],
   "metadata": {
    "collapsed": false,
    "pycharm": {
     "name": "#%%\n",
     "is_executing": false
    }
   }
  },
  {
   "cell_type": "code",
   "execution_count": 16,
   "outputs": [],
   "source": [
    "resultdict = result.to_dict()"
   ],
   "metadata": {
    "collapsed": false,
    "pycharm": {
     "name": "#%%\n",
     "is_executing": false
    }
   }
  },
  {
   "cell_type": "code",
   "execution_count": 17,
   "outputs": [],
   "source": [
    "import json\n",
    "resultjson = json.dumps(resultdict)\n",
    "\n"
   ],
   "metadata": {
    "collapsed": false,
    "pycharm": {
     "name": "#%%\n",
     "is_executing": false
    }
   }
  },
  {
   "cell_type": "code",
   "execution_count": 18,
   "outputs": [
    {
     "data": {
      "text/plain": "       clusterareapixels  clusternumber  clusterarea\ncount          10.000000      10.000000    10.000000\nmean           43.500000       3.000000     2.516055\nstd            38.283301       2.211083     2.214319\nmin             0.000000       0.000000     0.000000\n25%             9.250000       0.750000     0.535023\n50%            40.000000       4.000000     2.313614\n75%            66.500000       4.000000     3.846383\nmax           120.000000       6.000000     6.940841",
      "text/html": "<div>\n<style scoped>\n    .dataframe tbody tr th:only-of-type {\n        vertical-align: middle;\n    }\n\n    .dataframe tbody tr th {\n        vertical-align: top;\n    }\n\n    .dataframe thead th {\n        text-align: right;\n    }\n</style>\n<table border=\"1\" class=\"dataframe\">\n  <thead>\n    <tr style=\"text-align: right;\">\n      <th></th>\n      <th>clusterareapixels</th>\n      <th>clusternumber</th>\n      <th>clusterarea</th>\n    </tr>\n  </thead>\n  <tbody>\n    <tr>\n      <td>count</td>\n      <td>10.000000</td>\n      <td>10.000000</td>\n      <td>10.000000</td>\n    </tr>\n    <tr>\n      <td>mean</td>\n      <td>43.500000</td>\n      <td>3.000000</td>\n      <td>2.516055</td>\n    </tr>\n    <tr>\n      <td>std</td>\n      <td>38.283301</td>\n      <td>2.211083</td>\n      <td>2.214319</td>\n    </tr>\n    <tr>\n      <td>min</td>\n      <td>0.000000</td>\n      <td>0.000000</td>\n      <td>0.000000</td>\n    </tr>\n    <tr>\n      <td>25%</td>\n      <td>9.250000</td>\n      <td>0.750000</td>\n      <td>0.535023</td>\n    </tr>\n    <tr>\n      <td>50%</td>\n      <td>40.000000</td>\n      <td>4.000000</td>\n      <td>2.313614</td>\n    </tr>\n    <tr>\n      <td>75%</td>\n      <td>66.500000</td>\n      <td>4.000000</td>\n      <td>3.846383</td>\n    </tr>\n    <tr>\n      <td>max</td>\n      <td>120.000000</td>\n      <td>6.000000</td>\n      <td>6.940841</td>\n    </tr>\n  </tbody>\n</table>\n</div>"
     },
     "metadata": {},
     "output_type": "execute_result",
     "execution_count": 18
    }
   ],
   "source": [
    "from pandas.io.json import json_normalize\n",
    "pddataframe = json_normalize(resultdict[\"data\"][\"clusterdata\"])\n",
    "pddataframe.describe()"
   ],
   "metadata": {
    "collapsed": false,
    "pycharm": {
     "name": "#%%\n",
     "is_executing": false
    }
   }
  },
  {
   "cell_type": "code",
   "execution_count": 20,
   "outputs": [],
   "source": [
    "import pandas_profiling\n",
    "report = pddataframe.profile_report(style={'full_width':True})\n",
    "report.\n"
   ],
   "metadata": {
    "collapsed": false,
    "pycharm": {
     "name": "#%%\n",
     "is_executing": false
    }
   }
  }
 ],
 "metadata": {
  "kernelspec": {
   "display_name": "Python 3",
   "language": "python",
   "name": "python3"
  },
  "language_info": {
   "codemirror_mode": {
    "name": "ipython",
    "version": 3
   },
   "file_extension": ".py",
   "mimetype": "text/x-python",
   "name": "python",
   "nbconvert_exporter": "python",
   "pygments_lexer": "ipython3",
   "version": "3.7.3"
  },
  "pycharm": {
   "stem_cell": {
    "cell_type": "raw",
    "source": [],
    "metadata": {
     "collapsed": false
    }
   }
  }
 },
 "nbformat": 4,
 "nbformat_minor": 4
}
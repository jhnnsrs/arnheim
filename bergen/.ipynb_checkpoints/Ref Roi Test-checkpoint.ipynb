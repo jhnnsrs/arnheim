{
 "cells": [
  {
   "cell_type": "code",
   "execution_count": 1,
   "metadata": {},
   "outputs": [],
   "source": [
    " %matplotlib inline\n",
    "import matplotlib.pyplot as plt\n",
    "import matplotlib.image as mpimg\n",
    "import numpy as np\n",
    "import cv2\n",
    "from PIL import Image\n",
    "import os, sys\n",
    "sys.path.insert(0, '/code/')\n",
    "os.environ.setdefault(\"DJANGO_SETTINGS_MODULE\", \"multichat.settings\")\n",
    "import django\n",
    "django.setup()\n"
   ]
  },
  {
   "cell_type": "code",
   "execution_count": 2,
   "metadata": {},
   "outputs": [],
   "source": [
    "from transformers.models import Transformation"
   ]
  },
  {
   "cell_type": "code",
   "execution_count": 53,
   "metadata": {},
   "outputs": [],
   "source": [
    "ref = Transformation.objects.filter(name__startswith=\"Mask\").order_by('?').first()"
   ]
  },
  {
   "cell_type": "code",
   "execution_count": 56,
   "metadata": {},
   "outputs": [
    {
     "name": "stdout",
     "output_type": "stream",
     "text": [
      "Trying to access file /code/media/h5files/2.1.h5 to get array\n"
     ]
    },
    {
     "data": {
      "text/plain": [
       "<matplotlib.image.AxesImage at 0x7f71f87a7750>"
      ]
     },
     "execution_count": 56,
     "metadata": {},
     "output_type": "execute_result"
    },
    {
     "data": {
      "image/png": "[encoded data removed]",
      "text/plain": [
       "<Figure size 432x288 with 1 Axes>"
      ]
     },
     "metadata": {
      "needs_background": "light"
     },
     "output_type": "display_data"
    }
   ],
   "source": [
    "array = ref.numpy.get_array()\n",
    "plt.imshow(array)"
   ]
  },
  {
   "cell_type": "code",
   "execution_count": 60,
   "metadata": {},
   "outputs": [
    {
     "name": "stdout",
     "output_type": "stream",
     "text": [
      "4\n",
      "3\n"
     ]
    },
    {
     "data": {
      "image/png": "[encoded data removed]",
      "text/plain": [
       "<Figure size 432x288 with 1 Axes>"
      ]
     },
     "metadata": {
      "needs_background": "light"
     },
     "output_type": "display_data"
    }
   ],
   "source": [
    "def findConnectedCluster(array, size_thresh = 2):\n",
    "    pil_img = Image.fromarray(array)\n",
    "    pil_img = np.uint8(pil_img)\n",
    "    numpy_image=np.array(pil_img)\n",
    "    img=cv2.cvtColor(numpy_image, cv2.COLOR_GRAY2BGR) \n",
    "    gray = cv2.cvtColor(img,cv2.COLOR_BGR2GRAY)\n",
    "    ret, thresh = cv2.threshold(gray,0,255,cv2.THRESH_BINARY+cv2.THRESH_OTSU)\n",
    "    n_labels, labels, stats, centroids = cv2.connectedComponentsWithStats(thresh)\n",
    "\n",
    "\n",
    "    print(n_labels)\n",
    "\n",
    "    numbercluster = 0\n",
    "    size_thresh = 2\n",
    "    for i in range(1, n_labels):\n",
    "        if stats[i, cv2.CC_STAT_AREA] >= size_thresh:\n",
    "            #print(stats[i, cv2.CC_STAT_AREA])\n",
    "            x = stats[i, cv2.CC_STAT_LEFT]\n",
    "            y = stats[i, cv2.CC_STAT_TOP]\n",
    "            w = stats[i, cv2.CC_STAT_WIDTH]\n",
    "            h = stats[i, cv2.CC_STAT_HEIGHT]\n",
    "            cv2.rectangle(img, (x, y), (x+w, y+h), (0, 255, 0), thickness=1)\n",
    "            numbercluster += 1\n",
    "            \n",
    "    return (img, numbercluster)\n",
    "\n",
    "plt.imshow(img)\n",
    "print(numbercluster)"
   ]
  }
 ],
 "metadata": {
  "kernelspec": {
   "display_name": "Python 3",
   "language": "python",
   "name": "python3"
  },
  "language_info": {
   "codemirror_mode": {
    "name": "ipython",
    "version": 3
   },
   "file_extension": ".py",
   "mimetype": "text/x-python",
   "name": "python",
   "nbconvert_exporter": "python",
   "pygments_lexer": "ipython3",
   "version": "3.7.4"
  }
 },
 "nbformat": 4,
 "nbformat_minor": 4
}
